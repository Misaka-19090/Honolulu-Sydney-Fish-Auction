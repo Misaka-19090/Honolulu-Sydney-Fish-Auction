{
 "cells": [
  {
   "cell_type": "code",
   "execution_count": 2,
   "metadata": {},
   "outputs": [],
   "source": [
    "import pandas as pd\n",
    "import numpy as np\n",
    "import matplotlib.pyplot as plt\n",
    "import seaborn as sns\n",
    "from scipy import stats"
   ]
  },
  {
   "cell_type": "code",
   "execution_count": 3,
   "metadata": {},
   "outputs": [],
   "source": [
    "df_d = pd.read_csv(\"Dutch_paydiff_norm.csv\")\n",
    "df_h = pd.read_csv(\"Honolulu_paydiff_norm.csv\")\n",
    "# df_d = df_d[df_d[\"subsession.round_number\"] > 2]\n",
    "# df_h = df_h[df_h[\"subsession.round_number\"] > 2]"
   ]
  },
  {
   "attachments": {},
   "cell_type": "markdown",
   "metadata": {},
   "source": [
    "### Three price dynamics in Honolulu"
   ]
  },
  {
   "cell_type": "code",
   "execution_count": 3,
   "metadata": {},
   "outputs": [],
   "source": [
    "def priceDynamics(rmin, rmax, tol, is_actual):\n",
    "    dict_dynamics = {\n",
    "        (2, 0.009): dict(),\n",
    "        (2, 0.019): dict(),\n",
    "        (5, 0.009): dict(),\n",
    "        (5, 0.019): dict(),\n",
    "    }\n",
    "    tmpdf = df_h[(df_h[\"subsession.round_number\"] >= rmin) & (df_h[\"subsession.round_number\"] <= rmax)]\n",
    "    for index, row in tmpdf.iterrows():\n",
    "        key1 = (int(row[\"session.config.name\"][1]), row[\"session.config.discount_b\"])\n",
    "        key2 = (row[\"session.code\"], row[\"subsession.round_number\"], row[\"group.id_in_subsession\"])\n",
    "        if key2 not in dict_dynamics[key1].keys():\n",
    "            start_price = row[\"session.config.start_price\"]\n",
    "            \n",
    "            # actual price dynamics\n",
    "            if is_actual:\n",
    "                dutch_final_price = row[\"group.dutch_final_price\"]\n",
    "                num_contestant = row[\"group.have_contest_winner\"]\n",
    "            # predicted price dynamics\n",
    "            else:\n",
    "                dutch_final_price = row[\"predict.group.dutch_final_price\"]\n",
    "                num_contestant = df_h[(df_h[\"session.code\"] == row[\"session.code\"]) & (df_h[\"subsession.round_number\"] == row[\"subsession.round_number\"]) & (df_h[\"group.id_in_subsession\"] == row[\"group.id_in_subsession\"])][\"predict.player.contest_status\"].sum()\n",
    "\n",
    "            if (start_price - dutch_final_price <= tol):\n",
    "                if (num_contestant >= 2):\n",
    "                    dict_dynamics[key1][key2] = \"E\"\n",
    "                else:\n",
    "                    dict_dynamics[key1][key2] = \"D\"\n",
    "            else:\n",
    "                if (num_contestant >=2):\n",
    "                    dict_dynamics[key1][key2] = \"H\"\n",
    "                else:\n",
    "                    dict_dynamics[key1][key2] = \"D\"\n",
    "    print(\"2H\")\n",
    "    print(pd.value_counts(list(dict_dynamics[(2, 0.019)].values())))\n",
    "    print(\"2L\")\n",
    "    print(pd.value_counts(list(dict_dynamics[(2, 0.009)].values())))\n",
    "    print(\"5H\")\n",
    "    print(pd.value_counts(list(dict_dynamics[(5, 0.019)].values())))\n",
    "    print(\"5L\")\n",
    "    print(pd.value_counts(list(dict_dynamics[(5, 0.009)].values())))"
   ]
  },
  {
   "cell_type": "code",
   "execution_count": 4,
   "metadata": {},
   "outputs": [
    {
     "name": "stdout",
     "output_type": "stream",
     "text": [
      "2H\n",
      "H    222\n",
      "D    113\n",
      "E     25\n",
      "dtype: int64\n",
      "2L\n",
      "H    250\n",
      "D     77\n",
      "E     15\n",
      "dtype: int64\n",
      "5H\n",
      "H    135\n",
      "E     48\n",
      "D     27\n",
      "dtype: int64\n",
      "5L\n",
      "H    115\n",
      "E     56\n",
      "D     25\n",
      "dtype: int64\n"
     ]
    }
   ],
   "source": [
    "priceDynamics(3, 30, 2, is_actual=1)"
   ]
  },
  {
   "cell_type": "code",
   "execution_count": 5,
   "metadata": {},
   "outputs": [],
   "source": [
    "def signedRankTest(rmin, rmax, tol):\n",
    "    tmpdf = df_h[(df_h[\"subsession.round_number\"] >= rmin) & (df_h[\"subsession.round_number\"] <= rmax)]\n",
    "    actual_dict = dict()\n",
    "    predict_dict = dict()\n",
    "    for key in set(tmpdf[\"session.code\"]):\n",
    "        actual_dict[key] = dict()\n",
    "        predict_dict[key] = dict()\n",
    "    tmplist = []\n",
    "\n",
    "    for index, row in tmpdf.iterrows():\n",
    "        key1 = row[\"session.code\"]\n",
    "        key2 = (row[\"subsession.round_number\"], row[\"group.id_in_subsession\"])\n",
    "\n",
    "        if key2 not in actual_dict[key1].keys():\n",
    "            start_price = row[\"session.config.start_price\"]\n",
    "\n",
    "            actual_dutch_final_price = row[\"group.dutch_final_price\"]\n",
    "            actual_num_contestant = row[\"group.have_contest_winner\"]\n",
    "            if (start_price - actual_dutch_final_price <= tol):\n",
    "                if (actual_num_contestant >= 2):\n",
    "                    actual_dict[key1][key2] = \"E\"\n",
    "                else:\n",
    "                    actual_dict[key1][key2] = \"D\"\n",
    "            else:\n",
    "                if (actual_num_contestant >=2):\n",
    "                    actual_dict[key1][key2] = \"H\"\n",
    "                else:\n",
    "                    actual_dict[key1][key2] = \"D\"\n",
    "            \n",
    "            predict_dutch_final_price = row[\"predict.group.dutch_final_price\"]\n",
    "            predict_num_contestant = df_h[(df_h[\"session.code\"] == row[\"session.code\"]) & (df_h[\"subsession.round_number\"] == row[\"subsession.round_number\"]) & (df_h[\"group.id_in_subsession\"] == row[\"group.id_in_subsession\"])][\"predict.player.contest_status\"].sum()\n",
    "            if (start_price - predict_dutch_final_price <= tol):\n",
    "                if (predict_num_contestant >= 2):\n",
    "                    predict_dict[key1][key2] = \"E\"\n",
    "                else:\n",
    "                    predict_dict[key1][key2] = \"D\"\n",
    "            else:\n",
    "                if (predict_num_contestant >=2):\n",
    "                    predict_dict[key1][key2] = \"H\"\n",
    "                else:\n",
    "                    predict_dict[key1][key2] = \"D\"\n",
    "\n",
    "    for code in actual_dict.keys():\n",
    "        actual_H = sum(1 for x in actual_dict[code].values() if x == \"H\")\n",
    "        actual_D = sum(1 for x in actual_dict[code].values() if x == \"D\")\n",
    "        actual_E = sum(1 for x in actual_dict[code].values() if x == \"E\")\n",
    "        actual_all = len(actual_dict[code])\n",
    "        predict_H = sum(1 for x in predict_dict[code].values() if x == \"H\")\n",
    "        predict_D = sum(1 for x in predict_dict[code].values() if x == \"D\")\n",
    "        predict_E = sum(1 for x in predict_dict[code].values() if x == \"E\")\n",
    "        predict_all = len(predict_dict[code])\n",
    "        tmplist.append([\n",
    "            code,\n",
    "            actual_H / actual_all, predict_H / predict_all,\n",
    "            actual_D / actual_all, predict_D / predict_all,\n",
    "            actual_E / actual_all, predict_E / predict_all,\n",
    "        ])\n",
    "    testdf = pd.DataFrame(tmplist, columns=[\"treatment\", \"aH\", \"pH\", \"aD\", \"pD\", \"aE\", \"pE\"])\n",
    "\n",
    "    print(\"H ratio test\")\n",
    "    print(stats.wilcoxon(testdf[\"aH\"], testdf[\"pH\"], alternative=\"two-sided\"))\n",
    "    print(\"D ratio test\")\n",
    "    print(stats.wilcoxon(testdf[\"aD\"], testdf[\"pD\"], alternative=\"two-sided\"))\n",
    "    print(\"E ratio test\")\n",
    "    print(stats.wilcoxon(testdf[\"aE\"], testdf[\"pE\"], alternative=\"two-sided\"))"
   ]
  },
  {
   "cell_type": "code",
   "execution_count": 6,
   "metadata": {},
   "outputs": [
    {
     "name": "stdout",
     "output_type": "stream",
     "text": [
      "H ratio test\n",
      "WilcoxonResult(statistic=1.0, pvalue=0.0001220703125)\n",
      "D ratio test\n",
      "WilcoxonResult(statistic=22.5, pvalue=0.05947202707400474)\n",
      "E ratio test\n",
      "WilcoxonResult(statistic=0.0, pvalue=0.0009815397525216685)\n"
     ]
    },
    {
     "name": "stderr",
     "output_type": "stream",
     "text": [
      "c:\\Program Files\\Python39\\lib\\site-packages\\scipy\\stats\\morestats.py:2967: UserWarning: Exact p-value calculation does not work if there are ties. Switching to normal approximation.\n",
      "  warnings.warn(\"Exact p-value calculation does not work if there are \"\n"
     ]
    }
   ],
   "source": [
    "signedRankTest(3, 30, 2)"
   ]
  },
  {
   "cell_type": "code",
   "execution_count": 81,
   "metadata": {},
   "outputs": [],
   "source": [
    "def signedRankTestByTreatment(rmin, rmax, tol, n, b):\n",
    "    tmpdf = df_h[\n",
    "        (df_h[\"subsession.round_number\"] >= rmin) \n",
    "        & (df_h[\"subsession.round_number\"] <= rmax) \n",
    "        & (df_h[\"session.config.name\"].str.contains(\"0\"+str(n))) \n",
    "        #& (df_h[\"session.config.discount_b\"] == b)\n",
    "    ]\n",
    "    actual_dict = dict()\n",
    "    predict_dict = dict()\n",
    "    for key in set(tmpdf[\"session.code\"]):\n",
    "        actual_dict[key] = dict()\n",
    "        predict_dict[key] = dict()\n",
    "    tmplist = []\n",
    "\n",
    "    for index, row in tmpdf.iterrows():\n",
    "        key1 = row[\"session.code\"]\n",
    "        key2 = (row[\"subsession.round_number\"], row[\"group.id_in_subsession\"])\n",
    "\n",
    "        if key2 not in actual_dict[key1].keys():\n",
    "            start_price = row[\"session.config.start_price\"]\n",
    "\n",
    "            actual_dutch_final_price = row[\"group.dutch_final_price\"]\n",
    "            actual_num_contestant = row[\"group.have_contest_winner\"]\n",
    "            if (start_price - actual_dutch_final_price <= tol):\n",
    "                if (actual_num_contestant >= 2):\n",
    "                    actual_dict[key1][key2] = \"E\"\n",
    "                else:\n",
    "                    actual_dict[key1][key2] = \"D\"\n",
    "            else:\n",
    "                if (actual_num_contestant >=2):\n",
    "                    actual_dict[key1][key2] = \"H\"\n",
    "                else:\n",
    "                    actual_dict[key1][key2] = \"D\"\n",
    "            \n",
    "            predict_dutch_final_price = row[\"predict.group.dutch_final_price\"]\n",
    "            predict_num_contestant = df_h[(df_h[\"session.code\"] == row[\"session.code\"]) & (df_h[\"subsession.round_number\"] == row[\"subsession.round_number\"]) & (df_h[\"group.id_in_subsession\"] == row[\"group.id_in_subsession\"])][\"predict.player.contest_status\"].sum()\n",
    "            if (start_price - predict_dutch_final_price <= tol):\n",
    "                if (predict_num_contestant >= 2):\n",
    "                    predict_dict[key1][key2] = \"E\"\n",
    "                else:\n",
    "                    predict_dict[key1][key2] = \"D\"\n",
    "            else:\n",
    "                if (predict_num_contestant >=2):\n",
    "                    predict_dict[key1][key2] = \"H\"\n",
    "                else:\n",
    "                    predict_dict[key1][key2] = \"D\"\n",
    "\n",
    "    for code in actual_dict.keys():\n",
    "        actual_H = sum(1 for x in actual_dict[code].values() if x == \"H\")\n",
    "        actual_D = sum(1 for x in actual_dict[code].values() if x == \"D\")\n",
    "        actual_E = sum(1 for x in actual_dict[code].values() if x == \"E\")\n",
    "        actual_all = len(actual_dict[code])\n",
    "        predict_H = sum(1 for x in predict_dict[code].values() if x == \"H\")\n",
    "        predict_D = sum(1 for x in predict_dict[code].values() if x == \"D\")\n",
    "        predict_E = sum(1 for x in predict_dict[code].values() if x == \"E\")\n",
    "        predict_all = len(predict_dict[code])\n",
    "        tmplist.append([\n",
    "            code,\n",
    "            actual_H / actual_all, predict_H / predict_all,\n",
    "            actual_D / actual_all, predict_D / predict_all,\n",
    "            actual_E / actual_all, predict_E / predict_all,\n",
    "        ])\n",
    "    testdf= pd.DataFrame(tmplist, columns=[\"treatment\", \"aH\", \"pH\", \"aD\", \"pD\", \"aE\", \"pE\"])\n",
    "\n",
    "    print([n, b, len(testdf)])\n",
    "    print(\"H ratio test\")\n",
    "    print(stats.wilcoxon(testdf[\"aH\"], testdf[\"pH\"], alternative=\"greater\"))\n",
    "    print(\"D ratio test\")\n",
    "    print(stats.wilcoxon(testdf[\"aD\"], testdf[\"pD\"], alternative=\"less\"))\n",
    "    print(\"E ratio test\")\n",
    "    print(stats.wilcoxon(testdf[\"aE\"], testdf[\"pE\"], alternative=\"less\"))"
   ]
  },
  {
   "cell_type": "code",
   "execution_count": 84,
   "metadata": {},
   "outputs": [
    {
     "name": "stdout",
     "output_type": "stream",
     "text": [
      "[2, 0.009, 8]\n",
      "H ratio test\n",
      "WilcoxonResult(statistic=36.0, pvalue=0.00390625)\n",
      "D ratio test\n",
      "WilcoxonResult(statistic=11.0, pvalue=0.19140625)\n",
      "E ratio test\n",
      "WilcoxonResult(statistic=0.0, pvalue=0.00390625)\n"
     ]
    }
   ],
   "source": [
    "signedRankTestByTreatment(3, 30, 2, 2, 0.009)"
   ]
  },
  {
   "attachments": {},
   "cell_type": "markdown",
   "metadata": {},
   "source": [
    "### SD & WD decisions"
   ]
  },
  {
   "cell_type": "code",
   "execution_count": 35,
   "metadata": {},
   "outputs": [],
   "source": [
    "# strictly dominated decision: bid above the item value in pure Dutch auctions\n",
    "def tableSD(n, b, rmin, rmax, qmin, qmax, tol):\n",
    "    tmpdf = df_d[df_d[\"session.config.name\"].str.contains(str(n) + \"_\") & (df_d[\"session.config.discount_b\"] == b) & (df_d[\"subsession.round_number\"] >= rmin) & (df_d[\"subsession.round_number\"] <= rmax)]\n",
    "    qlist = tmpdf[\"paydiff_pct\"].unique()\n",
    "    tmpdf = tmpdf[(tmpdf[\"paydiff_pct\"] >= np.quantile(qlist, qmin)) & (tmpdf[\"paydiff_pct\"] <= np.quantile(qlist, qmax))]\n",
    "    \n",
    "    tmpdf_bid = tmpdf[tmpdf[\"player.is_dutch_winner\"] == 1]\n",
    "    \n",
    "    num_all_bid = len(tmpdf_bid)\n",
    "    num_sd_bid = np.sum(tmpdf_bid.apply(lambda x: x[\"group.dutch_final_price\"] > x[\"player.item_value\"] + tol, axis=1))\n",
    "    print(\"n_d\\tn_d_sd\\tpct\")\n",
    "    print(\"%d\\t%d\\t%.3f\" % (num_all_bid, num_sd_bid, num_sd_bid / num_all_bid))"
   ]
  },
  {
   "cell_type": "code",
   "execution_count": 12,
   "metadata": {},
   "outputs": [
    {
     "name": "stdout",
     "output_type": "stream",
     "text": [
      "n_d\tn_d_sd\tpct\n",
      "189\t0\t0.000\n",
      "n_d\tn_d_sd\tpct\n",
      "167\t0\t0.000\n",
      "n_d\tn_d_sd\tpct\n",
      "117\t0\t0.000\n",
      "n_d\tn_d_sd\tpct\n",
      "98\t0\t0.000\n"
     ]
    }
   ],
   "source": [
    "tableSD(2, 0.019, 3, 30, 0.501, 1, 2)\n",
    "tableSD(2, 0.009, 3, 30, 0.501, 1, 2)\n",
    "tableSD(5, 0.019, 3, 30, 0.501, 1, 2)\n",
    "tableSD(5, 0.009, 3, 30, 0.501, 1, 2)"
   ]
  },
  {
   "cell_type": "code",
   "execution_count": 8,
   "metadata": {},
   "outputs": [
    {
     "name": "stdout",
     "output_type": "stream",
     "text": [
      "n_d\tn_d_sd\tpct\n",
      "165\t9\t0.055\n",
      "n_d\tn_d_sd\tpct\n",
      "171\t1\t0.006\n",
      "n_d\tn_d_sd\tpct\n",
      "93\t2\t0.022\n",
      "n_d\tn_d_sd\tpct\n",
      "98\t15\t0.153\n"
     ]
    }
   ],
   "source": [
    "tableSD(2, 0.019, 3, 30, 0, 0.5, 2)\n",
    "tableSD(2, 0.009, 3, 30, 0, 0.5, 2)\n",
    "tableSD(5, 0.019, 3, 30, 0, 0.5, 2)\n",
    "tableSD(5, 0.009, 3, 30, 0, 0.5, 2)"
   ]
  },
  {
   "cell_type": "code",
   "execution_count": 21,
   "metadata": {},
   "outputs": [],
   "source": [
    "def undominatedRatioDutch(df, qmin, qmax, tol):\n",
    "    qlist = df[\"paydiff_pct\"].unique()\n",
    "    tmpdf = df[(df[\"paydiff_pct\"] >= np.quantile(qlist, qmin)) & (df[\"paydiff_pct\"] <= np.quantile(qlist, qmax))]\n",
    "\n",
    "    tmpdf_bid = tmpdf[tmpdf[\"player.is_dutch_winner\"] == 1]\n",
    "    \n",
    "    num_all_bid = len(tmpdf_bid)\n",
    "    num_sd_bid = np.sum(tmpdf_bid.apply(lambda x: x[\"group.dutch_final_price\"] > x[\"player.item_value\"] + tol, axis=1))\n",
    "\n",
    "    return (num_all_bid - num_sd_bid) / num_all_bid\n",
    "\n",
    "def signedRankUndominatedDutch(n, b, rmin, rmax, tol):\n",
    "    tmpdf = df_d[\n",
    "        #(df_d[\"session.config.name\"].str.contains(str(n) + \"_\")) \n",
    "        #& (df_d[\"session.config.discount_b\"] == b) \n",
    "        (df_d[\"subsession.round_number\"] >= rmin) \n",
    "        & (df_d[\"subsession.round_number\"] <= rmax)\n",
    "    ]\n",
    "    tmplist = []\n",
    "    for code in set(tmpdf[\"session.code\"]):\n",
    "        dfsession = tmpdf[tmpdf[\"session.code\"] == code]\n",
    "        ud_bid_top = undominatedRatioDutch(dfsession, 0.501, 1, tol)\n",
    "        ud_bid_bot = undominatedRatioDutch(dfsession, 0, 0.5, tol)\n",
    "        tmplist.append([code, ud_bid_top, ud_bid_bot])\n",
    "    testdf= pd.DataFrame(tmplist, columns=[\"treatment\", \"top\", \"bot\",])\n",
    "\n",
    "    print([n, b, len(testdf)])\n",
    "    print(stats.wilcoxon(testdf[\"top\"], testdf[\"bot\"], alternative=\"greater\"))\n",
    "    # print(stats.wilcoxon(testdf[\"top\"], testdf[\"bot\"], alternative=\"two-sided\"))"
   ]
  },
  {
   "cell_type": "code",
   "execution_count": 23,
   "metadata": {},
   "outputs": [
    {
     "name": "stdout",
     "output_type": "stream",
     "text": [
      "[5, 0.019, 15]\n",
      "WilcoxonResult(statistic=45.0, pvalue=0.003816220824102754)\n"
     ]
    },
    {
     "name": "stderr",
     "output_type": "stream",
     "text": [
      "c:\\Program Files\\Python39\\lib\\site-packages\\scipy\\stats\\morestats.py:2967: UserWarning: Exact p-value calculation does not work if there are ties. Switching to normal approximation.\n",
      "  warnings.warn(\"Exact p-value calculation does not work if there are \"\n",
      "c:\\Program Files\\Python39\\lib\\site-packages\\scipy\\stats\\morestats.py:2981: UserWarning: Sample size too small for normal approximation.\n",
      "  warnings.warn(\"Sample size too small for normal approximation.\")\n"
     ]
    }
   ],
   "source": [
    "signedRankUndominatedDutch(5, 0.019, 3, 30, 2)"
   ]
  },
  {
   "cell_type": "code",
   "execution_count": 42,
   "metadata": {},
   "outputs": [],
   "source": [
    "# weakly dominated decision: in Honolulu auctions, Dutch/contest stage bid above the item value, English stage early/late dropout\n",
    "def tableWD(n, b, rmin, rmax, qmin, qmax, tol):\n",
    "    tmpdf = df_h[df_h[\"session.config.name\"].str.contains(str(n) + \"_\") & (df_h[\"session.config.discount_b\"] == b) & (df_h[\"subsession.round_number\"] >= rmin) & (df_h[\"subsession.round_number\"] <= rmax)]\n",
    "    qlist = tmpdf[\"paydiff_pct\"].unique()\n",
    "    tmpdf = tmpdf[(tmpdf[\"paydiff_pct\"] >= np.quantile(qlist, qmin)) & (tmpdf[\"paydiff_pct\"] <= np.quantile(qlist, qmax))]\n",
    "    \n",
    "    tmpdf_dbid = tmpdf[tmpdf[\"player.is_dutch_winner\"] == 1]\n",
    "    tmpdf_cbid = tmpdf[(tmpdf[\"player.is_dutch_winner\"] == 0) & (tmpdf[\"player.contest_status\"] == 1)]\n",
    "    tmpdf_cleave = tmpdf[(tmpdf[\"player.is_dutch_winner\"] == 0) & (tmpdf[\"player.contest_status\"] != 1)]\n",
    "    tmpdf_eleave = tmpdf[(tmpdf[\"group.have_contest_winner\"] > 1) & (tmpdf[\"player.contest_status\"] == 1)]\n",
    "\n",
    "    # dutch stage bid\n",
    "    num_all_dbid = len(tmpdf_dbid)\n",
    "    num_wd_dbid = np.sum(tmpdf_dbid.apply(lambda x: x[\"group.dutch_final_price\"] > x[\"player.item_value\"] + tol, axis=1))\n",
    "\n",
    "    # contest stage bid\n",
    "    num_all_cbid = len(tmpdf_cbid)\n",
    "    num_cbid_above = np.sum(tmpdf_cbid.apply(lambda x: x[\"group.dutch_final_price\"] > x[\"player.item_value\"] + tol, axis=1))\n",
    "\n",
    "    # contest stage leave\n",
    "    num_all_cleave = len(tmpdf_cleave)\n",
    "    num_cleave_below = np.sum(tmpdf_cleave.apply(lambda x: x[\"group.dutch_final_price\"] < (x[\"player.item_value\"] - tol), axis=1))\n",
    "\n",
    "    # english stage leave\n",
    "    num_all_eleave = len(tmpdf_eleave)\n",
    "    num_eleave_below = np.sum(tmpdf_eleave.apply(lambda x: (x[\"player.dropout_price\"] < (x[\"player.item_value\"] - tol)) & (x[\"player.is_final_winner\"] == 0), axis=1))\n",
    "    num_eleave_above = np.sum(tmpdf_eleave.apply(lambda x: x[\"player.dropout_price\"] > (x[\"player.item_value\"] + tol), axis=1))\n",
    "    \n",
    "    # final outcome (dropout decision)\n",
    "    num_all_drop = len(tmpdf)\n",
    "    num_drop_below = np.sum(tmpdf.apply(lambda x: (x[\"player.dropout_price\"] < x[\"player.item_value\"] - tol) & (x[\"player.is_final_winner\"] == 0), axis=1))\n",
    "    num_actual_regret = np.sum(tmpdf.apply(lambda x: (x[\"group.final_price\"] < x[\"player.item_value\"] - tol) & (x[\"player.is_final_winner\"] == 0), axis=1))\n",
    "    num_drop_above = np.sum(tmpdf.apply(lambda x: (x[\"player.dropout_price\"] > x[\"player.item_value\"] + tol) & (x[\"player.contest_status\"] == 1), axis=1))\n",
    "    num_actual_loss = np.sum(tmpdf.apply(lambda x: (x[\"group.final_price\"] > x[\"player.item_value\"] + tol) & (x[\"player.is_final_winner\"] == 1), axis=1))\n",
    "    \n",
    "    print(\"n_d\\tn_d_wd\\tpct\\tn_cl\\tn_cl_b\\tpct\\tn_cb\\tn_cb_a\\tpct\\tn_e\\tn_e_b\\tpct\\tn_e_a\\tpct\\t\")\n",
    "    print(\"%d\\t%d\\t%.3f\\t%d\\t%d\\t%.3f\\t%d\\t%d\\t%.3f\\t%d\\t%d\\t%.3f\\t%d\\t%.3f\\t\" % (\n",
    "        num_all_dbid, num_wd_dbid, num_wd_dbid / num_all_dbid,\n",
    "        num_all_cleave, num_cleave_below, num_cleave_below / num_all_cleave, num_all_cbid, num_cbid_above, num_cbid_above / num_all_cbid,\n",
    "        num_all_eleave, num_eleave_below, num_eleave_below / num_all_eleave, num_eleave_above, num_eleave_above / num_all_eleave,\n",
    "        \n",
    "    ))\n",
    "    print(\"n_dp\\tn_dp_b\\tpct\\tn_dp_bb\\tpct\\tn_dp_a\\tpct\\tn_dp_aa\\tpct\")\n",
    "    print(\"%d\\t%d\\t%.3f\\t%d\\t%.3f\\t%d\\t%.3f\\t%d\\t%.3f\" % (\n",
    "        num_all_drop,\n",
    "        num_drop_below, num_drop_below / num_all_drop, num_actual_regret, num_actual_regret / num_drop_below,\n",
    "        num_drop_above, num_drop_above / num_all_drop, num_actual_loss, num_actual_loss / num_drop_above,\n",
    "    ))\n",
    "    print(\"\")"
   ]
  },
  {
   "cell_type": "code",
   "execution_count": 43,
   "metadata": {},
   "outputs": [
    {
     "name": "stdout",
     "output_type": "stream",
     "text": [
      "n_d\tn_d_wd\tpct\tn_cl\tn_cl_b\tpct\tn_cb\tn_cb_a\tpct\tn_e\tn_e_b\tpct\tn_e_a\tpct\t\n",
      "181\t0\t0.000\t65\t7\t0.108\t114\t0\t0.000\t225\t16\t0.071\t5\t0.022\t\n",
      "n_dp\tn_dp_b\tpct\tn_dp_bb\tpct\tn_dp_a\tpct\tn_dp_aa\tpct\n",
      "360\t23\t0.064\t23\t1.000\t5\t0.014\t0\t0.000\n",
      "\n",
      "n_d\tn_d_wd\tpct\tn_cl\tn_cl_b\tpct\tn_cb\tn_cb_a\tpct\tn_e\tn_e_b\tpct\tn_e_a\tpct\t\n",
      "147\t0\t0.000\t41\t12\t0.293\t154\t0\t0.000\t264\t26\t0.098\t3\t0.011\t\n",
      "n_dp\tn_dp_b\tpct\tn_dp_bb\tpct\tn_dp_a\tpct\tn_dp_aa\tpct\n",
      "342\t38\t0.111\t38\t1.000\t3\t0.009\t1\t0.333\n",
      "\n",
      "n_d\tn_d_wd\tpct\tn_cl\tn_cl_b\tpct\tn_cb\tn_cb_a\tpct\tn_e\tn_e_b\tpct\tn_e_a\tpct\t\n",
      "97\t1\t0.010\t236\t7\t0.030\t155\t5\t0.032\t238\t13\t0.055\t7\t0.029\t\n",
      "n_dp\tn_dp_b\tpct\tn_dp_bb\tpct\tn_dp_a\tpct\tn_dp_aa\tpct\n",
      "488\t20\t0.041\t13\t0.650\t7\t0.014\t0\t0.000\n",
      "\n",
      "n_d\tn_d_wd\tpct\tn_cl\tn_cl_b\tpct\tn_cb\tn_cb_a\tpct\tn_e\tn_e_b\tpct\tn_e_a\tpct\t\n",
      "99\t1\t0.010\t220\t6\t0.027\t157\t1\t0.006\t244\t8\t0.033\t10\t0.041\t\n",
      "n_dp\tn_dp_b\tpct\tn_dp_bb\tpct\tn_dp_a\tpct\tn_dp_aa\tpct\n",
      "476\t14\t0.029\t7\t0.500\t10\t0.021\t1\t0.100\n",
      "\n"
     ]
    }
   ],
   "source": [
    "tableWD(2, 0.019, rmin=3, rmax=30, qmin=0.501, qmax=1, tol=2)\n",
    "tableWD(2, 0.009, rmin=3, rmax=30, qmin=0.501, qmax=1, tol=2)\n",
    "tableWD(5, 0.019, rmin=3, rmax=30, qmin=0.501, qmax=1, tol=2)\n",
    "tableWD(5, 0.009, rmin=3, rmax=30, qmin=0.501, qmax=1, tol=2)"
   ]
  },
  {
   "cell_type": "code",
   "execution_count": 44,
   "metadata": {},
   "outputs": [
    {
     "name": "stdout",
     "output_type": "stream",
     "text": [
      "n_d\tn_d_wd\tpct\tn_cl\tn_cl_b\tpct\tn_cb\tn_cb_a\tpct\tn_e\tn_e_b\tpct\tn_e_a\tpct\t\n",
      "153\t9\t0.059\t49\t12\t0.245\t158\t6\t0.038\t269\t41\t0.152\t22\t0.082\t\n",
      "n_dp\tn_dp_b\tpct\tn_dp_bb\tpct\tn_dp_a\tpct\tn_dp_aa\tpct\n",
      "360\t53\t0.147\t53\t1.000\t25\t0.069\t11\t0.440\n",
      "\n",
      "n_d\tn_d_wd\tpct\tn_cl\tn_cl_b\tpct\tn_cb\tn_cb_a\tpct\tn_e\tn_e_b\tpct\tn_e_a\tpct\t\n",
      "166\t1\t0.006\t37\t12\t0.324\t139\t0\t0.000\t266\t29\t0.109\t12\t0.045\t\n",
      "n_dp\tn_dp_b\tpct\tn_dp_bb\tpct\tn_dp_a\tpct\tn_dp_aa\tpct\n",
      "342\t41\t0.120\t41\t1.000\t13\t0.038\t6\t0.462\n",
      "\n",
      "n_d\tn_d_wd\tpct\tn_cl\tn_cl_b\tpct\tn_cb\tn_cb_a\tpct\tn_e\tn_e_b\tpct\tn_e_a\tpct\t\n",
      "113\t3\t0.027\t251\t12\t0.048\t198\t24\t0.121\t298\t23\t0.077\t45\t0.151\t\n",
      "n_dp\tn_dp_b\tpct\tn_dp_bb\tpct\tn_dp_a\tpct\tn_dp_aa\tpct\n",
      "562\t35\t0.062\t21\t0.600\t45\t0.080\t6\t0.133\n",
      "\n",
      "n_d\tn_d_wd\tpct\tn_cl\tn_cl_b\tpct\tn_cb\tn_cb_a\tpct\tn_e\tn_e_b\tpct\tn_e_a\tpct\t\n",
      "97\t5\t0.052\t231\t11\t0.048\t176\t1\t0.006\t260\t27\t0.104\t25\t0.096\t\n",
      "n_dp\tn_dp_b\tpct\tn_dp_bb\tpct\tn_dp_a\tpct\tn_dp_aa\tpct\n",
      "504\t38\t0.075\t24\t0.632\t25\t0.050\t6\t0.240\n",
      "\n"
     ]
    }
   ],
   "source": [
    "tableWD(2, 0.019, rmin=3, rmax=30, qmin=0, qmax=0.5, tol=2)\n",
    "tableWD(2, 0.009, rmin=3, rmax=30, qmin=0, qmax=0.5, tol=2)\n",
    "tableWD(5, 0.019, rmin=3, rmax=30, qmin=0, qmax=0.5, tol=2)\n",
    "tableWD(5, 0.009, rmin=3, rmax=30, qmin=0, qmax=0.5, tol=2)"
   ]
  },
  {
   "cell_type": "code",
   "execution_count": 19,
   "metadata": {},
   "outputs": [],
   "source": [
    "def undominatedRatioHonolulu(df, qmin, qmax, tol):\n",
    "    qlist = df[\"paydiff_pct\"].unique()\n",
    "    tmpdf = df[(df[\"paydiff_pct\"] >= np.quantile(qlist, qmin)) & (df[\"paydiff_pct\"] <= np.quantile(qlist, qmax))]\n",
    "    \n",
    "    tmpdf_dbid = tmpdf[tmpdf[\"player.is_dutch_winner\"] == 1]\n",
    "    tmpdf_cbid = tmpdf[(tmpdf[\"player.is_dutch_winner\"] == 0) & (tmpdf[\"player.contest_status\"] == 1)]\n",
    "    tmpdf_cleave = tmpdf[(tmpdf[\"player.is_dutch_winner\"] == 0) & (tmpdf[\"player.contest_status\"] != 1)]\n",
    "    tmpdf_eleave = tmpdf[(tmpdf[\"group.have_contest_winner\"] > 1) & (tmpdf[\"player.contest_status\"] == 1)]\n",
    "\n",
    "    num_all_dbid = len(tmpdf_dbid)\n",
    "    num_wd_dbid = np.sum(tmpdf_dbid.apply(lambda x: x[\"group.dutch_final_price\"] > x[\"player.item_value\"] + tol, axis=1))\n",
    "\n",
    "    num_all_cbid = len(tmpdf_cbid)\n",
    "    num_cbid_above = np.sum(tmpdf_cbid.apply(lambda x: x[\"group.dutch_final_price\"] > x[\"player.item_value\"] + tol, axis=1))\n",
    "\n",
    "    num_all_cleave = len(tmpdf_cleave)\n",
    "    num_cleave_below = np.sum(tmpdf_cleave.apply(lambda x: x[\"group.dutch_final_price\"] < (x[\"player.item_value\"] - tol), axis=1))\n",
    "\n",
    "    num_all_eleave = len(tmpdf_eleave)\n",
    "    num_eleave_below = np.sum(tmpdf_eleave.apply(lambda x: (x[\"player.dropout_price\"] < (x[\"player.item_value\"] - tol)) & (x[\"player.is_final_winner\"] == 0), axis=1))\n",
    "    num_eleave_above = np.sum(tmpdf_eleave.apply(lambda x: x[\"player.dropout_price\"] > (x[\"player.item_value\"] + tol), axis=1))\n",
    "    \n",
    "    num_all_drop = len(tmpdf)\n",
    "    num_drop_below = np.sum(tmpdf.apply(lambda x: (x[\"player.dropout_price\"] < x[\"player.item_value\"] - tol) & (x[\"player.is_final_winner\"] == 0), axis=1))\n",
    "    num_actual_regret = np.sum(tmpdf.apply(lambda x: (x[\"group.final_price\"] < x[\"player.item_value\"] - tol) & (x[\"player.is_final_winner\"] == 0), axis=1))\n",
    "    num_drop_above = np.sum(tmpdf.apply(lambda x: (x[\"player.dropout_price\"] > x[\"player.item_value\"] + tol) & (x[\"player.contest_status\"] == 1), axis=1))\n",
    "    num_actual_loss = np.sum(tmpdf.apply(lambda x: (x[\"group.final_price\"] > x[\"player.item_value\"] + tol) & (x[\"player.is_final_winner\"] == 1), axis=1))\n",
    "\n",
    "    return (\n",
    "        (num_all_dbid - num_wd_dbid) / num_all_dbid, \n",
    "        (num_all_cbid - num_cbid_above) / num_all_cbid, \n",
    "        (num_all_cleave - num_cleave_below) / num_all_cleave,\n",
    "        (num_all_eleave - num_eleave_below - num_eleave_above) / num_all_eleave,\n",
    "        (num_all_drop - num_drop_below - num_drop_above) / num_all_drop,\n",
    "    )\n",
    "\n",
    "def signedRankUndominatedHonolulu(n, b, rmin, rmax, tol):\n",
    "    tmpdf = df_h[\n",
    "        (df_h[\"session.config.name\"].str.contains(str(n) + \"_\")) \n",
    "        & (df_h[\"session.config.discount_b\"] == b) \n",
    "        & (df_h[\"subsession.round_number\"] >= rmin) \n",
    "        & (df_h[\"subsession.round_number\"] <= rmax)\n",
    "    ]\n",
    "    tmplist = []\n",
    "    for code in set(tmpdf[\"session.code\"]):\n",
    "        dfsession = tmpdf[tmpdf[\"session.code\"] == code]\n",
    "        ud_dbid_top, ud_cbid_top, ud_cleave_top, ud_eleave_top, ud_drop_top = undominatedRatioHonolulu(dfsession, 0.501, 1, tol)\n",
    "        ud_dbid_bot, ud_cbid_bot, ud_cleave_bot, ud_eleave_bot, ud_drop_bot = undominatedRatioHonolulu(dfsession, 0, 0.5, tol)\n",
    "        tmplist.append([\n",
    "            code, \n",
    "            ud_dbid_top, ud_cleave_top, ud_cbid_top, ud_eleave_top, ud_drop_top, \n",
    "            ud_dbid_bot, ud_cleave_bot, ud_cbid_bot, ud_eleave_bot, ud_drop_bot,\n",
    "        ])\n",
    "    testdf= pd.DataFrame(tmplist, columns=[\n",
    "        \"treatment\", \n",
    "        \"dbid_top\", \"cleave_top\", \"cbid_top\", \"eleave_top\", \"drop_top\",\n",
    "        \"dbid_bot\", \"cleave_bot\", \"cbid_bot\", \"eleave_bot\", \"drop_bot\",\n",
    "    ])\n",
    "\n",
    "    print([n, b, len(testdf)])\n",
    "    print(stats.wilcoxon(testdf[\"dbid_top\"], testdf[\"dbid_bot\"], alternative=\"greater\"))\n",
    "    print(stats.wilcoxon(testdf[\"cleave_top\"], testdf[\"cleave_bot\"], alternative=\"greater\"))\n",
    "    print(stats.wilcoxon(testdf[\"cbid_top\"], testdf[\"cbid_bot\"], alternative=\"greater\")) # not applicable for 2L\n",
    "    print(stats.wilcoxon(testdf[\"eleave_top\"], testdf[\"eleave_bot\"], alternative=\"greater\"))\n",
    "    print(stats.wilcoxon(testdf[\"drop_top\"], testdf[\"drop_bot\"], alternative=\"greater\"))\n",
    "    # print(stats.wilcoxon(testdf[\"dbid_top\"], testdf[\"dbid_bot\"], alternative=\"two-sided\"))\n",
    "    # print(stats.wilcoxon(testdf[\"cleave_top\"], testdf[\"cleave_bot\"], alternative=\"two-sided\"))\n",
    "    # print(stats.wilcoxon(testdf[\"cbid_top\"], testdf[\"cbid_bot\"], alternative=\"two-sided\"))\n",
    "    # print(stats.wilcoxon(testdf[\"eleave_top\"], testdf[\"eleave_bot\"], alternative=\"two-sided\"))\n",
    "    # print(stats.wilcoxon(testdf[\"drop_top\"], testdf[\"drop_bot\"], alternative=\"two-sided\"))"
   ]
  },
  {
   "cell_type": "code",
   "execution_count": 20,
   "metadata": {},
   "outputs": [
    {
     "name": "stdout",
     "output_type": "stream",
     "text": [
      "[5, 0.019, 4]\n",
      "WilcoxonResult(statistic=2.0, pvalue=0.32736042300928847)\n",
      "WilcoxonResult(statistic=6.0, pvalue=0.4375)\n",
      "WilcoxonResult(statistic=8.0, pvalue=0.1875)\n",
      "WilcoxonResult(statistic=10.0, pvalue=0.0625)\n",
      "WilcoxonResult(statistic=10.0, pvalue=0.0625)\n"
     ]
    },
    {
     "name": "stderr",
     "output_type": "stream",
     "text": [
      "c:\\Program Files\\Python39\\lib\\site-packages\\scipy\\stats\\morestats.py:2967: UserWarning: Exact p-value calculation does not work if there are ties. Switching to normal approximation.\n",
      "  warnings.warn(\"Exact p-value calculation does not work if there are \"\n",
      "c:\\Program Files\\Python39\\lib\\site-packages\\scipy\\stats\\morestats.py:2981: UserWarning: Sample size too small for normal approximation.\n",
      "  warnings.warn(\"Sample size too small for normal approximation.\")\n"
     ]
    }
   ],
   "source": [
    "signedRankUndominatedHonolulu(5, 0.019, 3, 30, 2)"
   ]
  },
  {
   "attachments": {},
   "cell_type": "markdown",
   "metadata": {},
   "source": [
    "### Individual SD & WD rate"
   ]
  },
  {
   "cell_type": "code",
   "execution_count": 3,
   "metadata": {},
   "outputs": [],
   "source": [
    "def dictBidderSD(n, b, rmin, rmax, qmin, qmax):\n",
    "    tmpdict = dict()\n",
    "    tmpdf0 = df_d[df_d[\"session.config.name\"].str.contains(str(n) + \"_\") & (df_d[\"session.config.discount_b\"] == b) & (df_d[\"subsession.round_number\"] >= rmin) & (df_d[\"subsession.round_number\"] <= rmax)]\n",
    "    qlist = tmpdf0[\"paydiff_pct\"].unique()\n",
    "    tmpdf0 = tmpdf0[(tmpdf0[\"paydiff_pct\"] >= np.quantile(qlist, qmin)) & (tmpdf0[\"paydiff_pct\"] <= np.quantile(qlist, qmax))]\n",
    "    plist = tmpdf0[\"participant.code\"].unique()\n",
    "    for pcode in plist:\n",
    "        tmpdict[pcode] = dict()\n",
    "        tmpdf = tmpdf0[tmpdf0[\"participant.code\"] == pcode]\n",
    "        tmpdf_bid = tmpdf[tmpdf[\"player.is_dutch_winner\"] == 1]\n",
    "        num_all_bid = len(tmpdf_bid)\n",
    "        num_sd_bid = np.sum(tmpdf_bid.apply(lambda x: x[\"group.dutch_final_price\"] > x[\"player.item_value\"], axis=1))\n",
    "        tmpdict[pcode][\"num_all_bid\"] = num_all_bid\n",
    "        tmpdict[pcode][\"num_sd_bid\"] = num_sd_bid\n",
    "    return tmpdict"
   ]
  },
  {
   "cell_type": "code",
   "execution_count": 4,
   "metadata": {},
   "outputs": [],
   "source": [
    "def dictBidderWD(n, b, rmin, rmax, qmin, qmax, tol):\n",
    "    tmpdict = dict()\n",
    "    tmpdf0 = df_h[df_h[\"session.config.name\"].str.contains(str(n) + \"_\") & (df_h[\"session.config.discount_b\"] == b) & (df_h[\"subsession.round_number\"] >= rmin) & (df_h[\"subsession.round_number\"] <= rmax)]\n",
    "    qlist = tmpdf0[\"paydiff_pct\"].unique()\n",
    "    tmpdf0 = tmpdf0[(tmpdf0[\"paydiff_pct\"] >= np.quantile(qlist, qmin)) & (tmpdf0[\"paydiff_pct\"] <= np.quantile(qlist, qmax))]\n",
    "    plist = tmpdf0[\"participant.code\"].unique()\n",
    "    for pcode in plist:\n",
    "        tmpdict[pcode] = dict()\n",
    "        tmpdf = tmpdf0[tmpdf0[\"participant.code\"] == pcode]\n",
    "        tmpdf_dbid = tmpdf[tmpdf[\"player.is_dutch_winner\"] == 1]\n",
    "        tmpdf_cbid = tmpdf[(tmpdf[\"player.is_dutch_winner\"] == 0) & (tmpdf[\"player.contest_status\"] == 1)]\n",
    "        tmpdf_cleave = tmpdf[(tmpdf[\"player.is_dutch_winner\"] == 0) & (tmpdf[\"player.contest_status\"] != 1)]\n",
    "        tmpdf_eleave = tmpdf[(tmpdf[\"group.have_contest_winner\"] > 1) & (tmpdf[\"player.contest_status\"] == 1)]\n",
    "    \n",
    "        num_all_dbid = len(tmpdf_dbid)\n",
    "        num_wd_dbid = np.sum(tmpdf_dbid.apply(lambda x: x[\"group.dutch_final_price\"] > x[\"player.item_value\"], axis=1))\n",
    "    \n",
    "        num_all_cbid = len(tmpdf_cbid)\n",
    "        num_cbid_above = np.sum(tmpdf_cbid.apply(lambda x: x[\"group.dutch_final_price\"] > x[\"player.item_value\"], axis=1))\n",
    "    \n",
    "        num_all_cleave = len(tmpdf_cleave)\n",
    "        num_cleave_below = np.sum(tmpdf_cleave.apply(lambda x: x[\"group.dutch_final_price\"] < (x[\"player.item_value\"] - tol), axis=1))\n",
    "    \n",
    "        num_all_eleave = len(tmpdf_eleave)\n",
    "        num_eleave_below = np.sum(tmpdf_eleave.apply(lambda x: (x[\"player.dropout_price\"] < (x[\"player.item_value\"] - tol)) & (x[\"player.is_final_winner\"] == 0), axis=1))\n",
    "        num_eleave_above = np.sum(tmpdf_eleave.apply(lambda x: x[\"player.dropout_price\"] > (x[\"player.item_value\"] + tol), axis=1))\n",
    "\n",
    "        tmpdict[pcode][\"num_all_dbid\"] = num_all_dbid\n",
    "        tmpdict[pcode][\"num_wd_dbid\"] = num_wd_dbid\n",
    "        tmpdict[pcode][\"num_all_cbid\"] = num_all_cbid\n",
    "        tmpdict[pcode][\"num_cbid_above\"] = num_cbid_above\n",
    "        tmpdict[pcode][\"num_all_cleave\"] = num_all_cleave\n",
    "        tmpdict[pcode][\"num_cleave_below\"] = num_cleave_below\n",
    "        tmpdict[pcode][\"num_all_eleave\"] = num_all_eleave\n",
    "        tmpdict[pcode][\"num_eleave_below\"] = num_eleave_below\n",
    "        tmpdict[pcode][\"num_eleave_above\"] = num_eleave_above\n",
    "\n",
    "    return tmpdict"
   ]
  },
  {
   "cell_type": "code",
   "execution_count": 27,
   "metadata": {},
   "outputs": [],
   "source": [
    "def bidderSDDist(n, b, rmin, rmax, qmin, qmax):\n",
    "    tmplist = []\n",
    "    tmpdict = dictBidderSD(n, b, rmin, rmax, qmin, qmax)\n",
    "    for key in tmpdict.keys():\n",
    "        if tmpdict[key][\"num_all_bid\"] > 0:\n",
    "            tmplist.append(tmpdict[key][\"num_sd_bid\"])\n",
    "            # tmplist.append(tmpdict[key][\"num_sd_bid\"] / tmpdict[key][\"num_all_bid\"])\n",
    "        else:\n",
    "            tmplist.append(0)\n",
    "    sns.histplot(tmplist, bins=np.arange(-0.5, 11, 1), stat=\"density\")\n",
    "    plt.xlabel(\"Individual SD decision count\")\n",
    "    plt.ylim(0, 1)\n",
    "    plt.title(str(n) + (\"L\" if b == 0.009 else \"H\"))"
   ]
  },
  {
   "cell_type": "code",
   "execution_count": 28,
   "metadata": {},
   "outputs": [
    {
     "data": {
      "image/png": "[encoded data removed]",
      "text/plain": [
       "<Figure size 720x576 with 4 Axes>"
      ]
     },
     "metadata": {
      "needs_background": "light"
     },
     "output_type": "display_data"
    }
   ],
   "source": [
    "plt.figure(figsize=(10, 8))\n",
    "plt.subplots_adjust(hspace=0.3, wspace=0.2)\n",
    "plt.subplot(2, 2, 1)\n",
    "bidderSDDist(2, 0.019, rmin=3, rmax=30, qmin=0, qmax=1)\n",
    "plt.subplot(2, 2, 3)\n",
    "bidderSDDist(2, 0.009, rmin=3, rmax=30, qmin=0, qmax=1)\n",
    "plt.subplot(2, 2, 2)\n",
    "bidderSDDist(5, 0.019, rmin=3, rmax=30, qmin=0, qmax=1)\n",
    "plt.subplot(2, 2, 4)\n",
    "bidderSDDist(5, 0.009, rmin=3, rmax=30, qmin=0, qmax=1)"
   ]
  },
  {
   "cell_type": "code",
   "execution_count": 29,
   "metadata": {},
   "outputs": [],
   "source": [
    "def bidderWDDist(n, b, rmin, rmax, qmin, qmax, tol):\n",
    "    dabovelist, cbelowlist, cabovelist, ebelowlist, eabovelist = [], [], [], [], []\n",
    "    tmpdict = dictBidderWD(n, b, rmin, rmax, qmin, qmax, tol)\n",
    "    for key in tmpdict.keys():\n",
    "        if tmpdict[key][\"num_all_dbid\"] > 0:\n",
    "            dabovelist.append(tmpdict[key][\"num_wd_dbid\"])\n",
    "            # dabovelist.append(tmpdict[key][\"num_wd_dbid\"] / tmpdict[key][\"num_all_dbid\"])\n",
    "        else:\n",
    "            dabovelist.append(0)\n",
    "        if tmpdict[key][\"num_all_cleave\"] > 0:\n",
    "            cbelowlist.append(tmpdict[key][\"num_cleave_below\"] / tmpdict[key][\"num_all_cleave\"])\n",
    "        else:\n",
    "            cbelowlist.append(0)\n",
    "        if tmpdict[key][\"num_all_cbid\"] > 0:\n",
    "            cabovelist.append(tmpdict[key][\"num_cbid_above\"] / tmpdict[key][\"num_all_cbid\"])\n",
    "        else:\n",
    "            cabovelist.append(0)\n",
    "        if tmpdict[key][\"num_all_eleave\"] > 0:\n",
    "            ebelowlist.append(tmpdict[key][\"num_eleave_below\"] / tmpdict[key][\"num_all_eleave\"])\n",
    "        else:\n",
    "            ebelowlist.append(0)\n",
    "        if tmpdict[key][\"num_all_eleave\"] > 0:\n",
    "            eabovelist.append(tmpdict[key][\"num_eleave_above\"] / tmpdict[key][\"num_all_eleave\"])\n",
    "        else:\n",
    "            eabovelist.append(0)\n",
    "    plt.subplot(1, 3, 1)\n",
    "    sns.histplot(dabovelist, bins=np.arange(-0.5, 11, 1), stat=\"density\", label=\"dutch bid above\")\n",
    "    plt.xlabel(\"Individual WD decision count\")\n",
    "    plt.ylim(0, 1)\n",
    "    plt.legend()\n",
    "    plt.subplot(1, 3, 2)\n",
    "    sns.histplot(cbelowlist, bins=np.arange(0, 1.1, 0.1), stat=\"density\", label=\"contest leave below\", edgecolor=None, alpha=0.4)\n",
    "    sns.histplot(cabovelist, bins=np.arange(0, 1.1, 0.1), stat=\"density\", label=\"contest bid above\", element=\"step\", fill=False)\n",
    "    plt.xlabel(\"WD ratio\")\n",
    "    plt.ylim(0, 10)\n",
    "    plt.legend()\n",
    "    plt.subplot(1, 3, 3)\n",
    "    sns.histplot(ebelowlist, bins=np.arange(0, 1.1, 0.1), stat=\"density\", label=\"english leave below\", edgecolor=None, alpha=0.4)\n",
    "    sns.histplot(eabovelist, bins=np.arange(0, 1.1, 0.1), stat=\"density\", label=\"english leave early\", element=\"step\", fill=False)\n",
    "    plt.xlabel(\"WD ratio\")\n",
    "    plt.ylim(0, 10)\n",
    "    plt.legend()\n",
    "    plt.suptitle(str(n) + (\"L\" if b == 0.009 else \"H\"))"
   ]
  },
  {
   "cell_type": "code",
   "execution_count": 30,
   "metadata": {},
   "outputs": [
    {
     "data": {
      "image/png": "[encoded data removed]",
      "text/plain": [
       "<Figure size 1080x288 with 3 Axes>"
      ]
     },
     "metadata": {
      "needs_background": "light"
     },
     "output_type": "display_data"
    },
    {
     "data": {
      "image/png": "[encoded data removed]",
      "text/plain": [
       "<Figure size 1080x288 with 3 Axes>"
      ]
     },
     "metadata": {
      "needs_background": "light"
     },
     "output_type": "display_data"
    },
    {
     "data": {
      "image/png": "[encoded data removed]",
      "text/plain": [
       "<Figure size 1080x288 with 3 Axes>"
      ]
     },
     "metadata": {
      "needs_background": "light"
     },
     "output_type": "display_data"
    },
    {
     "data": {
      "image/png": "[encoded data removed]",
      "text/plain": [
       "<Figure size 1080x288 with 3 Axes>"
      ]
     },
     "metadata": {
      "needs_background": "light"
     },
     "output_type": "display_data"
    }
   ],
   "source": [
    "plt.figure(figsize=(15, 4))\n",
    "bidderWDDist(2, 0.019, rmin=3, rmax=30, qmin=0, qmax=1, tol=2)\n",
    "plt.figure(figsize=(15, 4))\n",
    "bidderWDDist(2, 0.009, rmin=3, rmax=30, qmin=0, qmax=1, tol=2)\n",
    "plt.figure(figsize=(15, 4))\n",
    "bidderWDDist(5, 0.019, rmin=3, rmax=30, qmin=0, qmax=1, tol=2)\n",
    "plt.figure(figsize=(15, 4))\n",
    "bidderWDDist(5, 0.009, rmin=3, rmax=30, qmin=0, qmax=1, tol=2)"
   ]
  },
  {
   "cell_type": "code",
   "execution_count": 10,
   "metadata": {},
   "outputs": [],
   "source": [
    "def countAlwaysRational(n, b, rmin, rmax, qmin, qmax, tol, counttol):\n",
    "    tmpdictSD = dictBidderSD(n, b, rmin, rmax, qmin, qmax)\n",
    "    tmpdictWD = dictBidderWD(n, b, rmin, rmax, qmin, qmax, tol)\n",
    "    num_noSDWD = 0\n",
    "    num_all = len(tmpdictSD.keys())\n",
    "    for key in tmpdictSD.keys():\n",
    "        if (tmpdictSD[key][\"num_sd_bid\"] <= counttol) & (tmpdictWD[key][\"num_wd_dbid\"] <= counttol) & (tmpdictWD[key][\"num_cleave_below\"] <= counttol) & (tmpdictWD[key][\"num_cbid_above\"] <= counttol) & (tmpdictWD[key][\"num_eleave_below\"] <= counttol) & (tmpdictWD[key][\"num_eleave_above\"] <= counttol):\n",
    "            num_noSDWD += 1\n",
    "    print(str(n) + (\"L\" if b == 0.009 else \"H\") + \"\\trational\\tall\")\n",
    "    print(\"\\t%d\\t\\t%d\" % (num_noSDWD, num_all))"
   ]
  },
  {
   "cell_type": "code",
   "execution_count": 11,
   "metadata": {},
   "outputs": [
    {
     "name": "stdout",
     "output_type": "stream",
     "text": [
      "2H\trational\tall\n",
      "\t24\t\t40\n",
      "2L\trational\tall\n",
      "\t20\t\t38\n",
      "5H\trational\tall\n",
      "\t28\t\t45\n",
      "5L\trational\tall\n",
      "\t19\t\t35\n"
     ]
    }
   ],
   "source": [
    "countAlwaysRational(2, 0.019, rmin=3, rmax=30, qmin=0, qmax=1, tol=2, counttol=1)\n",
    "countAlwaysRational(2, 0.009, rmin=3, rmax=30, qmin=0, qmax=1, tol=2, counttol=1)\n",
    "countAlwaysRational(5, 0.019, rmin=3, rmax=30, qmin=0, qmax=1, tol=2, counttol=1)\n",
    "countAlwaysRational(5, 0.009, rmin=3, rmax=30, qmin=0, qmax=1, tol=2, counttol=1)"
   ]
  }
 ],
 "metadata": {
  "kernelspec": {
   "display_name": "Python 3",
   "language": "python",
   "name": "python3"
  },
  "language_info": {
   "codemirror_mode": {
    "name": "ipython",
    "version": 3
   },
   "file_extension": ".py",
   "mimetype": "text/x-python",
   "name": "python",
   "nbconvert_exporter": "python",
   "pygments_lexer": "ipython3",
   "version": "3.9.5"
  },
  "orig_nbformat": 4
 },
 "nbformat": 4,
 "nbformat_minor": 2
}
