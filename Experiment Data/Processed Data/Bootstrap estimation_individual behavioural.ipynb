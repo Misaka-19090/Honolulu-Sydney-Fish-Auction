{
 "cells": [
  {
   "cell_type": "code",
   "execution_count": 33,
   "metadata": {},
   "outputs": [],
   "source": [
    "import pandas as pd\n",
    "import numpy as np\n",
    "from sklearn.linear_model import LinearRegression\n",
    "import statsmodels.api as sm\n",
    "from scipy import stats\n",
    "import matplotlib.pyplot as plt"
   ]
  },
  {
   "cell_type": "markdown",
   "metadata": {},
   "source": [
    "## Top-bottom Data "
   ]
  },
  {
   "cell_type": "code",
   "execution_count": 34,
   "metadata": {},
   "outputs": [],
   "source": [
    "def genData(df_d, df_h):\n",
    "\n",
    "    df_d[\"is_honolulu\"] = 0\n",
    "    df_d[\"is_high_cost\"] = (df_d[\"session.config.discount_b\"] == 0.019)\n",
    "    df_d[\"is_5_bidder\"] = df_d[\"session.config.name\"].str.contains(\"5_\")\n",
    "    df_d[\"mid_paydiff\"] = df_d.apply(\n",
    "        lambda x: np.median(\n",
    "            df_d[(df_d[\"is_high_cost\"] == x[\"is_high_cost\"]) & (df_d[\"is_5_bidder\"] == x[\"is_5_bidder\"])][\"paydiff_pct\"].unique()\n",
    "        ), \n",
    "        axis=1,\n",
    "    )\n",
    "    df_d[\"is_top\"] = (df_d[\"paydiff_pct\"] > df_d[\"mid_paydiff\"])\n",
    "\n",
    "    df_h[\"is_honolulu\"] = 1\n",
    "    df_h[\"is_high_cost\"] = (df_h[\"session.config.discount_b\"] == 0.019)\n",
    "    df_h[\"is_5_bidder\"] = df_h[\"session.config.name\"].str.contains(\"5_\")\n",
    "    df_h[\"mid_paydiff\"] = df_h.apply(\n",
    "        lambda x: np.median(\n",
    "            df_h[(df_h[\"is_high_cost\"] == x[\"is_high_cost\"]) & (df_h[\"is_5_bidder\"] == x[\"is_5_bidder\"])][\"paydiff_pct\"].unique()\n",
    "        ), \n",
    "        axis=1,\n",
    "    )\n",
    "    df_h[\"is_top\"] = (df_h[\"paydiff_pct\"] > df_h[\"mid_paydiff\"])\n",
    "\n",
    "    # for dutch auction bids\n",
    "    cols = [\n",
    "    \"group.dutch_final_price\", \"predict.player.bid\",\n",
    "    \"is_high_cost\", \"is_5_bidder\", \"is_top\",\n",
    "    \"session.code\",\n",
    "    ]\n",
    "    droplist = [] # ['4uwxoyym', 'twmqn1o6', '3yrhqskd', 'wgrvj2qu']\n",
    "    df_dbid = df_d[(df_d[\"player.is_dutch_winner\"] == 1) & (~df_d[\"participant.code\"].isin(droplist))][cols]\n",
    "\n",
    "    # for dutch stage bids\n",
    "    cols = [\n",
    "    \"group.dutch_final_price\", \"predict.player.optimal_dutch_bid\",\n",
    "    \"is_high_cost\", \"is_5_bidder\", \"is_top\",\n",
    "    \"session.code\"\n",
    "    ]\n",
    "    droplist = [] # ['ece1g596', '4uwxoyym', 'co853jdf', 'ovsmhled']\n",
    "    df_dstagebid = df_h[(df_h[\"player.is_dutch_winner\"] == 1) & (~df_h[\"participant.code\"].isin(droplist))][cols]\n",
    "\n",
    "    return df_dbid, df_dstagebid"
   ]
  },
  {
   "cell_type": "code",
   "execution_count": 35,
   "metadata": {},
   "outputs": [],
   "source": [
    "df_d = pd.read_csv(\"Dutch_paydiff_norm_zerocost.csv\")\n",
    "df_h = pd.read_csv(\"Honolulu_paydiff_norm_zerocost.csv\")\n",
    "df_dbid, df_dstagebid = genData(df_d, df_h)"
   ]
  },
  {
   "cell_type": "code",
   "execution_count": 36,
   "metadata": {},
   "outputs": [],
   "source": [
    "def regDbid(df):\n",
    "    cols = [\n",
    "        \"is_top\",\n",
    "    ]\n",
    "    y = (df[\"group.dutch_final_price\"] - df[\"predict.player.bid\"]).astype(float)\n",
    "    x = df[cols].astype(float)\n",
    "\n",
    "    x = sm.add_constant(x) # constant is added to the first column !!!\n",
    "    model = sm.OLS(y, x, missing=\"raise\")\n",
    "\n",
    "    return model\n",
    "\n",
    "def regDstagebid(df):\n",
    "    cols = [\n",
    "        \"is_top\",\n",
    "    ]\n",
    "    y = (df[\"group.dutch_final_price\"] - df[\"predict.player.optimal_dutch_bid\"]).astype(float)\n",
    "    x = df[cols].astype(float)\n",
    "\n",
    "    x = sm.add_constant(x) # constant is added to the first column !!!\n",
    "    model = sm.OLS(y, x, missing=\"raise\")\n",
    "\n",
    "    return model"
   ]
  },
  {
   "cell_type": "code",
   "execution_count": 37,
   "metadata": {},
   "outputs": [],
   "source": [
    "def sampleReg(df, type):\n",
    "\n",
    "    # resampling data on the session level (the block) for each treatment\n",
    "    sessions = df[\"session.code\"].unique()\n",
    "    sessions_sample = pd.DataFrame({\"session.code\" : np.random.choice(sessions, size=sessions.size, replace=True)})\n",
    "    df_sample = sessions_sample.merge(df, how=\"left\", on=\"session.code\")\n",
    "\n",
    "    model = eval(\"reg%s(df_sample)\" % type)\n",
    "\n",
    "    return model"
   ]
  },
  {
   "cell_type": "code",
   "execution_count": 38,
   "metadata": {},
   "outputs": [],
   "source": [
    "def baselineReg(df, is_5_bidder, is_high_cost, type):\n",
    "    \n",
    "    tmp = df[(df[\"is_5_bidder\"] == is_5_bidder) & (df[\"is_high_cost\"] == is_high_cost)]\n",
    "\n",
    "    model = eval(\"reg%s(tmp)\" % type)\n",
    "\n",
    "    return model"
   ]
  },
  {
   "cell_type": "code",
   "execution_count": 39,
   "metadata": {},
   "outputs": [],
   "source": [
    "def bootstrap(df, is_5_bidder, is_high_cost, type, rep):\n",
    "    \n",
    "    tmp = df[(df[\"is_5_bidder\"] == is_5_bidder) & (df[\"is_high_cost\"] == is_high_cost)]\n",
    "    cols = [\"const\", \"coef\"]\n",
    "    bs_predictions = pd.DataFrame(columns=cols)\n",
    "    for i in range(rep):\n",
    "        # constant is on the first column !!!\n",
    "        model = sampleReg(tmp, type)\n",
    "        bs_predictions.loc[len(bs_predictions)] = model.fit().params.tolist()\n",
    "        \n",
    "    return bs_predictions"
   ]
  },
  {
   "cell_type": "code",
   "execution_count": 40,
   "metadata": {},
   "outputs": [],
   "source": [
    "def bootstrapT(df, is_5_bidder, is_high_cost, type, rep):\n",
    "\n",
    "    # baseline test statistic -- theta_base\n",
    "    model_base = baselineReg(df, is_5_bidder, is_high_cost, type)\n",
    "    df_t = model_base.fit().df_resid\n",
    "\n",
    "    # bootstrap test statistics -- theta_bs\n",
    "    bs_predictions = bootstrap(df, is_5_bidder, is_high_cost, type, rep)\n",
    "\n",
    "    # bootstrap standard error, p-value\n",
    "    theta_base = model_base.fit().params[\"is_top\"]\n",
    "    theta_bs = bs_predictions[\"coef\"]\n",
    "    se_bs = np.std(theta_bs, ddof=1)\n",
    "    print([theta_base, se_bs, stats.t.sf(abs(theta_base) / se_bs, df=df_t) * 2])"
   ]
  },
  {
   "cell_type": "markdown",
   "metadata": {},
   "source": [
    "### Dutch auction bids"
   ]
  },
  {
   "cell_type": "markdown",
   "metadata": {},
   "source": [
    "2H"
   ]
  },
  {
   "cell_type": "code",
   "execution_count": 41,
   "metadata": {},
   "outputs": [
    {
     "name": "stdout",
     "output_type": "stream",
     "text": [
      "[-3.596100948368835, 1.8535943435019555, 0.05316969546177638]\n"
     ]
    }
   ],
   "source": [
    "np.random.seed(1)\n",
    "bootstrapT(df_dbid, is_5_bidder=0, is_high_cost=1, type=\"Dbid\", rep=1000)"
   ]
  },
  {
   "cell_type": "markdown",
   "metadata": {},
   "source": [
    "2L"
   ]
  },
  {
   "cell_type": "code",
   "execution_count": 42,
   "metadata": {},
   "outputs": [
    {
     "name": "stdout",
     "output_type": "stream",
     "text": [
      "[-3.3261270467108925, 1.4955581465064067, 0.026812440623370428]\n"
     ]
    }
   ],
   "source": [
    "np.random.seed(1)\n",
    "bootstrapT(df_dbid, is_5_bidder=0, is_high_cost=0, type=\"Dbid\", rep=1000)"
   ]
  },
  {
   "cell_type": "markdown",
   "metadata": {},
   "source": [
    "5H"
   ]
  },
  {
   "cell_type": "code",
   "execution_count": 43,
   "metadata": {},
   "outputs": [
    {
     "name": "stdout",
     "output_type": "stream",
     "text": [
      "[-1.83654270016818, 0.5014717469994258, 0.00031707488965900595]\n"
     ]
    }
   ],
   "source": [
    "np.random.seed(1)\n",
    "bootstrapT(df_dbid, is_5_bidder=1, is_high_cost=1, type=\"Dbid\", rep=1000)"
   ]
  },
  {
   "cell_type": "markdown",
   "metadata": {},
   "source": [
    "5L"
   ]
  },
  {
   "cell_type": "code",
   "execution_count": 44,
   "metadata": {},
   "outputs": [
    {
     "name": "stdout",
     "output_type": "stream",
     "text": [
      "[-6.212659411316322, 0.9738994300186226, 1.2767564097253191e-09]\n"
     ]
    }
   ],
   "source": [
    "np.random.seed(1)\n",
    "bootstrapT(df_dbid, is_5_bidder=1, is_high_cost=0, type=\"Dbid\", rep=1000)"
   ]
  },
  {
   "cell_type": "markdown",
   "metadata": {},
   "source": [
    "### Dutch stage bids"
   ]
  },
  {
   "cell_type": "markdown",
   "metadata": {},
   "source": [
    "2H"
   ]
  },
  {
   "cell_type": "code",
   "execution_count": 45,
   "metadata": {},
   "outputs": [
    {
     "name": "stdout",
     "output_type": "stream",
     "text": [
      "[2.459872387155345, 0.9363472081663206, 0.009011200581033923]\n"
     ]
    }
   ],
   "source": [
    "np.random.seed(1)\n",
    "bootstrapT(df_dstagebid, is_5_bidder=0, is_high_cost=1, type=\"Dstagebid\", rep=1000)"
   ]
  },
  {
   "cell_type": "markdown",
   "metadata": {},
   "source": [
    "2L"
   ]
  },
  {
   "cell_type": "code",
   "execution_count": 46,
   "metadata": {},
   "outputs": [
    {
     "name": "stdout",
     "output_type": "stream",
     "text": [
      "[0.08203985742943265, 1.4138587693143405, 0.953765583442802]\n"
     ]
    }
   ],
   "source": [
    "np.random.seed(1)\n",
    "bootstrapT(df_dstagebid, is_5_bidder=0, is_high_cost=0, type=\"Dstagebid\", rep=1000)"
   ]
  },
  {
   "cell_type": "markdown",
   "metadata": {},
   "source": [
    "5H"
   ]
  },
  {
   "cell_type": "code",
   "execution_count": 47,
   "metadata": {},
   "outputs": [
    {
     "name": "stdout",
     "output_type": "stream",
     "text": [
      "[0.9169817285057028, 2.531794966539822, 0.7175804432537387]\n"
     ]
    }
   ],
   "source": [
    "np.random.seed(1)\n",
    "bootstrapT(df_dstagebid, is_5_bidder=1, is_high_cost=1, type=\"Dstagebid\", rep=1000)"
   ]
  },
  {
   "cell_type": "markdown",
   "metadata": {},
   "source": [
    "5L"
   ]
  },
  {
   "cell_type": "code",
   "execution_count": 48,
   "metadata": {},
   "outputs": [
    {
     "name": "stdout",
     "output_type": "stream",
     "text": [
      "[-0.9665612998346347, 1.2375343163710908, 0.43573219675710617]\n"
     ]
    }
   ],
   "source": [
    "np.random.seed(1)\n",
    "bootstrapT(df_dstagebid, is_5_bidder=1, is_high_cost=0, type=\"Dstagebid\", rep=1000)"
   ]
  },
  {
   "cell_type": "markdown",
   "metadata": {},
   "source": [
    "## Predicted / Not Predicted Winners Data"
   ]
  },
  {
   "cell_type": "code",
   "execution_count": 49,
   "metadata": {},
   "outputs": [],
   "source": [
    "def genData(df_d, df_h):\n",
    "\n",
    "    df_d[\"is_honolulu\"] = 0\n",
    "    df_d[\"is_high_cost\"] = (df_d[\"session.config.discount_b\"] == 0.019)\n",
    "    df_d[\"is_5_bidder\"] = df_d[\"session.config.name\"].str.contains(\"5_\")\n",
    "\n",
    "    df_h[\"is_honolulu\"] = 1\n",
    "    df_h[\"is_high_cost\"] = (df_h[\"session.config.discount_b\"] == 0.019)\n",
    "    df_h[\"is_5_bidder\"] = df_h[\"session.config.name\"].str.contains(\"5_\")\n",
    "\n",
    "    # for dutch auction bids\n",
    "    cols = [\n",
    "    \"group.dutch_final_price\", \"predict.player.bid\",\n",
    "    \"is_high_cost\", \"is_5_bidder\", \"predict.player.is_dutch_winner\",\n",
    "    \"session.code\",\n",
    "    ]\n",
    "    df_dbid = df_d[df_d[\"player.is_dutch_winner\"] == 1][cols]\n",
    "\n",
    "    # for dutch stage bids\n",
    "    cols = [\n",
    "    \"group.dutch_final_price\", \"predict.player.optimal_dutch_bid\",\n",
    "    \"is_high_cost\", \"is_5_bidder\", \"predict.player.is_dutch_winner\",\n",
    "    \"session.code\"\n",
    "    ]\n",
    "    df_dstagebid = df_h[df_h[\"player.is_dutch_winner\"] == 1][cols]\n",
    "\n",
    "    return df_dbid, df_dstagebid"
   ]
  },
  {
   "cell_type": "code",
   "execution_count": 50,
   "metadata": {},
   "outputs": [],
   "source": [
    "df_d = pd.read_csv(\"Dutch_paydiff_norm_zerocost.csv\")\n",
    "df_h = pd.read_csv(\"Honolulu_paydiff_norm_zerocost.csv\")\n",
    "df_dbid, df_dstagebid = genData(df_d, df_h)"
   ]
  },
  {
   "cell_type": "code",
   "execution_count": 51,
   "metadata": {},
   "outputs": [],
   "source": [
    "def regDstagebid(df):\n",
    "    cols = [\n",
    "        \"predict.player.is_dutch_winner\",\n",
    "    ]\n",
    "    y = (df[\"group.dutch_final_price\"] - df[\"predict.player.optimal_dutch_bid\"]).astype(float)\n",
    "    x = df[cols].astype(float)\n",
    "\n",
    "    x = sm.add_constant(x) # constant is added to the first column !!!\n",
    "    model = sm.OLS(y, x, missing=\"raise\")\n",
    "\n",
    "    return model"
   ]
  },
  {
   "cell_type": "code",
   "execution_count": 52,
   "metadata": {},
   "outputs": [],
   "source": [
    "def sampleReg(df, type):\n",
    "\n",
    "    # resampling data on the session level (the block) for each treatment\n",
    "    sessions = df[\"session.code\"].unique()\n",
    "    sessions_sample = pd.DataFrame({\"session.code\" : np.random.choice(sessions, size=sessions.size, replace=True)})\n",
    "    df_sample = sessions_sample.merge(df, how=\"left\", on=\"session.code\")\n",
    "\n",
    "    model = eval(\"reg%s(df_sample)\" % type)\n",
    "\n",
    "    return model"
   ]
  },
  {
   "cell_type": "code",
   "execution_count": 53,
   "metadata": {},
   "outputs": [],
   "source": [
    "def baselineReg(df, is_5_bidder, is_high_cost, type):\n",
    "    \n",
    "    tmp = df[(df[\"is_5_bidder\"] == is_5_bidder) & (df[\"is_high_cost\"] == is_high_cost)]\n",
    "\n",
    "    model = eval(\"reg%s(tmp)\" % type)\n",
    "\n",
    "    return model"
   ]
  },
  {
   "cell_type": "code",
   "execution_count": 54,
   "metadata": {},
   "outputs": [],
   "source": [
    "def bootstrap(df, is_5_bidder, is_high_cost, type, rep):\n",
    "    \n",
    "    tmp = df[(df[\"is_5_bidder\"] == is_5_bidder) & (df[\"is_high_cost\"] == is_high_cost)]\n",
    "    cols = [\"const\", \"coef\"]\n",
    "    bs_predictions = pd.DataFrame(columns=cols)\n",
    "    for i in range(rep):\n",
    "        # constant is on the first column !!!\n",
    "        model = sampleReg(tmp, type)\n",
    "        bs_predictions.loc[len(bs_predictions)] = model.fit().params.tolist()\n",
    "        \n",
    "    return bs_predictions"
   ]
  },
  {
   "cell_type": "code",
   "execution_count": 57,
   "metadata": {},
   "outputs": [],
   "source": [
    "def bootstrapT(df, is_5_bidder, is_high_cost, type, rep):\n",
    "\n",
    "    # baseline test statistic -- theta_base\n",
    "    model_base = baselineReg(df, is_5_bidder, is_high_cost, type)\n",
    "    df_t = model_base.fit().df_resid\n",
    "\n",
    "    # bootstrap test statistics -- theta_bs\n",
    "    bs_predictions = bootstrap(df, is_5_bidder, is_high_cost, type, rep)\n",
    "\n",
    "    # bootstrap standard error, p-value\n",
    "    theta_base = model_base.fit().params[\"predict.player.is_dutch_winner\"]\n",
    "    theta_bs = bs_predictions[\"coef\"]\n",
    "    se_bs = np.std(theta_bs, ddof=1)\n",
    "    print([theta_base, se_bs, stats.t.sf(abs(theta_base) / se_bs, df=df_t) * 2])"
   ]
  },
  {
   "cell_type": "markdown",
   "metadata": {},
   "source": [
    "### Dutch stage bids"
   ]
  },
  {
   "cell_type": "markdown",
   "metadata": {},
   "source": [
    "2H"
   ]
  },
  {
   "cell_type": "code",
   "execution_count": 58,
   "metadata": {},
   "outputs": [
    {
     "name": "stdout",
     "output_type": "stream",
     "text": [
      "[-5.708956389540005, 0.7362698532598597, 1.1019886091295812e-13]\n"
     ]
    }
   ],
   "source": [
    "np.random.seed(1)\n",
    "bootstrapT(df_dstagebid, is_5_bidder=0, is_high_cost=1, type=\"Dstagebid\", rep=1000)"
   ]
  },
  {
   "cell_type": "markdown",
   "metadata": {},
   "source": [
    "2L"
   ]
  },
  {
   "cell_type": "code",
   "execution_count": 61,
   "metadata": {},
   "outputs": [
    {
     "name": "stdout",
     "output_type": "stream",
     "text": [
      "[-3.390902753238714, 0.399450292129194, 8.672204498564953e-16]\n"
     ]
    }
   ],
   "source": [
    "np.random.seed(1)\n",
    "bootstrapT(df_dstagebid, is_5_bidder=0, is_high_cost=0, type=\"Dstagebid\", rep=1000)"
   ]
  },
  {
   "cell_type": "markdown",
   "metadata": {},
   "source": [
    "5H"
   ]
  },
  {
   "cell_type": "code",
   "execution_count": 62,
   "metadata": {},
   "outputs": [
    {
     "name": "stdout",
     "output_type": "stream",
     "text": [
      "[-3.384085145296054, 0.9598858042624803, 0.0005198261683893278]\n"
     ]
    }
   ],
   "source": [
    "np.random.seed(1)\n",
    "bootstrapT(df_dstagebid, is_5_bidder=1, is_high_cost=1, type=\"Dstagebid\", rep=1000)"
   ]
  },
  {
   "cell_type": "markdown",
   "metadata": {},
   "source": [
    "5L"
   ]
  },
  {
   "cell_type": "code",
   "execution_count": 63,
   "metadata": {},
   "outputs": [
    {
     "name": "stdout",
     "output_type": "stream",
     "text": [
      "[-5.443556912537044, 0.6410084325115663, 5.2473418880818155e-15]\n"
     ]
    }
   ],
   "source": [
    "np.random.seed(1)\n",
    "bootstrapT(df_dstagebid, is_5_bidder=1, is_high_cost=0, type=\"Dstagebid\", rep=1000)"
   ]
  }
 ],
 "metadata": {
  "kernelspec": {
   "display_name": "Python 3",
   "language": "python",
   "name": "python3"
  },
  "language_info": {
   "codemirror_mode": {
    "name": "ipython",
    "version": 3
   },
   "file_extension": ".py",
   "mimetype": "text/x-python",
   "name": "python",
   "nbconvert_exporter": "python",
   "pygments_lexer": "ipython3",
   "version": "3.9.5"
  }
 },
 "nbformat": 4,
 "nbformat_minor": 2
}
