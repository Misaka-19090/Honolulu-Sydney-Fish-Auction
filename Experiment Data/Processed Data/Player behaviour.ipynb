{
 "cells": [
  {
   "cell_type": "code",
   "execution_count": 137,
   "metadata": {},
   "outputs": [],
   "source": [
    "import pandas as pd\n",
    "import numpy as np\n",
    "import matplotlib.pyplot as plt"
   ]
  },
  {
   "cell_type": "code",
   "execution_count": 138,
   "metadata": {},
   "outputs": [],
   "source": [
    "DATE = \"2022-05-10\"\n",
    "df_d = pd.read_csv(\"Dutch_new_\" + DATE + \".csv\")\n",
    "df_h = pd.read_csv(\"Honolulu_new_\" + DATE + \".csv\")\n",
    "P_MAX = 100"
   ]
  },
  {
   "cell_type": "code",
   "execution_count": 139,
   "metadata": {},
   "outputs": [],
   "source": [
    "n_player = len(set(df_d[\"participant.code\"]))\n",
    "n_test = df_d[\"session.config.num_test_rounds\"][0]\n",
    "n_formal = df_d[\"session.config.num_formal_rounds\"][0]"
   ]
  },
  {
   "cell_type": "code",
   "execution_count": null,
   "metadata": {},
   "outputs": [],
   "source": [
    "%matplotlib inline\n",
    "plt.figure(figsize=(30, 150))\n",
    "for i in range(n_player):\n",
    "    tmp_df = df_d.iloc[i * (n_test + n_formal) : (i + 1) * (n_test + n_formal), :]\n",
    "    tmp_x = tmp_df[\"subsession.round_number\"]\n",
    "    plt.subplot(n_player, 1, i + 1)\n",
    "    plt.scatter(tmp_x, tmp_df[\"player.item_value\"], label=\"item value\")\n",
    "    plt.scatter(tmp_x, tmp_df[\"predict.player.bid\"], label=\"optimal bid\")\n",
    "    plt.plot(tmp_x, tmp_df[\"group.dutch_final_price\"], label=\"actual final price\", marker=\"\", color=\"red\", linewidth=0.5)\n",
    "    plt.plot(tmp_x, tmp_df[\"predict.group.dutch_final_price\"], label=\"predicted final price\",marker=\"\", color=\"green\", linewidth=0.5)\n",
    "    bar_width = 0.2\n",
    "    plt.bar(tmp_x - bar_width, tmp_df[\"player.is_dutch_winner\"] * P_MAX, width=2*bar_width, alpha=0.2, label=\"is winner\")\n",
    "    plt.bar(tmp_x + bar_width, tmp_df[\"predict.player.is_dutch_winner\"] * P_MAX, width=2*bar_width, alpha=0.2, label=\"is predicted winner\")\n",
    "    plt.legend()\n",
    "    plt.xticks(tmp_x)\n",
    "    plt.yticks(np.arange(0, P_MAX + 1, P_MAX / 10))\n",
    "    plt.title(tmp_df[\"participant.label\"].iloc[0])\n",
    "plt.savefig(\"Player_Dutch_\" + DATE + \"_\" + df_h[\"session.config.name\"][0] + \".png\", dpi=200, bbox_inches=\"tight\")"
   ]
  },
  {
   "cell_type": "code",
   "execution_count": null,
   "metadata": {},
   "outputs": [],
   "source": [
    "plt.figure(figsize=(30, 150))\n",
    "for i in range(n_player):\n",
    "    tmp_df = df_h.iloc[i * (n_test + n_formal) : (i + 1) * (n_test + n_formal), :]\n",
    "    tmp_x = tmp_df[\"subsession.round_number\"]\n",
    "    plt.subplot(n_player, 1, i + 1)\n",
    "    plt.scatter(tmp_x, tmp_df[\"player.item_value\"], label=\"item value\")\n",
    "    plt.scatter(tmp_x, tmp_df[\"predict.player.optimal_dutch_bid\"], label=\"optimal jump-in\")\n",
    "    plt.scatter(tmp_x, tmp_df[\"group.english_final_price\"], label=\"actual final price\", marker=5, color=\"red\")\n",
    "    plt.scatter(tmp_x, tmp_df[\"predict.group.english_final_price\"], label=\"predicted final price\", marker=4,  color=\"green\")\n",
    "    plt.plot(tmp_x, tmp_df[\"group.dutch_final_price\"], label=\"actual dutch price\", marker=\"\", color=\"red\", linewidth=0.5)\n",
    "    plt.plot(tmp_x, tmp_df[\"predict.group.dutch_final_price\"], label=\"predicted ducth price\",marker=\"\", color=\"green\", linewidth=0.5)\n",
    "    bar_width = 0.1\n",
    "    plt.bar(tmp_x - bar_width, tmp_df[\"predict.player.is_dutch_winner\"] * P_MAX, width=2*bar_width, alpha=0.2, color=\"lightgreen\", label=\"predicted ducth winner\")\n",
    "    plt.bar(tmp_x - 3 * bar_width, tmp_df[\"player.is_dutch_winner\"] * P_MAX, width=2*bar_width, alpha=0.2, color=\"darkgreen\", label=\"actual dutch winner\")\n",
    "    plt.bar(tmp_x + 3 * bar_width, tmp_df[\"predict.player.is_english_winner\"] * P_MAX, width=2*bar_width, alpha=0.2, color=\"violet\", label=\"predicted english winner\")\n",
    "    plt.bar(tmp_x + bar_width, tmp_df[\"player.is_english_winner\"] * P_MAX, width=2*bar_width, alpha=0.2, color=\"darkviolet\", label=\"actual english winner\")\n",
    "    plt.legend()\n",
    "    plt.xticks(tmp_x)\n",
    "    plt.yticks(np.arange(0, P_MAX + 1, P_MAX / 10))\n",
    "    plt.title(tmp_df[\"participant.label\"].iloc[0])\n",
    "plt.savefig(\"Player_Honolulu_\" + DATE + \"_\" + df_h[\"session.config.name\"][0] + \".png\", dpi=200, bbox_inches=\"tight\")"
   ]
  }
 ],
 "metadata": {
  "kernelspec": {
   "display_name": "Python 3.9.5 64-bit",
   "language": "python",
   "name": "python3"
  },
  "language_info": {
   "codemirror_mode": {
    "name": "ipython",
    "version": 3
   },
   "file_extension": ".py",
   "mimetype": "text/x-python",
   "name": "python",
   "nbconvert_exporter": "python",
   "pygments_lexer": "ipython3",
   "version": "3.9.5"
  },
  "orig_nbformat": 4,
  "vscode": {
   "interpreter": {
    "hash": "11938c6bc6919ae2720b4d5011047913343b08a43b18698fd82dedb0d4417594"
   }
  }
 },
 "nbformat": 4,
 "nbformat_minor": 2
}
