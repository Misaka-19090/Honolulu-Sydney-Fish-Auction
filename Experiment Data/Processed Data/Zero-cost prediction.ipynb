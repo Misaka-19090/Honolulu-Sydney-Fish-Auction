{
 "cells": [
  {
   "cell_type": "code",
   "execution_count": 1,
   "metadata": {},
   "outputs": [],
   "source": [
    "import pandas as pd\n",
    "import numpy as np"
   ]
  },
  {
   "cell_type": "code",
   "execution_count": 2,
   "metadata": {},
   "outputs": [],
   "source": [
    "str_date = \"2022-10-28-13\"\n",
    "P_MAX = 50\n",
    "B_LOW = 0.009\n",
    "B_HIGH = 0.019\n",
    "C = 0.019"
   ]
  },
  {
   "cell_type": "code",
   "execution_count": 3,
   "metadata": {},
   "outputs": [],
   "source": [
    "def genGroupDict(df):\n",
    "    \n",
    "    group_dict = dict()\n",
    "\n",
    "    for i in range(len(df)):\n",
    "        session_code = str(df.iloc[i][\"session.code\"])\n",
    "        round_number = str(df.iloc[i][\"subsession.round_number\"])\n",
    "        group_id = str(df.iloc[i][\"group.id_in_subsession\"])\n",
    "        tmp_key = session_code + \"_\" + round_number + \"_\" + group_id\n",
    "\n",
    "        if tmp_key not in group_dict:\n",
    "            group_dict[tmp_key] = {\n",
    "                \"index\" : [],\n",
    "                \"item_value\": [],\n",
    "                \"group_size\" : None,\n",
    "                \"discount_b\": None,\n",
    "                \"tick\": None,\n",
    "            }\n",
    "\n",
    "        item_value = df.iloc[i][\"player.item_value\"]\n",
    "        group_dict[tmp_key][\"index\"].append(i)\n",
    "        group_dict[tmp_key][\"item_value\"].append(item_value)\n",
    "\n",
    "        session_name = df.iloc[i][\"session.config.name\"]\n",
    "        if \"02\" in session_name:\n",
    "            group_dict[tmp_key][\"group_size\"] = 2\n",
    "        elif \"05\" in session_name:\n",
    "            group_dict[tmp_key][\"group_size\"] = 5\n",
    "\n",
    "        discount_b = df.iloc[i][\"session.config.discount_b\"]\n",
    "        group_dict[tmp_key][\"discount_b\"] = discount_b\n",
    "\n",
    "        tick = df.iloc[i][\"session.config.price_tick\"]\n",
    "        group_dict[tmp_key][\"tick\"] = tick\n",
    "\n",
    "    return group_dict"
   ]
  },
  {
   "cell_type": "markdown",
   "metadata": {},
   "source": [
    "### Honolulu prediction"
   ]
  },
  {
   "cell_type": "code",
   "execution_count": 4,
   "metadata": {},
   "outputs": [],
   "source": [
    "# df = pd.read_csv(\"Honolulu_new_\" + str_date + \".csv\")\n",
    "# df_h = df.iloc[:, :-13]\n",
    "df_h = pd.read_csv(\"Honolulu_paydiff_norm.csv\")"
   ]
  },
  {
   "cell_type": "code",
   "execution_count": 5,
   "metadata": {},
   "outputs": [],
   "source": [
    "def discount(x, t, b):\n",
    "    if x >= 0:\n",
    "        if b * t <= 1:\n",
    "            return x * (1 - b * t)\n",
    "        else:\n",
    "            return 0\n",
    "    else:\n",
    "        return x * (1 + b * t)"
   ]
  },
  {
   "cell_type": "code",
   "execution_count": 6,
   "metadata": {},
   "outputs": [],
   "source": [
    "dict_h = genGroupDict(df_h)\n",
    "df_h[[\n",
    "    \"predict0.player.optimal_dutch_bid\",\n",
    "    \"predict0.player.is_dutch_winner\",\n",
    "    \"predict0.player.contest_status\",\n",
    "    \"predict0.player.english_dropout_elapsed\",\n",
    "    \"predict0.player.is_english_winner\",\n",
    "    \"predict0.player.is_final_winner\",\n",
    "    \"predict0.player.payoff\",\n",
    "    \"predict0.group.dutch_time_elapsed\",\n",
    "    \"predict0.group.dutch_final_price\",\n",
    "    \"predict0.group.english_time_elapsed\",\n",
    "    \"predict0.group.english_final_price\",\n",
    "    \"predict0.group.final_price\",\n",
    "    \"predict0.group.auctioneer_utility\",\n",
    "]] = np.nan\n",
    "\n",
    "for key in dict_h:\n",
    "    item_value = dict_h[key][\"item_value\"]\n",
    "    if dict_h[key][\"group_size\"] == 2:\n",
    "        predict_bid = [0 for i in range(2)]\n",
    "        if dict_h[key][\"discount_b\"] == B_HIGH:\n",
    "            start_price = 21\n",
    "        elif dict_h[key][\"discount_b\"] == B_LOW:\n",
    "            start_price = 12\n",
    "    elif dict_h[key][\"group_size\"] == 5:\n",
    "        predict_bid = [0 for i in range(5)]\n",
    "        if dict_h[key][\"discount_b\"] == B_HIGH:\n",
    "            start_price = 32\n",
    "        elif dict_h[key][\"discount_b\"] == B_LOW:\n",
    "            start_price = 27\n",
    "    dutch_final_price = np.minimum(start_price, np.max(predict_bid))\n",
    "    dutch_time_elapsed = (start_price - dutch_final_price) * dict_h[key][\"tick\"]\n",
    "    is_dutch_winner = np.array([i >= dutch_final_price for i in predict_bid]).astype(int)\n",
    "    contest_status = np.array([i >= dutch_final_price for i in item_value]).astype(int)\n",
    "    if np.sum(contest_status) == 1:\n",
    "        english_final_price = dutch_final_price\n",
    "        is_english_winner = contest_status\n",
    "        english_dropout_elapsed = [np.nan for i in contest_status]\n",
    "    elif np.sum(contest_status) > 1:\n",
    "        max_value = np.max(item_value)\n",
    "        is_english_winner = np.array([i == max_value for i in item_value]).astype(int)\n",
    "        if np.sum(is_english_winner) > 1:\n",
    "            english_final_price = max_value\n",
    "        elif np.sum(is_english_winner) == 1:\n",
    "            english_final_price = np.max([(i < max_value) * i for i in item_value])\n",
    "        tmp = []\n",
    "        for i in range(len(item_value)):\n",
    "            if contest_status[i]:\n",
    "                if is_english_winner[i]:\n",
    "                    if np.sum(is_english_winner) == 1:\n",
    "                        tmp.append((english_final_price - dutch_final_price) * dict_h[key][\"tick\"])\n",
    "                    elif np.sum(is_english_winner) > 1:\n",
    "                        tmp.append((item_value[i] - dutch_final_price) * dict_h[key][\"tick\"])\n",
    "                else:\n",
    "                    tmp.append((item_value[i] - dutch_final_price) * dict_h[key][\"tick\"])\n",
    "            else:\n",
    "                tmp.append(np.nan)\n",
    "        english_dropout_elapsed = np.array(tmp)\n",
    "    english_time_elapsed = (english_final_price - dutch_final_price) * dict_h[key][\"tick\"]\n",
    "    is_final_winner = is_english_winner\n",
    "    final_price = english_final_price\n",
    "    \n",
    "    index = dict_h[key][\"index\"]\n",
    "    for i in range(len(index)):\n",
    "        df_h[\"predict0.player.optimal_dutch_bid\"].iat[index[i]] = predict_bid[i]\n",
    "        df_h[\"predict0.player.is_dutch_winner\"].iat[index[i]] = is_dutch_winner[i]\n",
    "        df_h[\"predict0.player.contest_status\"].iat[index[i]] = contest_status[i]\n",
    "        df_h[\"predict0.player.english_dropout_elapsed\"].iat[index[i]] = english_dropout_elapsed[i]\n",
    "        df_h[\"predict0.player.is_english_winner\"].iat[index[i]] = is_english_winner[i]\n",
    "        df_h[\"predict0.player.is_final_winner\"].iat[index[i]] = is_final_winner[i]\n",
    "        df_h[\"predict0.player.payoff\"].iat[index[i]] = discount(dict_h[key][\"item_value\"][i] - final_price, dutch_time_elapsed + english_time_elapsed, dict_h[key][\"discount_b\"]) * is_final_winner[i]\n",
    "        df_h[\"predict0.group.dutch_time_elapsed\"].iat[index[i]] = dutch_time_elapsed\n",
    "        df_h[\"predict0.group.dutch_final_price\"].iat[index[i]] = dutch_final_price\n",
    "        df_h[\"predict0.group.english_time_elapsed\"].iat[index[i]] = english_time_elapsed\n",
    "        df_h[\"predict0.group.english_final_price\"].iat[index[i]] = english_final_price\n",
    "        df_h[\"predict0.group.final_price\"].iat[index[i]] = final_price\n",
    "        df_h[\"predict0.group.auctioneer_utility\"].iat[index[i]] = discount(final_price, dutch_time_elapsed + english_time_elapsed, C)"
   ]
  },
  {
   "cell_type": "code",
   "execution_count": 7,
   "metadata": {},
   "outputs": [],
   "source": [
    "df_h.to_csv(\"Honolulu_paydiff_norm_zerocost.csv\", header=True, index=False)"
   ]
  },
  {
   "cell_type": "markdown",
   "metadata": {},
   "source": [
    "### Dutch prediction"
   ]
  },
  {
   "cell_type": "code",
   "execution_count": 8,
   "metadata": {},
   "outputs": [],
   "source": [
    "# df = pd.read_csv(\"Dutch_new_\" + str_date + \".csv\")\n",
    "# df_d = df.iloc[:, :-6]\n",
    "df_d = pd.read_csv(\"Dutch_paydiff_norm.csv\")"
   ]
  },
  {
   "cell_type": "code",
   "execution_count": 9,
   "metadata": {},
   "outputs": [],
   "source": [
    "dict_d = genGroupDict(df_d)\n",
    "df_d[[\n",
    "    \"predict0.player.bid\",\n",
    "    \"predict0.player.is_dutch_winner\",\n",
    "    \"predict0.player.payoff\",\n",
    "    \"predict0.group.dutch_time_elapsed\",\n",
    "    \"predict0.group.dutch_final_price\",\n",
    "    \"predict0.group.auctioneer_utility\",\n",
    "]] = np.nan\n",
    "\n",
    "for key in dict_d:\n",
    "    if dict_d[key][\"group_size\"] == 2:\n",
    "        predict_bid = np.array(dict_d[key][\"item_value\"]) * 0.5\n",
    "    elif dict_d[key][\"group_size\"] == 5:\n",
    "        predict_bid = np.array(dict_d[key][\"item_value\"]) * 0.8\n",
    "    final_price = np.max(predict_bid)\n",
    "    time_elapsed = (P_MAX - final_price) * dict_d[key][\"tick\"]\n",
    "    is_winner = np.array([i == final_price for i in predict_bid]).astype(int)\n",
    "    \n",
    "    index = dict_d[key][\"index\"]\n",
    "    for i in range(len(index)):\n",
    "        df_d[\"predict0.player.bid\"].iat[index[i]] = predict_bid[i]\n",
    "        df_d[\"predict0.player.is_dutch_winner\"].iat[index[i]] = is_winner[i]\n",
    "        df_d[\"predict0.player.payoff\"].iat[index[i]] = discount(dict_d[key][\"item_value\"][i] - final_price, time_elapsed, dict_d[key][\"discount_b\"]) * is_winner[i]\n",
    "        df_d[\"predict0.group.dutch_time_elapsed\"].iat[index[i]] = time_elapsed\n",
    "        df_d[\"predict0.group.dutch_final_price\"].iat[index[i]] = final_price\n",
    "        df_d[\"predict0.group.auctioneer_utility\"].iat[index[i]] = discount(final_price, time_elapsed, C)"
   ]
  },
  {
   "cell_type": "code",
   "execution_count": 10,
   "metadata": {},
   "outputs": [],
   "source": [
    "df_d.to_csv(\"Dutch_paydiff_norm_zerocost.csv\", header=True, index=False)"
   ]
  }
 ],
 "metadata": {
  "kernelspec": {
   "display_name": "Python 3.9.5 64-bit",
   "language": "python",
   "name": "python3"
  },
  "language_info": {
   "codemirror_mode": {
    "name": "ipython",
    "version": 3
   },
   "file_extension": ".py",
   "mimetype": "text/x-python",
   "name": "python",
   "nbconvert_exporter": "python",
   "pygments_lexer": "ipython3",
   "version": "3.9.5"
  },
  "orig_nbformat": 4,
  "vscode": {
   "interpreter": {
    "hash": "11938c6bc6919ae2720b4d5011047913343b08a43b18698fd82dedb0d4417594"
   }
  }
 },
 "nbformat": 4,
 "nbformat_minor": 2
}
