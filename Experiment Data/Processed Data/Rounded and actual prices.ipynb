{
 "cells": [
  {
   "cell_type": "code",
   "execution_count": 9,
   "metadata": {},
   "outputs": [],
   "source": [
    "import pandas as pd\n",
    "import numpy as np\n",
    "from math import ceil"
   ]
  },
  {
   "cell_type": "code",
   "execution_count": 10,
   "metadata": {},
   "outputs": [],
   "source": [
    "str_date = \"2022-09-15\"\n",
    "df = pd.read_csv(\"Honolulu_new_\" + str_date + \".csv\")"
   ]
  },
  {
   "cell_type": "code",
   "execution_count": 11,
   "metadata": {},
   "outputs": [],
   "source": [
    "def roundU(diff, t, tick, b):\n",
    "    if diff >= 0:\n",
    "        return diff * (1 - b * int(t / tick))\n",
    "    else:\n",
    "        return diff * (1 + b * int(t / tick))\n",
    "\n",
    "def accurateU(diff, t, tick, b):\n",
    "    if diff >= 0:\n",
    "        return diff * (1 - b * t / tick)\n",
    "    else:\n",
    "        return diff * (1 + b * t / tick)"
   ]
  },
  {
   "cell_type": "code",
   "execution_count": 12,
   "metadata": {},
   "outputs": [],
   "source": [
    "df[\"player.english_dropout_elpased\"].fillna(value=0, inplace=True)\n",
    "df[\"player.dropout_price\"] = np.nan\n",
    "df[\"player.dropout_price.accurate\"] = np.nan\n",
    "df[\"player.dropout_payoff\"] = np.nan\n",
    "df[\"player.dropout_payoff.accurate\"] = np.nan"
   ]
  },
  {
   "cell_type": "code",
   "execution_count": 13,
   "metadata": {},
   "outputs": [],
   "source": [
    "for i in range(len(df)):\n",
    "    price_start = df[\"subsession.price_start\"].iat[i]\n",
    "    price_tick = df[\"session.config.price_tick\"].iat[i]\n",
    "    item_value = df[\"player.item_value\"].iat[i]\n",
    "    discount_b = df[\"session.config.discount_b\"].iat[i]\n",
    "    dutch_time_elapsed = df[\"group.dutch_time_elapsed\"].iat[i]\n",
    "    english_time_elapsed = df[\"player.english_dropout_elpased\"].iat[i]\n",
    "    if df[\"player.contest_status\"].iat[i] != 1:\n",
    "        df[\"player.dropout_price\"].iat[i] = price_start - int(dutch_time_elapsed / price_tick)\n",
    "        df[\"player.dropout_price.accurate\"].iat[i] = price_start - dutch_time_elapsed / price_tick\n",
    "        df[\"player.dropout_payoff\"].iat[i] = roundU(item_value - df[\"player.dropout_price\"].iat[i], dutch_time_elapsed, price_tick, discount_b)\n",
    "        df[\"player.dropout_payoff.accurate\"].iat[i] = accurateU(item_value - df[\"player.dropout_price.accurate\"].iat[i], dutch_time_elapsed, price_tick, discount_b)\n",
    "    else:\n",
    "        df[\"player.dropout_price\"].iat[i] = price_start + ceil((english_time_elapsed - dutch_time_elapsed) / price_tick) # use int() for data before 2022/10/26, use ceil() otherwise\n",
    "        df[\"player.dropout_price.accurate\"].iat[i] = price_start + (english_time_elapsed - dutch_time_elapsed) / price_tick\n",
    "        df[\"player.dropout_payoff\"].iat[i] = roundU(item_value - df[\"player.dropout_price\"].iat[i], dutch_time_elapsed + english_time_elapsed, price_tick, discount_b)\n",
    "        df[\"player.dropout_payoff.accurate\"].iat[i] = accurateU(item_value - df[\"player.dropout_price.accurate\"].iat[i], dutch_time_elapsed + english_time_elapsed, price_tick, discount_b)"
   ]
  },
  {
   "cell_type": "code",
   "execution_count": 14,
   "metadata": {},
   "outputs": [],
   "source": [
    "df[\"predict.player.english_dropout_elapsed\"].fillna(value=0, inplace=True)\n",
    "df[\"predict.player.dropout_price\"] = np.nan\n",
    "df[\"predict.player.dropout_price.accurate\"] = np.nan\n",
    "df[\"predict.player.dropout_payoff\"] = np.nan\n",
    "df[\"predict.player.dropout_payoff.accurate\"] = np.nan"
   ]
  },
  {
   "cell_type": "code",
   "execution_count": 15,
   "metadata": {},
   "outputs": [],
   "source": [
    "for i in range(len(df)):\n",
    "    price_start = df[\"subsession.price_start\"].iat[i]\n",
    "    price_tick = df[\"session.config.price_tick\"].iat[i]\n",
    "    item_value = df[\"player.item_value\"].iat[i]\n",
    "    discount_b = df[\"session.config.discount_b\"].iat[i]\n",
    "    dutch_time_elapsed = df[\"predict.group.dutch_time_elapsed\"].iat[i]\n",
    "    english_time_elapsed = df[\"predict.player.english_dropout_elapsed\"].iat[i]\n",
    "    if df[\"predict.player.contest_status\"].iat[i] != 1:\n",
    "        df[\"predict.player.dropout_price\"].iat[i] = price_start - ceil(dutch_time_elapsed / price_tick)\n",
    "        df[\"predict.player.dropout_price.accurate\"].iat[i] = price_start - dutch_time_elapsed / price_tick\n",
    "        df[\"predict.player.dropout_payoff\"].iat[i] = roundU(item_value - df[\"predict.player.dropout_price\"].iat[i], dutch_time_elapsed, price_tick, discount_b)\n",
    "        df[\"predict.player.dropout_payoff.accurate\"].iat[i] = accurateU(item_value - df[\"predict.player.dropout_price.accurate\"].iat[i], dutch_time_elapsed, price_tick, discount_b)\n",
    "    else:\n",
    "        df[\"predict.player.dropout_price\"].iat[i] = price_start + int((english_time_elapsed - dutch_time_elapsed) / price_tick) # use int() for data before 2022/10/26, use ceil() otherwise\n",
    "        df[\"predict.player.dropout_price.accurate\"].iat[i] = price_start + (english_time_elapsed - dutch_time_elapsed) / price_tick\n",
    "        df[\"predict.player.dropout_payoff\"].iat[i] = roundU(item_value - df[\"predict.player.dropout_price\"].iat[i], dutch_time_elapsed + english_time_elapsed, price_tick, discount_b)\n",
    "        df[\"predict.player.dropout_payoff.accurate\"].iat[i] = accurateU(item_value - df[\"predict.player.dropout_price.accurate\"].iat[i], dutch_time_elapsed + english_time_elapsed, price_tick, discount_b)"
   ]
  },
  {
   "cell_type": "code",
   "execution_count": 16,
   "metadata": {},
   "outputs": [],
   "source": [
    "df.to_csv(\"Honolulu_rounded_and_accurate_\" + str_date + \".csv\", header=True, index=False)"
   ]
  }
 ],
 "metadata": {
  "kernelspec": {
   "display_name": "Python 3.9.5 64-bit",
   "language": "python",
   "name": "python3"
  },
  "language_info": {
   "codemirror_mode": {
    "name": "ipython",
    "version": 3
   },
   "file_extension": ".py",
   "mimetype": "text/x-python",
   "name": "python",
   "nbconvert_exporter": "python",
   "pygments_lexer": "ipython3",
   "version": "3.9.5"
  },
  "orig_nbformat": 4,
  "vscode": {
   "interpreter": {
    "hash": "11938c6bc6919ae2720b4d5011047913343b08a43b18698fd82dedb0d4417594"
   }
  }
 },
 "nbformat": 4,
 "nbformat_minor": 2
}
