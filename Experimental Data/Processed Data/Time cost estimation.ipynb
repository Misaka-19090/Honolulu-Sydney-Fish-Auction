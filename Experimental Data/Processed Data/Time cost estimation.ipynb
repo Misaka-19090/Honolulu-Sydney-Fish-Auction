{
 "cells": [
  {
   "cell_type": "code",
   "execution_count": 3,
   "metadata": {},
   "outputs": [],
   "source": [
    "import numpy as np\n",
    "import pandas as pd\n",
    "from scipy.optimize import fsolve, curve_fit\n",
    "from scipy.integrate import odeint, quad\n",
    "from scipy.optimize import minimize_scalar\n",
    "from scipy.interpolate import interp1d\n",
    "import matplotlib.pyplot as plt"
   ]
  },
  {
   "cell_type": "code",
   "execution_count": 4,
   "metadata": {},
   "outputs": [],
   "source": [
    "class honolulu(object):\n",
    "    def __init__(self, a, b, c, n):\n",
    "        self.n = n\n",
    "        self.a = a\n",
    "        self.b = b\n",
    "        self.c = c\n",
    "\n",
    "    # F(x) = x\n",
    "    # G(x) = F(x) ^ (n - 1)\n",
    "    # g(x) = G'(x)\n",
    "    # H(x) = integral(y[0, x])(G(y))\n",
    "    # G(v, x) = n * F(v) * F(x) ^ (n - 1)\n",
    "    # g(v, x) = d^2 G(v, x) / dvdx\n",
    "\n",
    "    def K(self, pvar, v, s):\n",
    "        # K(p, v, s) = 2 * b * (H(v) - H(p)) - G(p) * (a - b * (s - v))\n",
    "        return (\n",
    "            2 * self.b \n",
    "            * (v ** self.n - pvar ** self.n) / self.n \n",
    "            - pvar ** (self.n - 1) \n",
    "            * (self.a - self.b * (s - v))\n",
    "        )\n",
    "\n",
    "    def k(self, v, s):\n",
    "        # p = k(v, s) solves K(p, v, s) = 0\n",
    "        K_fun = lambda pvar: self.K(pvar, v, s)\n",
    "        sol = fsolve(K_fun, v / 2)[0]\n",
    "        return sol\n",
    "\n",
    "    def p(self, v, s):\n",
    "        # p = min{s, k(v, s)}\n",
    "        return np.minimum(s, self.k(v, s))"
   ]
  },
  {
   "cell_type": "code",
   "execution_count": 5,
   "metadata": {},
   "outputs": [],
   "source": [
    "df_h = pd.read_csv(\"Honolulu_paydiff_norm.csv\")"
   ]
  },
  {
   "cell_type": "markdown",
   "metadata": {},
   "source": [
    "## Cost Estimation"
   ]
  },
  {
   "cell_type": "code",
   "execution_count": 6,
   "metadata": {},
   "outputs": [],
   "source": [
    "def estCost(n, b, s, tol):\n",
    "\n",
    "    tmp = df_h[df_h[\"session.config.name\"].str.contains(str(n) + \"_\") & (df_h[\"session.config.discount_b\"] == b)]\n",
    "    tmp = tmp[\n",
    "        (tmp[\"player.is_dutch_winner\"] == 1)\n",
    "        # & (\n",
    "        #     ((tmp[\"group.have_contest_winner\"] > 1) & (tmp[\"player.is_english_winner\"] == 0) & (abs(tmp[\"player.dropout_price\"] - tmp[\"player.item_value\"]) <= tol))\n",
    "        #     | ((tmp[\"group.have_contest_winner\"] > 1) & (tmp[\"player.is_english_winner\"] == 1) & (tmp[\"group.final_price\"] <= tmp[\"player.item_value\"] + tol))\n",
    "        #     | ((tmp[\"group.have_contest_winner\"] == 1) & (tmp[\"group.final_price\"] <= tmp[\"player.item_value\"] + tol))\n",
    "        # )\n",
    "    ]\n",
    "    ha = lambda x: honolulu(a=1, b=x, c=0.95, n=n)\n",
    "    \n",
    "    # categorised for all sessions\n",
    "    tmp_dutchhigh = tmp[tmp[\"group.dutch_final_price\"] > tmp[\"predict.player.optimal_dutch_bid\"] + tol]\n",
    "    tmp_dutchlow = tmp[tmp[\"group.dutch_final_price\"] < tmp[\"predict.player.optimal_dutch_bid\"] - tol]\n",
    "    tmp_dutchmid = tmp[abs(tmp[\"group.dutch_final_price\"] - tmp[\"predict.player.optimal_dutch_bid\"]) <= tol]\n",
    "    for tar_df, name_df in [(tmp_dutchhigh, \"high\"), (tmp_dutchmid, \"mid\"), (tmp_dutchlow, \"low\")]:\n",
    "        xdata = (tar_df[\"player.item_value\"] / 50).tolist()\n",
    "        ydata = (tar_df[\"group.dutch_final_price\"] / 50).tolist()\n",
    "        fit = curve_fit(lambda x, param: list(map(lambda v: ha(param).p(v, s), x)), xdata, ydata)\n",
    "        print([fit[0], np.sqrt(np.diag(fit[1])), name_df, len(tar_df)])\n",
    "\n",
    "    # pooled for all sessions\n",
    "    xdata = (tmp[\"player.item_value\"] / 50).tolist()\n",
    "    ydata = (tmp[\"group.dutch_final_price\"] / 50).tolist()\n",
    "    fit = curve_fit(lambda x, param: list(map(lambda v: ha(param).p(v, s), x)), xdata, ydata)\n",
    "    print([fit[0], np.sqrt(np.diag(fit[1])), \"all sessions\", len(tmp)])\n",
    "    \n",
    "    # pooled for each session\n",
    "    sessions = set(tmp[\"session.code\"])\n",
    "    for scode in sessions:\n",
    "        tar_df = tmp[tmp[\"session.code\"] == scode]\n",
    "        xdata = (tar_df[\"player.item_value\"] / 50).tolist()\n",
    "        ydata = (tar_df[\"group.dutch_final_price\"] / 50).tolist()\n",
    "        fit = curve_fit(lambda x, param: list(map(lambda v: ha(param).p(v, s), x)), xdata, ydata)\n",
    "        print([fit[0], np.sqrt(np.diag(fit[1])), scode, len(tar_df)])"
   ]
  },
  {
   "cell_type": "code",
   "execution_count": 7,
   "metadata": {},
   "outputs": [
    {
     "name": "stderr",
     "output_type": "stream",
     "text": [
      "c:\\Program Files\\Python39\\lib\\site-packages\\scipy\\optimize\\minpack.py:175: RuntimeWarning: The iteration is not making good progress, as measured by the \n",
      "  improvement from the last ten iterations.\n",
      "  warnings.warn(msg, RuntimeWarning)\n"
     ]
    },
    {
     "name": "stdout",
     "output_type": "stream",
     "text": [
      "[array([2.63156979]), array([0.25485942]), 'high', 82]\n",
      "[array([0.91522251]), array([0.01906345]), 'mid', 90]\n",
      "[array([0.26995155]), array([0.01556615]), 'low', 162]\n",
      "[array([0.485114]), array([0.0268199]), 'all sessions', 334]\n",
      "[array([0.3531888]), array([0.04136222]), 'nli0vb0t', 85]\n",
      "[array([0.99962667]), array([0.14706164]), 'cbdt6t3s', 76]\n",
      "[array([0.47142692]), array([0.04603003]), 'p66lw61j', 86]\n",
      "[array([0.44005224]), array([0.04451825]), '7xbozwc7', 87]\n"
     ]
    }
   ],
   "source": [
    "estCost(n=2, b=0.019, s=0.42, tol=2)"
   ]
  },
  {
   "cell_type": "code",
   "execution_count": 8,
   "metadata": {},
   "outputs": [
    {
     "name": "stdout",
     "output_type": "stream",
     "text": [
      "[array([1.63912526]), array([0.13807635]), 'high', 72]\n",
      "[array([0.43796521]), array([0.01255024]), 'mid', 105]\n",
      "[array([0.13032179]), array([0.00735719]), 'low', 136]\n",
      "[array([0.20308989]), array([0.01180805]), 'all sessions', 313]\n",
      "[array([0.12752372]), array([0.01816312]), 'c9oliyzc', 66]\n",
      "[array([0.20376082]), array([0.02384294]), 'yq06059v', 86]\n",
      "[array([0.23104475]), array([0.02768335]), '5m969a1u', 68]\n",
      "[array([0.24869403]), array([0.02274156]), '785y9gdo', 93]\n"
     ]
    }
   ],
   "source": [
    "estCost(n=2, b=0.009, s=0.24, tol=2)"
   ]
  },
  {
   "cell_type": "code",
   "execution_count": 9,
   "metadata": {},
   "outputs": [
    {
     "name": "stdout",
     "output_type": "stream",
     "text": [
      "[array([3.39665927]), array([0.42519928]), 'high', 85]\n",
      "[array([0.99223035]), array([0.04746669]), 'mid', 59]\n",
      "[array([0.2113252]), array([0.02794577]), 'low', 66]\n",
      "[array([1.10738455]), array([0.12049523]), 'all sessions', 210]\n",
      "[array([2.13205125]), array([0.39249097]), 'w4lqxa01', 56]\n",
      "[array([0.32051991]), array([0.07886986]), '15t0rnnr', 50]\n",
      "[array([2.9087749]), array([7.98514693e-06]), 'ogo32l47', 54]\n",
      "[array([1.0551554]), array([0.19603922]), 'btnhfeao', 50]\n"
     ]
    }
   ],
   "source": [
    "estCost(n=5, b=0.019, s=0.64, tol=2)"
   ]
  },
  {
   "cell_type": "code",
   "execution_count": 11,
   "metadata": {},
   "outputs": [
    {
     "name": "stdout",
     "output_type": "stream",
     "text": [
      "[array([2.46813557]), array([0.45252292]), 'high', 57]\n",
      "[array([0.90395783]), array([0.05119306]), 'mid', 88]\n",
      "[array([0.2109055]), array([0.01692765]), 'low', 51]\n",
      "[array([2.12201104]), array([0.25931037]), 'all sessions', 196]\n",
      "[array([2.12201099]), array([0.40665044]), 'r6ovli5x', 84]\n",
      "[array([0.81163989]), array([0.14289323]), 'a2ehf0h4', 56]\n",
      "[array([2.89207132]), array([0.4830369]), 'hie4719f', 56]\n"
     ]
    }
   ],
   "source": [
    "estCost(n=5, b=0.009, s=0.54, tol=2)"
   ]
  },
  {
   "cell_type": "markdown",
   "metadata": {},
   "source": [
    "## Bidder Types"
   ]
  },
  {
   "cell_type": "code",
   "execution_count": 52,
   "metadata": {},
   "outputs": [],
   "source": [
    "tol = 2\n",
    "\n",
    "# dutch bid too low (delay), either the dutch winner bids too late or the dutch non-winner miss the chance to bid optimally \n",
    "df_h[\"dutch_low\"] = (df_h[\"group.dutch_final_price\"] < df_h[\"predict.player.optimal_dutch_bid\"] - tol)\n",
    "\n",
    "# dutch winner bid too high\n",
    "df_h[\"dutch_high\"] = (\n",
    "    (df_h[\"player.is_dutch_winner\"] == 1) \n",
    "    & (df_h[\"group.dutch_final_price\"] > df_h[\"predict.player.optimal_dutch_bid\"] + tol)\n",
    ")\n",
    "\n",
    "# competitive dutch decision\n",
    "df_h[\"dutch_mid\"] = (\n",
    "    (df_h[\"dutch_low\"] == 0) \n",
    "    & (df_h[\"dutch_high\"] == 0)\n",
    ")\n",
    "\n",
    "# buy the item lower than group-level prediction \n",
    "df_h[\"buy_low\"] = (\n",
    "    (df_h[\"player.is_final_winner\"] == 1)\n",
    "    & (df_h[\"player.dropout_price\"] < df_h[\"predict.group.final_price\"] - tol)\n",
    ")\n",
    "\n",
    "# drop out below the item value\n",
    "df_h[\"drop_low\"] = (\n",
    "    (df_h[\"player.is_final_winner\"] == 0)\n",
    "    & (df_h[\"player.dropout_price\"] < df_h[\"player.item_value\"] - tol)\n",
    ")\n",
    "\n",
    "# join the contest but drop out above the item value, either wrong contest join decision or staying too long in the english stage\n",
    "df_h[\"overbid\"] = (\n",
    "    (df_h[\"player.contest_status\"] == 1) \n",
    "    & (df_h[\"player.dropout_price\"] > df_h[\"player.item_value\"] + tol)\n",
    ")\n",
    "\n",
    "# competitive drop or buy\n",
    "df_h[\"competitive\"] = (\n",
    "    (df_h[\"buy_low\"] == 0)\n",
    "    & (df_h[\"drop_low\"] == 0)\n",
    "    & (df_h[\"overbid\"] == 0)\n",
    ")"
   ]
  },
  {
   "cell_type": "code",
   "execution_count": 56,
   "metadata": {},
   "outputs": [],
   "source": [
    "def estBidderCost(key1, key2):\n",
    "    print(\"%s, %s\" % (key1, key2))\n",
    "    print(\"est_b\\tstd\\tobs\\ttreatment\")\n",
    "    for n, b, s in [(2, 0.019, 0.42), (2, 0.009, 0.24), (5, 0.019, 0.64), (5, 0.009, 0.54)]:\n",
    "        tmp = df_h[\n",
    "            df_h[\"session.config.name\"].str.contains(str(n) + \"_\") \n",
    "            & (df_h[\"session.config.discount_b\"] == b)\n",
    "            & (df_h[\"player.is_dutch_winner\"] == 1)\n",
    "            & (df_h[key1] == 1)\n",
    "            & (df_h[key2] == 1)\n",
    "        ]\n",
    "        ha = lambda x: honolulu(a=1, b=x, c=0.95, n=n)\n",
    "        if len(tmp) > 0:\n",
    "            xdata = (tmp[\"player.item_value\"] / 50).tolist()\n",
    "            ydata = (tmp[\"group.dutch_final_price\"] / 50).tolist()\n",
    "            fit = curve_fit(lambda x, param: list(map(lambda v: ha(param).p(v, s), x)), xdata, ydata)\n",
    "            print(\"%.2f\\t%.2f\\t%d\\t%s\" % (fit[0], np.sqrt(np.diag(fit[1])), len(tmp), str(n) + (\"H\" if b == 0.019 else \"L\")))"
   ]
  },
  {
   "cell_type": "code",
   "execution_count": 58,
   "metadata": {},
   "outputs": [
    {
     "name": "stdout",
     "output_type": "stream",
     "text": [
      "dutch_low, buy_low\n",
      "est_b\tstd\tobs\ttreatment\n",
      "0.27\t0.02\t78\t2H\n",
      "0.12\t0.01\t49\t2L\n",
      "0.22\t0.07\t9\t5H\n",
      "0.22\t0.03\t10\t5L\n",
      "dutch_low, drop_low\n",
      "est_b\tstd\tobs\ttreatment\n",
      "0.23\t0.04\t18\t2H\n",
      "0.09\t0.02\t11\t2L\n",
      "0.15\t0.06\t10\t5H\n",
      "0.25\t0.09\t4\t5L\n",
      "dutch_low, overbid\n",
      "est_b\tstd\tobs\ttreatment\n",
      "0.46\t0.10\t2\t2H\n",
      "dutch_low, competitive\n",
      "est_b\tstd\tobs\ttreatment\n",
      "0.28\t0.02\t64\t2H\n",
      "0.15\t0.01\t76\t2L\n",
      "0.22\t0.04\t47\t5H\n",
      "0.21\t0.02\t37\t5L\n"
     ]
    }
   ],
   "source": [
    "estBidderCost(\"dutch_low\", \"buy_low\")\n",
    "estBidderCost(\"dutch_low\", \"drop_low\")\n",
    "estBidderCost(\"dutch_low\", \"overbid\")\n",
    "estBidderCost(\"dutch_low\", \"competitive\")"
   ]
  },
  {
   "cell_type": "code",
   "execution_count": 60,
   "metadata": {},
   "outputs": [
    {
     "name": "stdout",
     "output_type": "stream",
     "text": [
      "dutch_mid, buy_low\n",
      "est_b\tstd\tobs\ttreatment\n",
      "1.05\t0.28\t6\t2H\n",
      "0.37\t0.03\t8\t2L\n",
      "1.11\tinf\t1\t5H\n",
      "0.90\t0.21\t7\t5L\n",
      "dutch_mid, drop_low\n",
      "est_b\tstd\tobs\ttreatment\n",
      "0.84\t0.14\t5\t2H\n",
      "0.39\t0.03\t10\t2L\n",
      "0.71\t0.07\t4\t5H\n",
      "0.79\t0.17\t7\t5L\n",
      "dutch_mid, overbid\n",
      "est_b\tstd\tobs\ttreatment\n",
      "1.64\t0.26\t2\t2H\n",
      "0.41\tinf\t1\t2L\n",
      "0.96\tinf\t1\t5H\n",
      "1.17\t0.56\t2\t5L\n",
      "dutch_mid, competitive\n",
      "est_b\tstd\tobs\ttreatment\n",
      "0.92\t0.02\t77\t2H\n",
      "0.45\t0.01\t86\t2L\n",
      "1.00\t0.05\t53\t5H\n",
      "0.95\t0.06\t72\t5L\n"
     ]
    }
   ],
   "source": [
    "estBidderCost(\"dutch_mid\", \"buy_low\")\n",
    "estBidderCost(\"dutch_mid\", \"drop_low\")\n",
    "estBidderCost(\"dutch_mid\", \"overbid\")\n",
    "estBidderCost(\"dutch_mid\", \"competitive\")"
   ]
  },
  {
   "cell_type": "code",
   "execution_count": 61,
   "metadata": {},
   "outputs": [
    {
     "name": "stdout",
     "output_type": "stream",
     "text": [
      "dutch_high, buy_low\n",
      "est_b\tstd\tobs\ttreatment\n",
      "6.27\t2.68\t5\t2H\n",
      "1.07\t0.14\t7\t2L\n",
      "3.38\t0.90\t4\t5H\n",
      "2.58\tinf\t1\t5L\n",
      "dutch_high, drop_low\n",
      "est_b\tstd\tobs\ttreatment\n",
      "1.91\t0.44\t3\t2H\n",
      "1.20\t0.14\t7\t2L\n",
      "2.37\tinf\t1\t5H\n",
      "2.00\t0.07\t4\t5L\n",
      "dutch_high, overbid\n",
      "est_b\tstd\tobs\ttreatment\n",
      "5.56\t5.08\t10\t2H\n",
      "2.33\t1.50\t5\t2L\n",
      "3.40\t2.12\t13\t5H\n",
      "2.12\t1.11\t14\t5L\n",
      "dutch_high, competitive\n",
      "est_b\tstd\tobs\ttreatment\n",
      "2.02\t0.09\t64\t2H\n",
      "1.80\t0.18\t53\t2L\n",
      "2.92\t0.16\t67\t5H\n",
      "3.90\t0.28\t38\t5L\n"
     ]
    }
   ],
   "source": [
    "estBidderCost(\"dutch_high\", \"buy_low\")\n",
    "estBidderCost(\"dutch_high\", \"drop_low\")\n",
    "estBidderCost(\"dutch_high\", \"overbid\")\n",
    "estBidderCost(\"dutch_high\", \"competitive\")"
   ]
  }
 ],
 "metadata": {
  "kernelspec": {
   "display_name": "Python 3",
   "language": "python",
   "name": "python3"
  },
  "language_info": {
   "codemirror_mode": {
    "name": "ipython",
    "version": 3
   },
   "file_extension": ".py",
   "mimetype": "text/x-python",
   "name": "python",
   "nbconvert_exporter": "python",
   "pygments_lexer": "ipython3",
   "version": "3.9.5"
  }
 },
 "nbformat": 4,
 "nbformat_minor": 2
}
