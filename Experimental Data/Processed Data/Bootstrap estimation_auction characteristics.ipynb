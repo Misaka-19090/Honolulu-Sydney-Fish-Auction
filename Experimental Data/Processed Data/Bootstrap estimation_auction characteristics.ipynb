{
 "cells": [
  {
   "cell_type": "code",
   "execution_count": 223,
   "metadata": {},
   "outputs": [],
   "source": [
    "import pandas as pd\n",
    "import numpy as np\n",
    "from sklearn.linear_model import LinearRegression\n",
    "import statsmodels.api as sm\n",
    "from scipy import stats\n",
    "import matplotlib.pyplot as plt"
   ]
  },
  {
   "cell_type": "code",
   "execution_count": 224,
   "metadata": {},
   "outputs": [],
   "source": [
    "# generate data tables from the full data\n",
    "def calcEffi(df, x):\n",
    "    tmp = df[(df[\"session.code\"] == x[\"session.code\"]) & (df[\"subsession.round_number\"] == x[\"subsession.round_number\"]) & (df[\"group.id_in_subsession\"] == x[\"group.id_in_subsession\"])]\n",
    "    buyer_value = 0\n",
    "    for index, row in tmp.iterrows():\n",
    "        if row[\"player.is_final_winner\"]:\n",
    "            buyer_value = row[\"player.item_value\"]\n",
    "    return buyer_value / np.max(tmp[\"player.item_value\"]) * 100\n",
    "\n",
    "def genData(df_d, df_h):\n",
    "\n",
    "    df_d[\"is_honolulu\"] = 0\n",
    "    df_d[\"high_cost\"] = (df_d[\"session.config.discount_b\"] == 0.019)\n",
    "    df_d[\"high_cost_honolulu\"] = df_d[\"high_cost\"] * df_d[\"is_honolulu\"]\n",
    "    df_d[\"is_5_bidder\"] = df_d[\"session.config.name\"].str.contains(\"5_\")\n",
    "    df_d[\"5_bidder_honolulu\"] = df_d[\"is_5_bidder\"] * df_d[\"is_honolulu\"]\n",
    "    df_d[\"round_honolulu\"] = df_d[\"subsession.round_number\"] * df_d[\"is_honolulu\"]\n",
    "    df_d[\"round_squared\"] = df_d[\"subsession.round_number\"] ** 2\n",
    "    df_d[\"time_elapsed\"] = df_d[\"group.dutch_time_elapsed\"]\n",
    "    df_d[\"final_price\"] = df_d[\"group.dutch_final_price\"]\n",
    "    df_d[\"effi\"] = df_d.apply(lambda x: calcEffi(df_d, x), axis=1)\n",
    "\n",
    "    df_h[\"is_honolulu\"] = 1\n",
    "    df_h[\"high_cost\"] = (df_h[\"session.config.discount_b\"] == 0.019)\n",
    "    df_h[\"high_cost_honolulu\"] = df_h[\"high_cost\"] * df_h[\"is_honolulu\"]\n",
    "    df_h[\"is_5_bidder\"] = df_h[\"session.config.name\"].str.contains(\"5_\")\n",
    "    df_h[\"5_bidder_honolulu\"] = df_h[\"is_5_bidder\"] * df_h[\"is_honolulu\"]\n",
    "    df_h[\"round_honolulu\"] = df_h[\"subsession.round_number\"] * df_h[\"is_honolulu\"]\n",
    "    df_h[\"round_squared\"] = df_h[\"subsession.round_number\"] ** 2\n",
    "    df_h[\"time_elapsed\"] = df_h[\"group.dutch_time_elapsed\"] + df_h[\"group.english_time_elapsed\"]\n",
    "    df_h[\"final_price\"] = df_h[\"group.final_price\"]\n",
    "    df_h[\"effi\"] = df_h.apply(lambda x: calcEffi(df_h, x), axis=1)\n",
    "\n",
    "    # for auctineer utility\n",
    "    cols = [\n",
    "    \"group.auctioneer_utility\", \n",
    "    \"is_honolulu\", \"high_cost\", \"high_cost_honolulu\", \"is_5_bidder\", \"5_bidder_honolulu\",\n",
    "    \"subsession.round_number\", \"round_honolulu\", \"round_squared\", \n",
    "    \"group.id_in_subsession\", \"session.code\", # use these variables to determine one observation and drop duplicates\n",
    "    ]\n",
    "    df_ua = pd.concat([df_d[cols], df_h[cols]], ignore_index=True)\n",
    "    df_ua = df_ua.drop_duplicates()\n",
    "\n",
    "    # for bidder utility\n",
    "    cols = [\n",
    "    \"player.item_value\", \"final_price\", \"time_elapsed\", # use these variables to compute accurate bidder utility\n",
    "    \"is_honolulu\", \"high_cost\", \"high_cost_honolulu\", \"is_5_bidder\", \"5_bidder_honolulu\", \n",
    "    \"subsession.round_number\", \"round_honolulu\", \"round_squared\", \n",
    "    \"group.id_in_subsession\", \"participant.code\", \"player.is_final_winner\", \"session.code\" # use these variables to determine one observation and drop duplicates\n",
    "    ]\n",
    "    df_ub = pd.concat([df_d[cols], df_h[cols]], ignore_index=True)\n",
    "    df_ub = df_ub[df_ub[\"player.is_final_winner\"] == 1]\n",
    "    df_ub = df_ub.drop([\"player.is_final_winner\"], axis=1)\n",
    "\n",
    "    # for auction duration\n",
    "    cols = [\n",
    "    \"time_elapsed\", \n",
    "    \"is_honolulu\", \"high_cost\", \"high_cost_honolulu\", \"is_5_bidder\", \"5_bidder_honolulu\", \n",
    "    \"subsession.round_number\", \"round_honolulu\", \"round_squared\", \n",
    "    \"group.id_in_subsession\", \"session.code\", # use these variables to determine one observation and drop duplicates\n",
    "    ]\n",
    "    df_dura = pd.concat([df_d[cols], df_h[cols]], ignore_index=True)\n",
    "    df_dura = df_dura.drop_duplicates()\n",
    "\n",
    "    # for selling price\n",
    "    cols = [\n",
    "    \"final_price\", # use these variables to compute accurate bidder utility\n",
    "    \"is_honolulu\", \"high_cost\", \"high_cost_honolulu\", \"is_5_bidder\", \"5_bidder_honolulu\", \n",
    "    \"subsession.round_number\", \"round_honolulu\", \"round_squared\", \n",
    "    \"group.id_in_subsession\", \"session.code\" # use these variables to determine one observation and drop duplicates\n",
    "    ]\n",
    "    df_sell = pd.concat([df_d[cols], df_h[cols]], ignore_index=True)\n",
    "    df_sell = df_sell.drop_duplicates()\n",
    "\n",
    "    # for efficiency\n",
    "    cols = [\n",
    "    \"effi\",\n",
    "    \"is_honolulu\", \"high_cost\", \"high_cost_honolulu\", \"is_5_bidder\", \"5_bidder_honolulu\", \n",
    "    \"subsession.round_number\", \"round_honolulu\", \"round_squared\", \n",
    "    \"group.id_in_subsession\", \"session.code\" # use these variables to determine one observation and drop duplicates\n",
    "    ]\n",
    "    df_effi = pd.concat([df_d[cols], df_h[cols]], ignore_index=True)\n",
    "    df_effi = df_effi.drop_duplicates()\n",
    "\n",
    "    return df_ua, df_ub, df_dura, df_sell, df_effi"
   ]
  },
  {
   "cell_type": "code",
   "execution_count": 225,
   "metadata": {},
   "outputs": [],
   "source": [
    "df_d = pd.read_csv(\"Dutch_paydiff_norm.csv\")\n",
    "df_h = pd.read_csv(\"Honolulu_paydiff_norm.csv\")\n",
    "df_ua, df_ub, df_dura, df_sell, df_effi = genData(df_d, df_h)"
   ]
  },
  {
   "cell_type": "markdown",
   "metadata": {},
   "source": [
    "## Functions"
   ]
  },
  {
   "cell_type": "markdown",
   "metadata": {},
   "source": [
    "### Regression Models"
   ]
  },
  {
   "cell_type": "code",
   "execution_count": 226,
   "metadata": {},
   "outputs": [],
   "source": [
    "# regression for auctioneer utility y ~ const + is_honolulu + high_cost + honolulu_high_cost\n",
    "def regUa(df):\n",
    "\n",
    "    cols = [\n",
    "        \"is_honolulu\", \"high_cost\", \"high_cost_honolulu\", \n",
    "        # \"subsession.round_number\", \"round_honolulu\", \"round_squared\",\n",
    "    ]\n",
    "    y = df[\"group.auctioneer_utility\"].astype(float)\n",
    "    x = df[cols].astype(float)\n",
    "\n",
    "    x = sm.add_constant(x) # constant is added to the first column !!!\n",
    "    model = sm.OLS(y, x, missing=\"raise\")\n",
    "\n",
    "    return model\n",
    "\n",
    "# regression for auctioneer utility y ~ const + is_honolulu + is_5_bidder + 5_bidder_honolulu\n",
    "def regUa2(df):\n",
    "\n",
    "    cols = [\n",
    "        \"is_honolulu\", \"is_5_bidder\", \"5_bidder_honolulu\", \n",
    "        # \"subsession.round_number\", \"round_honolulu\", \"round_squared\",\n",
    "    ]\n",
    "    y = df[\"group.auctioneer_utility\"].astype(float)\n",
    "    x = df[cols].astype(float)\n",
    "\n",
    "    x = sm.add_constant(x) # constant is added to the first column !!!\n",
    "    model = sm.OLS(y, x, missing=\"raise\")\n",
    "\n",
    "    return model"
   ]
  },
  {
   "cell_type": "code",
   "execution_count": 227,
   "metadata": {},
   "outputs": [],
   "source": [
    "def discount(value, bid, t, cost):\n",
    "    if cost:\n",
    "        b = 0.019\n",
    "    else:\n",
    "        b = 0.009\n",
    "    if value >= bid:\n",
    "        return (value - bid) * (1 - b * t)\n",
    "    else:\n",
    "        return (value - bid) * (1 + b * t)\n",
    "\n",
    "# regression for bidder utility y ~ const + is_honolulu + high_cost + honolulu_high_cost\n",
    "def regUb(df):\n",
    "\n",
    "    cols = [\n",
    "        \"is_honolulu\", \"high_cost\", \"high_cost_honolulu\", \n",
    "        # \"subsession.round_number\", \"round_honolulu\", \"round_squared\",\n",
    "    ]\n",
    "    y = df.apply(lambda x: discount(x[\"player.item_value\"], x[\"final_price\"], x[\"time_elapsed\"], x[\"high_cost\"]), axis=1).astype(float)\n",
    "    x = df[cols].astype(float)\n",
    "    x = sm.add_constant(x) # constant is added to the first column !!!\n",
    "    model = sm.OLS(y, x, missing=\"raise\")\n",
    "\n",
    "    return model\n",
    "\n",
    "# regression for bidder utility y ~ const + is_honolulu + is_5_bidder + 5_bidder_honolulu\n",
    "def regUb2(df):\n",
    "\n",
    "    cols = [\n",
    "        \"is_honolulu\", \"is_5_bidder\", \"5_bidder_honolulu\", \n",
    "        # \"subsession.round_number\", \"round_honolulu\", \"round_squared\",\n",
    "    ]\n",
    "    y = df.apply(lambda x: discount(x[\"player.item_value\"], x[\"final_price\"], x[\"time_elapsed\"], x[\"high_cost\"]), axis=1).astype(float)\n",
    "    x = df[cols].astype(float)\n",
    "    x = sm.add_constant(x) # constant is added to the first column !!!\n",
    "    model = sm.OLS(y, x, missing=\"raise\")\n",
    "\n",
    "    return model"
   ]
  },
  {
   "cell_type": "code",
   "execution_count": 228,
   "metadata": {},
   "outputs": [],
   "source": [
    "# regression for auction duration y ~ const + is_honolulu + high_cost + honolulu_high_cost\n",
    "def regDura(df):\n",
    "\n",
    "    cols = [\n",
    "        \"is_honolulu\", \"high_cost\", \"high_cost_honolulu\", \n",
    "        # \"subsession.round_number\", \"round_honolulu\", \"round_squared\",\n",
    "    ]\n",
    "    y = df[\"time_elapsed\"].astype(float)\n",
    "    x = df[cols].astype(float)\n",
    "\n",
    "    x = sm.add_constant(x) # constant is added to the first column !!!\n",
    "    model = sm.OLS(y, x, missing=\"raise\")\n",
    "\n",
    "    return model\n",
    "\n",
    "# regression for auction duration y ~ const + is_honolulu + is_5_bidder + 5_bidder_honolulu\n",
    "def regDura2(df):\n",
    "\n",
    "    cols = [\n",
    "        \"is_honolulu\", \"is_5_bidder\", \"5_bidder_honolulu\", \n",
    "        # \"subsession.round_number\", \"round_honolulu\", \"round_squared\",\n",
    "    ]\n",
    "    y = df[\"time_elapsed\"].astype(float)\n",
    "    x = df[cols].astype(float)\n",
    "\n",
    "    x = sm.add_constant(x) # constant is added to the first column !!!\n",
    "    model = sm.OLS(y, x, missing=\"raise\")\n",
    "\n",
    "    return model"
   ]
  },
  {
   "cell_type": "code",
   "execution_count": 229,
   "metadata": {},
   "outputs": [],
   "source": [
    "# regression for selling price y ~ const + is_honolulu + high_cost + honolulu_high_cost\n",
    "def regSell(df):\n",
    "\n",
    "    cols = [\n",
    "        \"is_honolulu\", \"high_cost\", \"high_cost_honolulu\", \n",
    "        # \"subsession.round_number\", \"round_honolulu\", \"round_squared\",\n",
    "    ]\n",
    "    y = df[\"final_price\"].astype(float)\n",
    "    x = df[cols].astype(float)\n",
    "\n",
    "    x = sm.add_constant(x) # constant is added to the first column !!!\n",
    "    model = sm.OLS(y, x, missing=\"raise\")\n",
    "\n",
    "    return model\n",
    "\n",
    "# regression for selling price y ~ const + is_honolulu + is_5_bidder + 5_bidder_honolulu\n",
    "def regSell2(df):\n",
    "\n",
    "    cols = [\n",
    "        \"is_honolulu\", \"is_5_bidder\", \"5_bidder_honolulu\", \n",
    "        # \"subsession.round_number\", \"round_honolulu\", \"round_squared\",\n",
    "    ]\n",
    "    y = df[\"final_price\"].astype(float)\n",
    "    x = df[cols].astype(float)\n",
    "\n",
    "    x = sm.add_constant(x) # constant is added to the first column !!!\n",
    "    model = sm.OLS(y, x, missing=\"raise\")\n",
    "\n",
    "    return model"
   ]
  },
  {
   "cell_type": "code",
   "execution_count": 230,
   "metadata": {},
   "outputs": [],
   "source": [
    "# regression for efficiency y ~ const + is_honolulu + high_cost + honolulu_high_cost\n",
    "def regEffi(df):\n",
    "\n",
    "    cols = [\n",
    "        \"is_honolulu\", \"high_cost\", \"high_cost_honolulu\", \n",
    "        # \"subsession.round_number\", \"round_honolulu\", \"round_squared\",\n",
    "    ]\n",
    "    y = df[\"effi\"].astype(float)\n",
    "    x = df[cols].astype(float)\n",
    "\n",
    "    x = sm.add_constant(x) # constant is added to the first column !!!\n",
    "    model = sm.OLS(y, x, missing=\"raise\")\n",
    "\n",
    "    return model\n",
    "\n",
    "# regression for efficiency y ~ const + is_honolulu + is_5_bidder + 5_bidder_honolulu\n",
    "def regEffi2(df):\n",
    "\n",
    "    cols = [\n",
    "        \"is_honolulu\", \"is_5_bidder\", \"5_bidder_honolulu\", \n",
    "        # \"subsession.round_number\", \"round_honolulu\", \"round_squared\",\n",
    "    ]\n",
    "    y = df[\"effi\"].astype(float)\n",
    "    x = df[cols].astype(float)\n",
    "\n",
    "    x = sm.add_constant(x) # constant is added to the first column !!!\n",
    "    model = sm.OLS(y, x, missing=\"raise\")\n",
    "\n",
    "    return model"
   ]
  },
  {
   "cell_type": "markdown",
   "metadata": {},
   "source": [
    "### Resampling by Treatments and Blocked Bootstrapping"
   ]
  },
  {
   "cell_type": "code",
   "execution_count": 231,
   "metadata": {},
   "outputs": [],
   "source": [
    "# generate a blocked bootstrap sample regression\n",
    "def sampleReg(df, is_test_cost, is_test_high, type):\n",
    "\n",
    "    # data for each treatment\n",
    "    df2h = df[(df[\"is_5_bidder\"] == 0) & (df[\"high_cost\"] == 1)]\n",
    "    df2l = df[(df[\"is_5_bidder\"] == 0) & (df[\"high_cost\"] == 0)]\n",
    "    df5h = df[(df[\"is_5_bidder\"] == 1) & (df[\"high_cost\"] == 1)]\n",
    "    df5l = df[(df[\"is_5_bidder\"] == 1) & (df[\"high_cost\"] == 0)]\n",
    "    \n",
    "    # test the difference between high/low cost or between high/low number of bidders\n",
    "    if is_test_cost:\n",
    "        # test for high or low number of bidders when testing the cost, or test for high or low cost when testing the number of bidders\n",
    "        if is_test_high:\n",
    "            df1 = df5h\n",
    "            df2 = df5l\n",
    "        else:\n",
    "            df1 = df2h\n",
    "            df2 = df2l\n",
    "    else:\n",
    "        if is_test_high:\n",
    "            df1 = df5h\n",
    "            df2 = df2h\n",
    "        else:\n",
    "            df1 = df5l\n",
    "            df2 = df2l\n",
    "\n",
    "    # resampling data on the session level (the block) for each treatment\n",
    "    sessions1 = df1[\"session.code\"].unique()\n",
    "    sessions1_sample = pd.DataFrame({\"session.code\" : np.random.choice(sessions1, size=sessions1.size, replace=True)})\n",
    "    df_sample1 = sessions1_sample.merge(df1, how=\"left\", on=\"session.code\")\n",
    "    sessions2 = df2[\"session.code\"].unique()\n",
    "    sessions2_sample = pd.DataFrame({\"session.code\" : np.random.choice(sessions2, size=sessions2.size, replace=True)})\n",
    "    df_sample2 = sessions2_sample.merge(df2, how=\"left\", on=\"session.code\")\n",
    "    df_sample = pd.concat([df_sample1, df_sample2])\n",
    "\n",
    "    if is_test_cost: # reg cost\n",
    "        if is_test_high: # for high(5) number of bidders\n",
    "            model = eval(\"reg%s(df_sample)\" % type)\n",
    "        else: # for low(2) number of bidders\n",
    "            model = eval(\"reg%s(df_sample)\" % type)\n",
    "    else: # reg number of bidders\n",
    "        if is_test_high: # for high cost\n",
    "            model = eval(\"reg%s2(df_sample)\" % type)\n",
    "        else: # for low cost\n",
    "            model = eval(\"reg%s2(df_sample)\" % type)\n",
    "    \n",
    "    return model"
   ]
  },
  {
   "cell_type": "code",
   "execution_count": 232,
   "metadata": {},
   "outputs": [],
   "source": [
    "def baselineReg(df, is_test_cost, is_test_high, type):\n",
    "    if is_test_cost: # reg cost\n",
    "        if is_test_high: # for high(5) number of bidders\n",
    "            model = eval(\"reg%s(df[df[\\\"is_5_bidder\\\"] == 1])\" % type)\n",
    "        else: # for low(2) number of bidders\n",
    "            model = eval(\"reg%s(df[df[\\\"is_5_bidder\\\"] == 0])\" % type)\n",
    "    else: # reg number of bidders\n",
    "        if is_test_high: # for high cost\n",
    "            model = eval(\"reg%s2(df[df[\\\"high_cost\\\"] == 1])\" % type)\n",
    "        else: # for low cost\n",
    "            model = eval(\"reg%s2(df[df[\\\"high_cost\\\"] == 0])\" % type)\n",
    "    \n",
    "    return model\n"
   ]
  },
  {
   "cell_type": "code",
   "execution_count": 233,
   "metadata": {},
   "outputs": [],
   "source": [
    "# bootstrap regression for `rep` times\n",
    "def bootstrap(df, is_test_cost, is_test_high, type, rep):\n",
    "\n",
    "    cols = [\"hh\", \"hl\", \"dh\", \"dl\"]\n",
    "    bs_predictions = pd.DataFrame(columns=cols)\n",
    "    for i in range(rep):\n",
    "        # predictions for honolulu high/low, dutch high/low\n",
    "        # constant is on the first column !!!\n",
    "        model = sampleReg(df, is_test_cost, is_test_high, type)\n",
    "        hh = model.fit().predict([1, 1, 1, 1]) # honolulu high cost or honolulu 5-bidder\n",
    "        hl = model.fit().predict([1, 1, 0, 0]) # honolulu low cost or honolulu 2-bidder\n",
    "        dh = model.fit().predict([1, 0, 1, 0]) # dutch high cost or dutch 5-bidder\n",
    "        dl = model.fit().predict([1, 0, 0, 0]) # dutch low cost or dutch 2-bidder\n",
    "        bs_predictions.loc[len(bs_predictions)] = [hh, hl, dh, dl]\n",
    "        \n",
    "    return bs_predictions"
   ]
  },
  {
   "cell_type": "code",
   "execution_count": 234,
   "metadata": {},
   "outputs": [],
   "source": [
    "# bootstrap t test for complex predictions\n",
    "def bootstrapT(df, is_test_cost, is_test_high, type, rep):\n",
    "\n",
    "    # baseline test statistic -- theta_base\n",
    "    model_base = baselineReg(df, is_test_cost, is_test_high, type)\n",
    "    hh = model_base.fit().predict([1, 1, 1, 1])[0] # honolulu high cost or honolulu 5-bidder\n",
    "    hl = model_base.fit().predict([1, 1, 0, 0])[0] # honolulu low cost or honolulu 2-bidder\n",
    "    dh = model_base.fit().predict([1, 0, 1, 0])[0] # dutch high cost or dutch 5-bidder\n",
    "    dl = model_base.fit().predict([1, 0, 0, 0])[0] # dutch low cost or dutch 2-bidder\n",
    "    df_t = model_base.fit().df_resid\n",
    "    \n",
    "    # bootstrap test statistics -- theta_bs\n",
    "    bs_predictions = bootstrap(df, is_test_cost, is_test_high, type, rep)\n",
    "    \n",
    "    # bootstrap standard error, p-value\n",
    "    if (type == \"Sell\") and (is_test_cost == 0):\n",
    "        theta_base1 = hh / dh\n",
    "        theta_bs1 = bs_predictions[\"hh\"] / bs_predictions[\"dh\"]\n",
    "        se_bs1 = np.std(theta_bs1, ddof=1)\n",
    "        print(\"5-bidder\")\n",
    "        if is_test_high:\n",
    "            # print(np.sum(abs(theta_bs1 - theta_base1) > abs(theta_base1 - 0.988)) / len(theta_bs1))\n",
    "            print([theta_base1 - 0.988, se_bs1, stats.t.sf(abs(theta_base1 - 0.988) / se_bs1, df=df_t) * 2]) # test for H5/D5 = 0.988, high cost\n",
    "        else:\n",
    "            # print(np.sum(abs(theta_bs1 - theta_base1) > abs(theta_base1 - 0.991)) / len(theta_bs1))\n",
    "            print([theta_base1 - 0.991, se_bs1, stats.t.sf(abs(theta_base1 - 0.991) / se_bs1, df=df_t) * 2]) # test for H5/D5 = 0.981, low cost\n",
    "\n",
    "        theta_base2 = hl / dl\n",
    "        theta_bs2 = bs_predictions[\"hl\"] / bs_predictions[\"dl\"]\n",
    "        se_bs2 = np.std(theta_bs2, ddof=1)\n",
    "        print(\"2-bidder\")\n",
    "        if is_test_high:\n",
    "            # print(np.sum(abs(theta_bs2 - theta_base2) > abs(theta_base2 - 0.917)) / len(theta_bs2)) \n",
    "            print([theta_base2 - 0.917, se_bs2, stats.t.sf(abs(theta_base2 - 0.917) / se_bs2, df=df_t) * 2]) # test for H2/D2 = 0.917, high cost\n",
    "        else:\n",
    "            # print(np.sum(abs(theta_bs2 - theta_base2) > abs(theta_base2 - 1.011)) / len(theta_bs2))\n",
    "            print([theta_base2 - 1.011, se_bs2, stats.t.sf(abs(theta_base2 - 1.011) / se_bs2, df=df_t) * 2]) # test for H2/D2 = 1.011, low cost\n",
    "        \n",
    "\n",
    "    else:\n",
    "        if (type == \"Ub\") and (is_test_cost == 0):\n",
    "            theta_base = hl / dl - hh / dh\n",
    "            theta_bs = bs_predictions[\"hl\"] / bs_predictions[\"dl\"] - bs_predictions[\"hh\"] / bs_predictions[\"dh\"]\n",
    "        else:\n",
    "            theta_base = hh / dh - hl / dl\n",
    "            theta_bs = bs_predictions[\"hh\"] / bs_predictions[\"dh\"] - bs_predictions[\"hl\"] / bs_predictions[\"dl\"]\n",
    "        # print(np.sum((theta_bs > 2 * theta_base)) / len(theta_bs))\n",
    "        se_bs = np.std(theta_bs, ddof=1)\n",
    "        print([theta_base, se_bs, stats.t.sf(theta_base / se_bs, df=df_t)])"
   ]
  },
  {
   "cell_type": "code",
   "execution_count": 262,
   "metadata": {},
   "outputs": [],
   "source": [
    "# bootstrap standard error for simple predictions\n",
    "def bootstrapT2(df, is_test_cost, is_test_high, order, equal, type, rep):\n",
    "    \n",
    "    # baseline test statistic -- theta_base\n",
    "    model_base = baselineReg(df, is_test_cost, is_test_high, type)\n",
    "    hh = model_base.fit().predict([1, 1, 1, 1])[0] # honolulu high cost or honolulu 5-bidder\n",
    "    hl = model_base.fit().predict([1, 1, 0, 0])[0] # honolulu low cost or honolulu 2-bidder\n",
    "    dh = model_base.fit().predict([1, 0, 1, 0])[0] # dutch high cost or dutch 5-bidder\n",
    "    dl = model_base.fit().predict([1, 0, 0, 0])[0] # dutch low cost or dutch 2-bidder\n",
    "    df_t = model_base.fit().df_resid\n",
    "    \n",
    "    # bootstrap test statistics -- theta_bs\n",
    "    bs_predictions = bootstrap(df, is_test_cost, is_test_high, type, rep)\n",
    "\n",
    "    # bootstrap standard error, p-value\n",
    "    if order == \"HDh\":\n",
    "        theta_base = hh - dh\n",
    "        theta_bs = bs_predictions[\"hh\"] - bs_predictions[\"dh\"]\n",
    "    elif order == \"HDl\":\n",
    "        theta_base = hl - dl\n",
    "        theta_bs = bs_predictions[\"hl\"] - bs_predictions[\"dl\"]\n",
    "    elif order == \"DHh\":\n",
    "        theta_base = dh - hh\n",
    "        theta_bs = bs_predictions[\"dh\"] - bs_predictions[\"hh\"]\n",
    "    elif order == \"DHl\":\n",
    "        theta_base = dl - hl\n",
    "        theta_bs = bs_predictions[\"dl\"] - bs_predictions[\"hl\"]\n",
    "    se_bs = np.std(theta_bs, ddof=1)\n",
    "    if equal:\n",
    "        print([theta_base, se_bs, stats.t.sf(abs(theta_base) / se_bs, df=df_t) * 2])\n",
    "    else:\n",
    "        print([theta_base, se_bs, stats.t.sf(theta_base / se_bs, df=df_t)])"
   ]
  },
  {
   "cell_type": "markdown",
   "metadata": {},
   "source": [
    "### Pooled Resampling and Bootstrapping for Efficiency"
   ]
  },
  {
   "cell_type": "code",
   "execution_count": 236,
   "metadata": {},
   "outputs": [],
   "source": [
    "def regEffiPool(df):\n",
    "    cols = [\n",
    "        \"is_honolulu\", \n",
    "        # \"subsession.round_number\", \"round_honolulu\", \"round_squared\",\n",
    "    ]\n",
    "    y = df[\"effi\"].astype(float)\n",
    "    x = df[cols].astype(float)\n",
    "\n",
    "    x = sm.add_constant(x) # constant is added to the first column !!!\n",
    "    model = sm.OLS(y, x, missing=\"raise\")\n",
    "\n",
    "    return model"
   ]
  },
  {
   "cell_type": "code",
   "execution_count": 237,
   "metadata": {},
   "outputs": [],
   "source": [
    "def sampleRegPool(df, type):\n",
    "\n",
    "    # resampling data on the session level (the block) for each treatment\n",
    "    sessions = df[\"session.code\"].unique()\n",
    "    sessions_sample = pd.DataFrame({\"session.code\" : np.random.choice(sessions, size=sessions.size, replace=True)})\n",
    "    df_sample = sessions_sample.merge(df, how=\"left\", on=\"session.code\")\n",
    "\n",
    "    model = eval(\"reg%sPool(df_sample)\" % type)\n",
    "    \n",
    "    return model"
   ]
  },
  {
   "cell_type": "code",
   "execution_count": 238,
   "metadata": {},
   "outputs": [],
   "source": [
    "def baselineRegPool(df, type):\n",
    "    \n",
    "    model = eval(\"reg%sPool(df)\" % type)\n",
    "    \n",
    "    return model"
   ]
  },
  {
   "cell_type": "code",
   "execution_count": 239,
   "metadata": {},
   "outputs": [],
   "source": [
    "def bootstrapPool(df, type, rep):\n",
    "\n",
    "    cols = [\"h\", \"d\"]\n",
    "    bs_predictions = pd.DataFrame(columns=cols)\n",
    "    for i in range(rep):\n",
    "        # predictions for honolulu, dutch\n",
    "        # constant is on the first column !!!\n",
    "        model = sampleRegPool(df, type)\n",
    "        h = model.fit().predict([1, 1]) # honolulu\n",
    "        d = model.fit().predict([1, 0]) # dutch\n",
    "        bs_predictions.loc[len(bs_predictions)] = [h, d]\n",
    "        \n",
    "    return bs_predictions"
   ]
  },
  {
   "cell_type": "code",
   "execution_count": 240,
   "metadata": {},
   "outputs": [],
   "source": [
    "def bootstrapPoolT(df, type, rep):\n",
    "    \n",
    "    # baseline test statistic -- theta_base\n",
    "    model_base = baselineRegPool(df, type)\n",
    "    h = model_base.fit().predict([1, 1])[0] # honolulu\n",
    "    d = model_base.fit().predict([1, 0])[0] # dutch\n",
    "    df_t = model_base.fit().df_resid\n",
    "\n",
    "    # bootstrap test statistic -- theta_bs\n",
    "    bs_predictions = bootstrapPool(df, type, rep)\n",
    "\n",
    "    # bootstrap standard error, p-value\n",
    "    theta_base = h - d\n",
    "    theta_bs = bs_predictions[\"h\"] - bs_predictions[\"d\"]\n",
    "    se_bs = np.std(theta_bs, ddof=1)\n",
    "    print([theta_base, se_bs, stats.t.sf(theta_base / se_bs, df=df_t) * 2])   "
   ]
  },
  {
   "cell_type": "markdown",
   "metadata": {},
   "source": [
    "## Baseline Regression and Prediction"
   ]
  },
  {
   "cell_type": "markdown",
   "metadata": {},
   "source": [
    "### Auctioneer utility"
   ]
  },
  {
   "cell_type": "markdown",
   "metadata": {},
   "source": [
    "reg cost, 2 bidders"
   ]
  },
  {
   "cell_type": "code",
   "execution_count": 84,
   "metadata": {},
   "outputs": [
    {
     "name": "stdout",
     "output_type": "stream",
     "text": [
      "                               OLS Regression Results                               \n",
      "====================================================================================\n",
      "Dep. Variable:     group.auctioneer_utility   R-squared:                       0.029\n",
      "Model:                                  OLS   Adj. R-squared:                  0.027\n",
      "Method:                       Least Squares   F-statistic:                     13.91\n",
      "Date:                      Sat, 30 Sep 2023   Prob (F-statistic):           6.10e-09\n",
      "Time:                              23:05:42   Log-Likelihood:                -4757.6\n",
      "No. Observations:                      1404   AIC:                             9523.\n",
      "Df Residuals:                          1400   BIC:                             9544.\n",
      "Df Model:                                 3                                         \n",
      "Covariance Type:                  nonrobust                                         \n",
      "======================================================================================\n",
      "                         coef    std err          t      P>|t|      [0.025      0.975]\n",
      "--------------------------------------------------------------------------------------\n",
      "const                 11.0068      0.388     28.356      0.000      10.245      11.768\n",
      "is_honolulu           -3.1427      0.549     -5.725      0.000      -4.220      -2.066\n",
      "high_cost             -0.1862      0.542     -0.344      0.731      -1.250       0.877\n",
      "high_cost_honolulu     2.0504      0.767      2.675      0.008       0.547       3.554\n",
      "==============================================================================\n",
      "Omnibus:                      207.863   Durbin-Watson:                   1.829\n",
      "Prob(Omnibus):                  0.000   Jarque-Bera (JB):              360.350\n",
      "Skew:                           0.946   Prob(JB):                     5.64e-79\n",
      "Kurtosis:                       4.607   Cond. No.                         6.94\n",
      "==============================================================================\n",
      "\n",
      "Notes:\n",
      "[1] Standard Errors assume that the covariance matrix of the errors is correctly specified.\n",
      "\n",
      "hh\thl\tdh\tdl\n",
      "9.73\t7.86\t10.82\t11.01\n"
     ]
    }
   ],
   "source": [
    "model = baselineReg(df_ua, is_test_cost=1, is_test_high=0, type=\"Ua\").fit()\n",
    "print(model.summary())\n",
    "print(\"\\nhh\\thl\\tdh\\tdl\\n%.2f\\t%.2f\\t%.2f\\t%.2f\" % (model.predict([1, 1, 1, 1]), model.predict([1, 1, 0, 0]), model.predict([1, 0, 1, 0]), model.predict([1, 0, 0, 0])))"
   ]
  },
  {
   "cell_type": "markdown",
   "metadata": {},
   "source": [
    "reg cost, 5 bidders"
   ]
  },
  {
   "cell_type": "code",
   "execution_count": 261,
   "metadata": {},
   "outputs": [
    {
     "name": "stdout",
     "output_type": "stream",
     "text": [
      "                               OLS Regression Results                               \n",
      "====================================================================================\n",
      "Dep. Variable:     group.auctioneer_utility   R-squared:                       0.141\n",
      "Model:                                  OLS   Adj. R-squared:                  0.138\n",
      "Method:                       Least Squares   F-statistic:                     44.14\n",
      "Date:                      Thu, 05 Oct 2023   Prob (F-statistic):           2.02e-26\n",
      "Time:                              01:40:04   Log-Likelihood:                -2853.9\n",
      "No. Observations:                       812   AIC:                             5716.\n",
      "Df Residuals:                           808   BIC:                             5735.\n",
      "Df Model:                                 3                                         \n",
      "Covariance Type:                  nonrobust                                         \n",
      "======================================================================================\n",
      "                         coef    std err          t      P>|t|      [0.025      0.975]\n",
      "--------------------------------------------------------------------------------------\n",
      "const                 29.3035      0.582     50.327      0.000      28.161      30.446\n",
      "is_honolulu           -7.2971      0.823     -8.862      0.000      -8.913      -5.681\n",
      "high_cost             -2.0383      0.810     -2.518      0.012      -3.628      -0.449\n",
      "high_cost_honolulu     1.6962      1.145      1.481      0.139      -0.551       3.944\n",
      "==============================================================================\n",
      "Omnibus:                       54.777   Durbin-Watson:                   1.754\n",
      "Prob(Omnibus):                  0.000   Jarque-Bera (JB):               64.454\n",
      "Skew:                          -0.685   Prob(JB):                     1.01e-14\n",
      "Kurtosis:                       3.174   Cond. No.                         6.97\n",
      "==============================================================================\n",
      "\n",
      "Notes:\n",
      "[1] Standard Errors assume that the covariance matrix of the errors is correctly specified.\n",
      "\n",
      "hh\thl\tdh\tdl\n",
      "21.66\t22.01\t27.27\t29.30\n"
     ]
    }
   ],
   "source": [
    "model = baselineReg(df_ua, is_test_cost=1, is_test_high=1, type=\"Ua\").fit()\n",
    "print(model.summary())\n",
    "print(\"\\nhh\\thl\\tdh\\tdl\\n%.2f\\t%.2f\\t%.2f\\t%.2f\" % (model.predict([1, 1, 1, 1]), model.predict([1, 1, 0, 0]), model.predict([1, 0, 1, 0]), model.predict([1, 0, 0, 0])))"
   ]
  },
  {
   "cell_type": "markdown",
   "metadata": {},
   "source": [
    "### Bidder utility"
   ]
  },
  {
   "cell_type": "markdown",
   "metadata": {},
   "source": [
    "reg cost, 2 bidders"
   ]
  },
  {
   "cell_type": "code",
   "execution_count": 86,
   "metadata": {},
   "outputs": [
    {
     "name": "stdout",
     "output_type": "stream",
     "text": [
      "                            OLS Regression Results                            \n",
      "==============================================================================\n",
      "Dep. Variable:                      y   R-squared:                       0.144\n",
      "Model:                            OLS   Adj. R-squared:                  0.142\n",
      "Method:                 Least Squares   F-statistic:                     77.64\n",
      "Date:                Sat, 30 Sep 2023   Prob (F-statistic):           1.99e-46\n",
      "Time:                        23:09:20   Log-Likelihood:                -4945.6\n",
      "No. Observations:                1392   AIC:                             9899.\n",
      "Df Residuals:                    1388   BIC:                             9920.\n",
      "Df Model:                           3                                         \n",
      "Covariance Type:            nonrobust                                         \n",
      "======================================================================================\n",
      "                         coef    std err          t      P>|t|      [0.025      0.975]\n",
      "--------------------------------------------------------------------------------------\n",
      "const                  8.0967      0.460     17.595      0.000       7.194       8.999\n",
      "is_honolulu            6.0995      0.649      9.394      0.000       4.826       7.373\n",
      "high_cost             -3.5529      0.643     -5.522      0.000      -4.815      -2.291\n",
      "high_cost_honolulu    -0.9536      0.907     -1.051      0.293      -2.733       0.826\n",
      "==============================================================================\n",
      "Omnibus:                      241.741   Durbin-Watson:                   1.861\n",
      "Prob(Omnibus):                  0.000   Jarque-Bera (JB):             1953.923\n",
      "Skew:                          -0.563   Prob(JB):                         0.00\n",
      "Kurtosis:                       8.694   Cond. No.                         6.95\n",
      "==============================================================================\n",
      "\n",
      "Notes:\n",
      "[1] Standard Errors assume that the covariance matrix of the errors is correctly specified.\n",
      "\n",
      "hh\thl\tdh\tdl\n",
      "9.69\t14.20\t4.54\t8.10\n"
     ]
    }
   ],
   "source": [
    "model = baselineReg(df_ub, is_test_cost=1, is_test_high=0, type=\"Ub\").fit()\n",
    "print(model.summary())\n",
    "print(\"\\nhh\\thl\\tdh\\tdl\\n%.2f\\t%.2f\\t%.2f\\t%.2f\" % (model.predict([1, 1, 1, 1]), model.predict([1, 1, 0, 0]), model.predict([1, 0, 1, 0]), model.predict([1, 0, 0, 0])))"
   ]
  },
  {
   "cell_type": "markdown",
   "metadata": {},
   "source": [
    "reg cost, 5 bidders"
   ]
  },
  {
   "cell_type": "code",
   "execution_count": 87,
   "metadata": {},
   "outputs": [
    {
     "name": "stdout",
     "output_type": "stream",
     "text": [
      "                            OLS Regression Results                            \n",
      "==============================================================================\n",
      "Dep. Variable:                      y   R-squared:                       0.106\n",
      "Model:                            OLS   Adj. R-squared:                  0.103\n",
      "Method:                 Least Squares   F-statistic:                     32.06\n",
      "Date:                Sat, 30 Sep 2023   Prob (F-statistic):           1.37e-19\n",
      "Time:                        23:11:01   Log-Likelihood:                -2678.4\n",
      "No. Observations:                 812   AIC:                             5365.\n",
      "Df Residuals:                     808   BIC:                             5384.\n",
      "Df Model:                           3                                         \n",
      "Covariance Type:            nonrobust                                         \n",
      "======================================================================================\n",
      "                         coef    std err          t      P>|t|      [0.025      0.975]\n",
      "--------------------------------------------------------------------------------------\n",
      "const                  1.5018      0.469      3.202      0.001       0.581       2.423\n",
      "is_honolulu            6.2992      0.663      9.496      0.000       4.997       7.601\n",
      "high_cost              1.7815      0.652      2.731      0.006       0.501       3.062\n",
      "high_cost_honolulu    -5.2493      0.922     -5.691      0.000      -7.060      -3.439\n",
      "==============================================================================\n",
      "Omnibus:                      597.146   Durbin-Watson:                   1.747\n",
      "Prob(Omnibus):                  0.000   Jarque-Bera (JB):            13147.047\n",
      "Skew:                          -3.086   Prob(JB):                         0.00\n",
      "Kurtosis:                      21.721   Cond. No.                         6.97\n",
      "==============================================================================\n",
      "\n",
      "Notes:\n",
      "[1] Standard Errors assume that the covariance matrix of the errors is correctly specified.\n",
      "\n",
      "hh\thl\tdh\tdl\n",
      "4.33\t7.80\t3.28\t1.50\n"
     ]
    }
   ],
   "source": [
    "model = baselineReg(df_ub, is_test_cost=1, is_test_high=1, type=\"Ub\").fit()\n",
    "print(model.summary())\n",
    "print(\"\\nhh\\thl\\tdh\\tdl\\n%.2f\\t%.2f\\t%.2f\\t%.2f\" % (model.predict([1, 1, 1, 1]), model.predict([1, 1, 0, 0]), model.predict([1, 0, 1, 0]), model.predict([1, 0, 0, 0])))"
   ]
  },
  {
   "cell_type": "markdown",
   "metadata": {},
   "source": [
    "reg bidders, high cost"
   ]
  },
  {
   "cell_type": "code",
   "execution_count": 89,
   "metadata": {},
   "outputs": [
    {
     "name": "stdout",
     "output_type": "stream",
     "text": [
      "                            OLS Regression Results                            \n",
      "==============================================================================\n",
      "Dep. Variable:                      y   R-squared:                       0.133\n",
      "Model:                            OLS   Adj. R-squared:                  0.131\n",
      "Method:                 Least Squares   F-statistic:                     57.79\n",
      "Date:                Sat, 30 Sep 2023   Prob (F-statistic):           9.32e-35\n",
      "Time:                        23:11:55   Log-Likelihood:                -3759.1\n",
      "No. Observations:                1133   AIC:                             7526.\n",
      "Df Residuals:                    1129   BIC:                             7546.\n",
      "Df Model:                           3                                         \n",
      "Covariance Type:            nonrobust                                         \n",
      "=====================================================================================\n",
      "                        coef    std err          t      P>|t|      [0.025      0.975]\n",
      "-------------------------------------------------------------------------------------\n",
      "const                 4.5438      0.356     12.779      0.000       3.846       5.242\n",
      "is_honolulu           5.1459      0.501     10.269      0.000       4.163       6.129\n",
      "is_5_bidder          -1.2606      0.583     -2.163      0.031      -2.404      -0.117\n",
      "5_bidder_honolulu    -4.0959      0.823     -4.977      0.000      -5.711      -2.481\n",
      "==============================================================================\n",
      "Omnibus:                      474.744   Durbin-Watson:                   1.927\n",
      "Prob(Omnibus):                  0.000   Jarque-Bera (JB):             6746.323\n",
      "Skew:                          -1.537   Prob(JB):                         0.00\n",
      "Kurtosis:                      14.552   Cond. No.                         6.36\n",
      "==============================================================================\n",
      "\n",
      "Notes:\n",
      "[1] Standard Errors assume that the covariance matrix of the errors is correctly specified.\n",
      "\n",
      "hh\thl\tdh\tdl\n",
      "4.33\t9.69\t3.28\t4.54\n"
     ]
    }
   ],
   "source": [
    "model = baselineReg(df_ub, is_test_cost=0, is_test_high=1, type=\"Ub\").fit()\n",
    "print(model.summary())\n",
    "print(\"\\nhh\\thl\\tdh\\tdl\\n%.2f\\t%.2f\\t%.2f\\t%.2f\" % (model.predict([1, 1, 1, 1]), model.predict([1, 1, 0, 0]), model.predict([1, 0, 1, 0]), model.predict([1, 0, 0, 0])))"
   ]
  },
  {
   "cell_type": "markdown",
   "metadata": {},
   "source": [
    "reg bidders, low cost"
   ]
  },
  {
   "cell_type": "code",
   "execution_count": 90,
   "metadata": {},
   "outputs": [
    {
     "name": "stdout",
     "output_type": "stream",
     "text": [
      "                            OLS Regression Results                            \n",
      "==============================================================================\n",
      "Dep. Variable:                      y   R-squared:                       0.199\n",
      "Model:                            OLS   Adj. R-squared:                  0.196\n",
      "Method:                 Least Squares   F-statistic:                     88.15\n",
      "Date:                Sat, 30 Sep 2023   Prob (F-statistic):           5.85e-51\n",
      "Time:                        23:12:47   Log-Likelihood:                -3853.4\n",
      "No. Observations:                1071   AIC:                             7715.\n",
      "Df Residuals:                    1067   BIC:                             7735.\n",
      "Df Model:                           3                                         \n",
      "Covariance Type:            nonrobust                                         \n",
      "=====================================================================================\n",
      "                        coef    std err          t      P>|t|      [0.025      0.975]\n",
      "-------------------------------------------------------------------------------------\n",
      "const                 8.0967      0.482     16.812      0.000       7.152       9.042\n",
      "is_honolulu           6.0995      0.680      8.975      0.000       4.766       7.433\n",
      "is_5_bidder          -6.5949      0.795     -8.296      0.000      -8.155      -5.035\n",
      "5_bidder_honolulu     0.1997      1.123      0.178      0.859      -2.004       2.404\n",
      "==============================================================================\n",
      "Omnibus:                      257.732   Durbin-Watson:                   1.784\n",
      "Prob(Omnibus):                  0.000   Jarque-Bera (JB):             1960.483\n",
      "Skew:                          -0.890   Prob(JB):                         0.00\n",
      "Kurtosis:                       9.385   Cond. No.                         6.35\n",
      "==============================================================================\n",
      "\n",
      "Notes:\n",
      "[1] Standard Errors assume that the covariance matrix of the errors is correctly specified.\n",
      "\n",
      "hh\thl\tdh\tdl\n",
      "7.80\t14.20\t1.50\t8.10\n"
     ]
    }
   ],
   "source": [
    "model = baselineReg(df_ub, is_test_cost=0, is_test_high=0, type=\"Ub\").fit()\n",
    "print(model.summary())\n",
    "print(\"\\nhh\\thl\\tdh\\tdl\\n%.2f\\t%.2f\\t%.2f\\t%.2f\" % (model.predict([1, 1, 1, 1]), model.predict([1, 1, 0, 0]), model.predict([1, 0, 1, 0]), model.predict([1, 0, 0, 0])))"
   ]
  },
  {
   "cell_type": "markdown",
   "metadata": {},
   "source": [
    "### Auction duration"
   ]
  },
  {
   "cell_type": "markdown",
   "metadata": {},
   "source": [
    "reg bidders, high cost"
   ]
  },
  {
   "cell_type": "code",
   "execution_count": 93,
   "metadata": {},
   "outputs": [
    {
     "name": "stdout",
     "output_type": "stream",
     "text": [
      "                            OLS Regression Results                            \n",
      "==============================================================================\n",
      "Dep. Variable:           time_elapsed   R-squared:                       0.239\n",
      "Model:                            OLS   Adj. R-squared:                  0.237\n",
      "Method:                 Least Squares   F-statistic:                     118.7\n",
      "Date:                Sat, 30 Sep 2023   Prob (F-statistic):           7.03e-67\n",
      "Time:                        23:15:51   Log-Likelihood:                -4282.2\n",
      "No. Observations:                1140   AIC:                             8572.\n",
      "Df Residuals:                    1136   BIC:                             8593.\n",
      "Df Model:                           3                                         \n",
      "Covariance Type:            nonrobust                                         \n",
      "=====================================================================================\n",
      "                        coef    std err          t      P>|t|      [0.025      0.975]\n",
      "-------------------------------------------------------------------------------------\n",
      "const                29.8980      0.547     54.691      0.000      28.825      30.971\n",
      "is_honolulu          -9.2565      0.773    -11.973      0.000     -10.773      -7.740\n",
      "is_5_bidder         -15.5978      0.901    -17.319      0.000     -17.365     -13.831\n",
      "5_bidder_honolulu    13.3393      1.274     10.473      0.000      10.840      15.838\n",
      "==============================================================================\n",
      "Omnibus:                       50.630   Durbin-Watson:                   1.664\n",
      "Prob(Omnibus):                  0.000   Jarque-Bera (JB):               57.448\n",
      "Skew:                           0.501   Prob(JB):                     3.35e-13\n",
      "Kurtosis:                       3.452   Cond. No.                         6.35\n",
      "==============================================================================\n",
      "\n",
      "Notes:\n",
      "[1] Standard Errors assume that the covariance matrix of the errors is correctly specified.\n",
      "\n",
      "hh\thl\tdh\tdl\n",
      "18.38\t20.64\t14.30\t29.90\n"
     ]
    }
   ],
   "source": [
    "model = baselineReg(df_dura, is_test_cost=0, is_test_high=1, type=\"Dura\").fit()\n",
    "print(model.summary())\n",
    "print(\"\\nhh\\thl\\tdh\\tdl\\n%.2f\\t%.2f\\t%.2f\\t%.2f\" % (model.predict([1, 1, 1, 1]), model.predict([1, 1, 0, 0]), model.predict([1, 0, 1, 0]), model.predict([1, 0, 0, 0])))"
   ]
  },
  {
   "cell_type": "markdown",
   "metadata": {},
   "source": [
    "reg bidders, low cost"
   ]
  },
  {
   "cell_type": "code",
   "execution_count": 94,
   "metadata": {},
   "outputs": [
    {
     "name": "stdout",
     "output_type": "stream",
     "text": [
      "                            OLS Regression Results                            \n",
      "==============================================================================\n",
      "Dep. Variable:           time_elapsed   R-squared:                       0.310\n",
      "Model:                            OLS   Adj. R-squared:                  0.308\n",
      "Method:                 Least Squares   F-statistic:                     160.8\n",
      "Date:                Sat, 30 Sep 2023   Prob (F-statistic):           4.52e-86\n",
      "Time:                        23:16:28   Log-Likelihood:                -3949.0\n",
      "No. Observations:                1076   AIC:                             7906.\n",
      "Df Residuals:                    1072   BIC:                             7926.\n",
      "Df Model:                           3                                         \n",
      "Covariance Type:            nonrobust                                         \n",
      "=====================================================================================\n",
      "                        coef    std err          t      P>|t|      [0.025      0.975]\n",
      "-------------------------------------------------------------------------------------\n",
      "const                29.4875      0.515     57.306      0.000      28.478      30.497\n",
      "is_honolulu          -9.8532      0.728    -13.540      0.000     -11.281      -8.425\n",
      "is_5_bidder         -16.4840      0.853    -19.336      0.000     -18.157     -14.811\n",
      "5_bidder_honolulu    12.3518      1.206     10.245      0.000       9.986      14.717\n",
      "==============================================================================\n",
      "Omnibus:                       50.158   Durbin-Watson:                   1.844\n",
      "Prob(Omnibus):                  0.000   Jarque-Bera (JB):               56.163\n",
      "Skew:                           0.556   Prob(JB):                     6.37e-13\n",
      "Kurtosis:                       3.135   Cond. No.                         6.34\n",
      "==============================================================================\n",
      "\n",
      "Notes:\n",
      "[1] Standard Errors assume that the covariance matrix of the errors is correctly specified.\n",
      "\n",
      "hh\thl\tdh\tdl\n",
      "15.50\t19.63\t13.00\t29.49\n"
     ]
    }
   ],
   "source": [
    "model = baselineReg(df_dura, is_test_cost=0, is_test_high=0, type=\"Dura\").fit()\n",
    "print(model.summary())\n",
    "print(\"\\nhh\\thl\\tdh\\tdl\\n%.2f\\t%.2f\\t%.2f\\t%.2f\" % (model.predict([1, 1, 1, 1]), model.predict([1, 1, 0, 0]), model.predict([1, 0, 1, 0]), model.predict([1, 0, 0, 0])))"
   ]
  },
  {
   "cell_type": "markdown",
   "metadata": {},
   "source": [
    "### Selling price"
   ]
  },
  {
   "cell_type": "markdown",
   "metadata": {},
   "source": [
    "reg bidders, high cost"
   ]
  },
  {
   "cell_type": "code",
   "execution_count": 102,
   "metadata": {},
   "outputs": [
    {
     "name": "stdout",
     "output_type": "stream",
     "text": [
      "                            OLS Regression Results                            \n",
      "==============================================================================\n",
      "Dep. Variable:            final_price   R-squared:                       0.421\n",
      "Model:                            OLS   Adj. R-squared:                  0.420\n",
      "Method:                 Least Squares   F-statistic:                     275.7\n",
      "Date:                Sun, 01 Oct 2023   Prob (F-statistic):          2.06e-134\n",
      "Time:                        16:53:53   Log-Likelihood:                -4153.8\n",
      "No. Observations:                1140   AIC:                             8316.\n",
      "Df Residuals:                    1136   BIC:                             8336.\n",
      "Df Model:                           3                                         \n",
      "Covariance Type:            nonrobust                                         \n",
      "=====================================================================================\n",
      "                        coef    std err          t      P>|t|      [0.025      0.975]\n",
      "-------------------------------------------------------------------------------------\n",
      "const                20.6333      0.488     42.244      0.000      19.675      21.592\n",
      "is_honolulu          -3.6139      0.691     -5.232      0.000      -4.969      -2.259\n",
      "is_5_bidder          15.6238      0.805     19.416      0.000      14.045      17.203\n",
      "5_bidder_honolulu     0.7282      1.138      0.640      0.522      -1.505       2.961\n",
      "==============================================================================\n",
      "Omnibus:                        4.792   Durbin-Watson:                   2.027\n",
      "Prob(Omnibus):                  0.091   Jarque-Bera (JB):                4.664\n",
      "Skew:                           0.148   Prob(JB):                       0.0971\n",
      "Kurtosis:                       3.102   Cond. No.                         6.35\n",
      "==============================================================================\n",
      "\n",
      "Notes:\n",
      "[1] Standard Errors assume that the covariance matrix of the errors is correctly specified.\n",
      "\n",
      "hh\thl\tdh\tdl\n",
      "33.37\t17.02\t36.26\t20.63\n"
     ]
    }
   ],
   "source": [
    "model = baselineReg(df_sell, is_test_cost=0, is_test_high=1, type=\"Sell\").fit()\n",
    "print(model.summary())\n",
    "print(\"\\nhh\\thl\\tdh\\tdl\\n%.2f\\t%.2f\\t%.2f\\t%.2f\" % (model.predict([1, 1, 1, 1]), model.predict([1, 1, 0, 0]), model.predict([1, 0, 1, 0]), model.predict([1, 0, 0, 0])))"
   ]
  },
  {
   "cell_type": "markdown",
   "metadata": {},
   "source": [
    "reg bidders, low cost"
   ]
  },
  {
   "cell_type": "code",
   "execution_count": 103,
   "metadata": {},
   "outputs": [
    {
     "name": "stdout",
     "output_type": "stream",
     "text": [
      "                            OLS Regression Results                            \n",
      "==============================================================================\n",
      "Dep. Variable:            final_price   R-squared:                       0.444\n",
      "Model:                            OLS   Adj. R-squared:                  0.442\n",
      "Method:                 Least Squares   F-statistic:                     284.9\n",
      "Date:                Sun, 01 Oct 2023   Prob (F-statistic):          5.91e-136\n",
      "Time:                        16:55:48   Log-Likelihood:                -3940.2\n",
      "No. Observations:                1076   AIC:                             7888.\n",
      "Df Residuals:                    1072   BIC:                             7908.\n",
      "Df Model:                           3                                         \n",
      "Covariance Type:            nonrobust                                         \n",
      "=====================================================================================\n",
      "                        coef    std err          t      P>|t|      [0.025      0.975]\n",
      "-------------------------------------------------------------------------------------\n",
      "const                21.0731      0.510     41.290      0.000      20.072      22.075\n",
      "is_honolulu          -5.4678      0.722     -7.576      0.000      -6.884      -4.052\n",
      "is_5_bidder          16.4932      0.846     19.505      0.000      14.834      18.152\n",
      "5_bidder_honolulu     0.1005      1.196      0.084      0.933      -2.246       2.447\n",
      "==============================================================================\n",
      "Omnibus:                       12.902   Durbin-Watson:                   1.927\n",
      "Prob(Omnibus):                  0.002   Jarque-Bera (JB):               13.181\n",
      "Skew:                           0.271   Prob(JB):                      0.00137\n",
      "Kurtosis:                       2.988   Cond. No.                         6.34\n",
      "==============================================================================\n",
      "\n",
      "Notes:\n",
      "[1] Standard Errors assume that the covariance matrix of the errors is correctly specified.\n",
      "\n",
      "hh\thl\tdh\tdl\n",
      "32.20\t15.61\t37.57\t21.07\n"
     ]
    }
   ],
   "source": [
    "model = baselineReg(df_sell, is_test_cost=0, is_test_high=0, type=\"Sell\").fit()\n",
    "print(model.summary())\n",
    "print(\"\\nhh\\thl\\tdh\\tdl\\n%.2f\\t%.2f\\t%.2f\\t%.2f\" % (model.predict([1, 1, 1, 1]), model.predict([1, 1, 0, 0]), model.predict([1, 0, 1, 0]), model.predict([1, 0, 0, 0])))"
   ]
  },
  {
   "cell_type": "markdown",
   "metadata": {},
   "source": [
    "### Efficiency"
   ]
  },
  {
   "cell_type": "markdown",
   "metadata": {},
   "source": [
    "reg cost, 2 bidders"
   ]
  },
  {
   "cell_type": "code",
   "execution_count": 267,
   "metadata": {},
   "outputs": [
    {
     "name": "stdout",
     "output_type": "stream",
     "text": [
      "                            OLS Regression Results                            \n",
      "==============================================================================\n",
      "Dep. Variable:                   effi   R-squared:                       0.003\n",
      "Model:                            OLS   Adj. R-squared:                  0.001\n",
      "Method:                 Least Squares   F-statistic:                     1.454\n",
      "Date:                Thu, 05 Oct 2023   Prob (F-statistic):              0.226\n",
      "Time:                        01:56:18   Log-Likelihood:                -5802.9\n",
      "No. Observations:                1404   AIC:                         1.161e+04\n",
      "Df Residuals:                    1400   BIC:                         1.163e+04\n",
      "Df Model:                           3                                         \n",
      "Covariance Type:            nonrobust                                         \n",
      "======================================================================================\n",
      "                         coef    std err          t      P>|t|      [0.025      0.975]\n",
      "--------------------------------------------------------------------------------------\n",
      "const                 95.4430      0.817    116.783      0.000      93.840      97.046\n",
      "is_honolulu            1.3199      1.156      1.142      0.254      -0.947       3.587\n",
      "high_cost             -0.6200      1.141     -0.543      0.587      -2.859       1.619\n",
      "high_cost_honolulu     0.5980      1.614      0.371      0.711      -2.568       3.764\n",
      "==============================================================================\n",
      "Omnibus:                     1309.105   Durbin-Watson:                   1.822\n",
      "Prob(Omnibus):                  0.000   Jarque-Bera (JB):            33286.745\n",
      "Skew:                          -4.579   Prob(JB):                         0.00\n",
      "Kurtosis:                      25.026   Cond. No.                         6.94\n",
      "==============================================================================\n",
      "\n",
      "Notes:\n",
      "[1] Standard Errors assume that the covariance matrix of the errors is correctly specified.\n",
      "\n",
      "hh\thl\tdh\tdl\n",
      "96.74\t96.76\t94.82\t95.44\n"
     ]
    }
   ],
   "source": [
    "model = baselineReg(df_effi, is_test_cost=1, is_test_high=0, type=\"Effi\").fit()\n",
    "print(model.summary())\n",
    "print(\"\\nhh\\thl\\tdh\\tdl\\n%.2f\\t%.2f\\t%.2f\\t%.2f\" % (model.predict([1, 1, 1, 1]), model.predict([1, 1, 0, 0]), model.predict([1, 0, 1, 0]), model.predict([1, 0, 0, 0])))"
   ]
  },
  {
   "cell_type": "markdown",
   "metadata": {},
   "source": [
    "reg cost, 5 bidders"
   ]
  },
  {
   "cell_type": "code",
   "execution_count": 268,
   "metadata": {},
   "outputs": [
    {
     "name": "stdout",
     "output_type": "stream",
     "text": [
      "                            OLS Regression Results                            \n",
      "==============================================================================\n",
      "Dep. Variable:                   effi   R-squared:                       0.020\n",
      "Model:                            OLS   Adj. R-squared:                  0.016\n",
      "Method:                 Least Squares   F-statistic:                     5.376\n",
      "Date:                Thu, 05 Oct 2023   Prob (F-statistic):            0.00115\n",
      "Time:                        01:56:21   Log-Likelihood:                -2955.2\n",
      "No. Observations:                 812   AIC:                             5918.\n",
      "Df Residuals:                     808   BIC:                             5937.\n",
      "Df Model:                           3                                         \n",
      "Covariance Type:            nonrobust                                         \n",
      "======================================================================================\n",
      "                         coef    std err          t      P>|t|      [0.025      0.975]\n",
      "--------------------------------------------------------------------------------------\n",
      "const                 95.4755      0.660    144.753      0.000      94.181      96.770\n",
      "is_honolulu            3.0170      0.933      3.234      0.001       1.186       4.848\n",
      "high_cost              3.1229      0.917      3.405      0.001       1.323       4.923\n",
      "high_cost_honolulu    -3.1660      1.297     -2.441      0.015      -5.712      -0.620\n",
      "==============================================================================\n",
      "Omnibus:                     1034.106   Durbin-Watson:                   1.864\n",
      "Prob(Omnibus):                  0.000   Jarque-Bera (JB):           106181.133\n",
      "Skew:                          -6.698   Prob(JB):                         0.00\n",
      "Kurtosis:                      57.396   Cond. No.                         6.97\n",
      "==============================================================================\n",
      "\n",
      "Notes:\n",
      "[1] Standard Errors assume that the covariance matrix of the errors is correctly specified.\n",
      "\n",
      "hh\thl\tdh\tdl\n",
      "98.45\t98.49\t98.60\t95.48\n"
     ]
    }
   ],
   "source": [
    "model = baselineReg(df_effi, is_test_cost=1, is_test_high=1, type=\"Effi\").fit()\n",
    "print(model.summary())\n",
    "print(\"\\nhh\\thl\\tdh\\tdl\\n%.2f\\t%.2f\\t%.2f\\t%.2f\" % (model.predict([1, 1, 1, 1]), model.predict([1, 1, 0, 0]), model.predict([1, 0, 1, 0]), model.predict([1, 0, 0, 0])))"
   ]
  },
  {
   "cell_type": "markdown",
   "metadata": {},
   "source": [
    "pooled"
   ]
  },
  {
   "cell_type": "code",
   "execution_count": 269,
   "metadata": {},
   "outputs": [
    {
     "name": "stdout",
     "output_type": "stream",
     "text": [
      "                            OLS Regression Results                            \n",
      "==============================================================================\n",
      "Dep. Variable:                   effi   R-squared:                       0.003\n",
      "Model:                            OLS   Adj. R-squared:                  0.003\n",
      "Method:                 Least Squares   F-statistic:                     7.392\n",
      "Date:                Thu, 05 Oct 2023   Prob (F-statistic):            0.00660\n",
      "Time:                        02:05:37   Log-Likelihood:                -8877.5\n",
      "No. Observations:                2216   AIC:                         1.776e+04\n",
      "Df Residuals:                    2214   BIC:                         1.777e+04\n",
      "Df Model:                           1                                         \n",
      "Covariance Type:            nonrobust                                         \n",
      "===============================================================================\n",
      "                  coef    std err          t      P>|t|      [0.025      0.975]\n",
      "-------------------------------------------------------------------------------\n",
      "const          95.8454      0.399    239.916      0.000      95.062      96.629\n",
      "is_honolulu     1.5360      0.565      2.719      0.007       0.428       2.644\n",
      "==============================================================================\n",
      "Omnibus:                     2259.635   Durbin-Watson:                   1.818\n",
      "Prob(Omnibus):                  0.000   Jarque-Bera (JB):            88267.000\n",
      "Skew:                          -5.184   Prob(JB):                         0.00\n",
      "Kurtosis:                      32.128   Cond. No.                         2.62\n",
      "==============================================================================\n",
      "\n",
      "Notes:\n",
      "[1] Standard Errors assume that the covariance matrix of the errors is correctly specified.\n"
     ]
    }
   ],
   "source": [
    "model = baselineRegPool(df_effi, type=\"Effi\").fit()\n",
    "print(model.summary())"
   ]
  },
  {
   "cell_type": "markdown",
   "metadata": {},
   "source": [
    "## Blocked Bootstrap"
   ]
  },
  {
   "cell_type": "markdown",
   "metadata": {},
   "source": [
    "### Auctioneer utility"
   ]
  },
  {
   "cell_type": "markdown",
   "metadata": {},
   "source": [
    "H/D (high cost) > H/D (low cost) for 5 bidders"
   ]
  },
  {
   "cell_type": "code",
   "execution_count": 58,
   "metadata": {},
   "outputs": [
    {
     "name": "stdout",
     "output_type": "stream",
     "text": [
      "[0.04359385888230305, 0.07952604359443904, 0.2918630028998678]\n"
     ]
    }
   ],
   "source": [
    "np.random.seed(1)\n",
    "bootstrapT(df_ua, is_test_cost=1, is_test_high=1, type=\"Ua\", rep=1000)"
   ]
  },
  {
   "cell_type": "markdown",
   "metadata": {},
   "source": [
    "H > D (high cost) for 2 bidders, H > D (high cost) for 5 bidders"
   ]
  },
  {
   "cell_type": "code",
   "execution_count": 77,
   "metadata": {},
   "outputs": [
    {
     "name": "stdout",
     "output_type": "stream",
     "text": [
      "[-1.0923669174360686, 0.7755580755214634, 0.9203961837243062]\n"
     ]
    }
   ],
   "source": [
    "np.random.seed(1)\n",
    "bootstrapT2(df_ua, is_test_cost=1, is_test_high=0, order=\"HDh\", equal=False, type=\"Ua\", rep=1000)"
   ]
  },
  {
   "cell_type": "code",
   "execution_count": 76,
   "metadata": {},
   "outputs": [
    {
     "name": "stdout",
     "output_type": "stream",
     "text": [
      "[-5.600926518328652, 1.7385471775967, 0.9993371252336474]\n"
     ]
    }
   ],
   "source": [
    "np.random.seed(1)\n",
    "bootstrapT2(df_ua, is_test_cost=1, is_test_high=1, order=\"HDh\", equal=False, type=\"Ua\", rep=1000)"
   ]
  },
  {
   "cell_type": "markdown",
   "metadata": {},
   "source": [
    "H > D (low cost) for 2 bidders, H > D (low cost) for 5 bidders"
   ]
  },
  {
   "cell_type": "code",
   "execution_count": 246,
   "metadata": {},
   "outputs": [
    {
     "name": "stdout",
     "output_type": "stream",
     "text": [
      "[-3.142741451485314, 0.5357300267322749, 0.9999999972230117]\n"
     ]
    }
   ],
   "source": [
    "np.random.seed(1)\n",
    "bootstrapT2(df_ua, is_test_cost=1, is_test_high=0, order=\"HDl\", equal=False, type=\"Ua\", rep=1000)"
   ]
  },
  {
   "cell_type": "code",
   "execution_count": 79,
   "metadata": {},
   "outputs": [
    {
     "name": "stdout",
     "output_type": "stream",
     "text": [
      "[-7.297101809729607, 2.0499169023805477, 0.9998035233045061]\n"
     ]
    }
   ],
   "source": [
    "np.random.seed(1)\n",
    "bootstrapT2(df_ua, is_test_cost=1, is_test_high=1, order=\"HDl\", equal=False, type=\"Ua\", rep=1000)"
   ]
  },
  {
   "cell_type": "markdown",
   "metadata": {},
   "source": [
    "H > D (2 bidders) for high cost, H > D (5 bidders) for high cost"
   ]
  },
  {
   "cell_type": "code",
   "execution_count": 263,
   "metadata": {},
   "outputs": [
    {
     "name": "stdout",
     "output_type": "stream",
     "text": [
      "[-1.0923669174359674, 0.7632014950621325, 0.9236897184259946]\n"
     ]
    }
   ],
   "source": [
    "np.random.seed(1)\n",
    "bootstrapT2(df_ua, is_test_cost=0, is_test_high=1, order=\"HDl\", equal=False, type=\"Ua\", rep=1000)"
   ]
  },
  {
   "cell_type": "code",
   "execution_count": 264,
   "metadata": {},
   "outputs": [
    {
     "name": "stdout",
     "output_type": "stream",
     "text": [
      "[-5.600926518328446, 1.7421802447543804, 0.9993291623356657]\n"
     ]
    }
   ],
   "source": [
    "np.random.seed(1)\n",
    "bootstrapT2(df_ua, is_test_cost=0, is_test_high=1, order=\"HDh\", equal=False, type=\"Ua\", rep=1000)"
   ]
  },
  {
   "cell_type": "markdown",
   "metadata": {},
   "source": [
    "H > D (2 bidders) for low cost, H > D (5 bidders) for low cost"
   ]
  },
  {
   "cell_type": "code",
   "execution_count": 265,
   "metadata": {},
   "outputs": [
    {
     "name": "stdout",
     "output_type": "stream",
     "text": [
      "[-3.1427414514853567, 0.5213963138239214, 0.9999999988566189]\n"
     ]
    }
   ],
   "source": [
    "np.random.seed(1)\n",
    "bootstrapT2(df_ua, is_test_cost=0, is_test_high=0, order=\"HDl\", equal=False, type=\"Ua\", rep=1000)"
   ]
  },
  {
   "cell_type": "code",
   "execution_count": 266,
   "metadata": {},
   "outputs": [
    {
     "name": "stdout",
     "output_type": "stream",
     "text": [
      "[-7.297101809729593, 2.054021090991965, 0.9998009785690786]\n"
     ]
    }
   ],
   "source": [
    "np.random.seed(1)\n",
    "bootstrapT2(df_ua, is_test_cost=0, is_test_high=0, order=\"HDh\", equal=False, type=\"Ua\", rep=1000)"
   ]
  },
  {
   "cell_type": "markdown",
   "metadata": {},
   "source": [
    "### Bidder utility"
   ]
  },
  {
   "cell_type": "markdown",
   "metadata": {},
   "source": [
    "H/D (high cost) > H/D (low cost) for 2 bidders"
   ]
  },
  {
   "cell_type": "code",
   "execution_count": 59,
   "metadata": {},
   "outputs": [
    {
     "name": "stdout",
     "output_type": "stream",
     "text": [
      "[0.3791630484891684, 0.30273041336887013, 0.10530344309985001]\n"
     ]
    }
   ],
   "source": [
    "np.random.seed(1)\n",
    "bootstrapT(df_ub, is_test_cost=1, is_test_high=0, type=\"Ub\", rep=1000)"
   ]
  },
  {
   "cell_type": "markdown",
   "metadata": {},
   "source": [
    "H/D (5 bidders) < H/D (2 bidders) for high cost "
   ]
  },
  {
   "cell_type": "code",
   "execution_count": 60,
   "metadata": {},
   "outputs": [
    {
     "name": "stdout",
     "output_type": "stream",
     "text": [
      "[0.81271008260383, 0.4167056725956958, 0.025692495494407896]\n"
     ]
    }
   ],
   "source": [
    "np.random.seed(1)\n",
    "bootstrapT(df_ub, is_test_cost=0, is_test_high=1, type=\"Ub\", rep=1000)"
   ]
  },
  {
   "cell_type": "markdown",
   "metadata": {},
   "source": [
    "H/D (5 bidders) < H/D (2 bidders) for low cost (mean and variance are not consistent)"
   ]
  },
  {
   "cell_type": "code",
   "execution_count": 61,
   "metadata": {},
   "outputs": [
    {
     "name": "stdout",
     "output_type": "stream",
     "text": [
      "[-3.441220611194904, 18.520132364515376, 0.5736853509581998]\n"
     ]
    }
   ],
   "source": [
    "np.random.seed(1)\n",
    "bootstrapT(df_ub, is_test_cost=0, is_test_high=0, type=\"Ub\", rep=1000)"
   ]
  },
  {
   "cell_type": "markdown",
   "metadata": {},
   "source": [
    "H > D (2 bidders) for high cost, H > D (5 bidders) for high cost"
   ]
  },
  {
   "cell_type": "code",
   "execution_count": 81,
   "metadata": {},
   "outputs": [
    {
     "name": "stdout",
     "output_type": "stream",
     "text": [
      "[5.145851209296156, 0.75636001455435, 8.268368745155891e-12]\n"
     ]
    }
   ],
   "source": [
    "np.random.seed(1)\n",
    "bootstrapT2(df_ub, is_test_cost=0, is_test_high=1, order=\"HDl\", equal=False, type=\"Ub\", rep=1000)"
   ]
  },
  {
   "cell_type": "code",
   "execution_count": 82,
   "metadata": {},
   "outputs": [
    {
     "name": "stdout",
     "output_type": "stream",
     "text": [
      "[1.049930845543658, 0.7974207553217564, 0.09411015742512437]\n"
     ]
    }
   ],
   "source": [
    "np.random.seed(1)\n",
    "bootstrapT2(df_ub, is_test_cost=0, is_test_high=1, order=\"HDh\", equal=False, type=\"Ub\", rep=1000)"
   ]
  },
  {
   "cell_type": "markdown",
   "metadata": {},
   "source": [
    "H > D (2 bidders) for low cost, H > D (5 bidders) for low cost"
   ]
  },
  {
   "cell_type": "code",
   "execution_count": 83,
   "metadata": {},
   "outputs": [
    {
     "name": "stdout",
     "output_type": "stream",
     "text": [
      "[6.099483354729518, 0.6615288322368609, 7.688337578048523e-20]\n"
     ]
    }
   ],
   "source": [
    "np.random.seed(1)\n",
    "bootstrapT2(df_ub, is_test_cost=0, is_test_high=0, order=\"HDl\", equal=False, type=\"Ub\", rep=1000)"
   ]
  },
  {
   "cell_type": "code",
   "execution_count": 84,
   "metadata": {},
   "outputs": [
    {
     "name": "stdout",
     "output_type": "stream",
     "text": [
      "[6.299183506026972, 1.800733430489206, 0.00024392815223056924]\n"
     ]
    }
   ],
   "source": [
    "np.random.seed(1)\n",
    "bootstrapT2(df_ub, is_test_cost=0, is_test_high=0, order=\"HDh\", equal=False, type=\"Ub\", rep=1000)"
   ]
  },
  {
   "cell_type": "markdown",
   "metadata": {},
   "source": [
    "### Auction duration"
   ]
  },
  {
   "cell_type": "markdown",
   "metadata": {},
   "source": [
    "H/D (5 bidders) > H/D (2 bidders) for high cost"
   ]
  },
  {
   "cell_type": "code",
   "execution_count": 62,
   "metadata": {},
   "outputs": [
    {
     "name": "stdout",
     "output_type": "stream",
     "text": [
      "[0.5951095007455524, 0.20982680825445396, 0.002323259888660759]\n"
     ]
    }
   ],
   "source": [
    "np.random.seed(1)\n",
    "bootstrapT(df_dura, is_test_cost=0, is_test_high=1, type=\"Dura\", rep=1000)"
   ]
  },
  {
   "cell_type": "markdown",
   "metadata": {},
   "source": [
    "H/D (5 bidders) > H/D (2 bidders) for low cost"
   ]
  },
  {
   "cell_type": "code",
   "execution_count": 63,
   "metadata": {},
   "outputs": [
    {
     "name": "stdout",
     "output_type": "stream",
     "text": [
      "[0.5263001055146553, 0.11863755491259295, 5.050188806842169e-06]\n"
     ]
    }
   ],
   "source": [
    "np.random.seed(1)\n",
    "bootstrapT(df_dura, is_test_cost=0, is_test_high=0, type=\"Dura\", rep=1000)"
   ]
  },
  {
   "cell_type": "markdown",
   "metadata": {},
   "source": [
    "D > H (2 bidders) for high cost, D > H (5 bidders) for high cost"
   ]
  },
  {
   "cell_type": "code",
   "execution_count": 85,
   "metadata": {},
   "outputs": [
    {
     "name": "stdout",
     "output_type": "stream",
     "text": [
      "[9.25647981630254, 1.6490445691052467, 1.2471714339282987e-08]\n"
     ]
    }
   ],
   "source": [
    "np.random.seed(1)\n",
    "bootstrapT2(df_dura, is_test_cost=0, is_test_high=1, order=\"DHl\", equal=False, type=\"Dura\", rep=1000)"
   ]
  },
  {
   "cell_type": "code",
   "execution_count": 86,
   "metadata": {},
   "outputs": [
    {
     "name": "stdout",
     "output_type": "stream",
     "text": [
      "[-4.082802934857378, 2.875434623029792, 0.9220430701621795]\n"
     ]
    }
   ],
   "source": [
    "np.random.seed(1)\n",
    "bootstrapT2(df_dura, is_test_cost=0, is_test_high=1, order=\"DHh\", equal=False, type=\"Dura\", rep=1000)"
   ]
  },
  {
   "cell_type": "markdown",
   "metadata": {},
   "source": [
    "D > H (2 bidders) for low cost, D > H (5 bidders) for low cost"
   ]
  },
  {
   "cell_type": "code",
   "execution_count": 87,
   "metadata": {},
   "outputs": [
    {
     "name": "stdout",
     "output_type": "stream",
     "text": [
      "[9.853151901160825, 0.9458419002971261, 1.422340383477502e-24]\n"
     ]
    }
   ],
   "source": [
    "np.random.seed(1)\n",
    "bootstrapT2(df_dura, is_test_cost=0, is_test_high=0, order=\"DHl\", equal=False, type=\"Dura\", rep=1000)"
   ]
  },
  {
   "cell_type": "code",
   "execution_count": 88,
   "metadata": {},
   "outputs": [
    {
     "name": "stdout",
     "output_type": "stream",
     "text": [
      "[-2.498656942127603, 0.984898870467112, 0.9943387062050213]\n"
     ]
    }
   ],
   "source": [
    "np.random.seed(1)\n",
    "bootstrapT2(df_dura, is_test_cost=0, is_test_high=0, order=\"DHh\", equal=False, type=\"Dura\", rep=1000)"
   ]
  },
  {
   "cell_type": "markdown",
   "metadata": {},
   "source": [
    "### Selling price"
   ]
  },
  {
   "cell_type": "markdown",
   "metadata": {},
   "source": [
    "H/D (5 bidders) = 0.988 for high cost, H/D (2 bidders) = 0.917 for high cost"
   ]
  },
  {
   "cell_type": "code",
   "execution_count": 201,
   "metadata": {},
   "outputs": [
    {
     "name": "stdout",
     "output_type": "stream",
     "text": [
      "5-bidder\n",
      "[-0.06759022852639274, 0.007277401811619307, 7.774673457314394e-20]\n",
      "2-bidder\n",
      "[-0.09214808831447485, 0.02468091132292367, 0.00019813620649469305]\n"
     ]
    }
   ],
   "source": [
    "np.random.seed(1)\n",
    "bootstrapT(df_sell, is_test_cost=0, is_test_high=1, type=\"Sell\", rep=1000)"
   ]
  },
  {
   "cell_type": "markdown",
   "metadata": {},
   "source": [
    "H/D (5 bidders) = 0.991 for low cost, H/D (2 bidders) = 1.011 for low cost"
   ]
  },
  {
   "cell_type": "code",
   "execution_count": 194,
   "metadata": {},
   "outputs": [
    {
     "name": "stdout",
     "output_type": "stream",
     "text": [
      "5-bidder\n",
      "[-0.1338765448865954, 0.04413147246190608, 0.0024748580062545745]\n",
      "2-bidder\n",
      "[-0.2704699597613438, 0.04091290279617724, 6.012741561156781e-11]\n"
     ]
    }
   ],
   "source": [
    "np.random.seed(1)\n",
    "bootstrapT(df_sell, is_test_cost=0, is_test_high=0, type=\"Sell\", rep=1000)"
   ]
  },
  {
   "cell_type": "markdown",
   "metadata": {},
   "source": [
    "### Efficiency"
   ]
  },
  {
   "cell_type": "markdown",
   "metadata": {},
   "source": [
    "H = D (high cost) for 2 bidders, H = D (low cost) for 2 bidders"
   ]
  },
  {
   "cell_type": "code",
   "execution_count": 195,
   "metadata": {},
   "outputs": [
    {
     "name": "stdout",
     "output_type": "stream",
     "text": [
      "[1.9178963415900228, 0.45837509424526396, 3.0408783792573194e-05]\n"
     ]
    }
   ],
   "source": [
    "np.random.seed(1)\n",
    "bootstrapT2(df_effi, is_test_cost=1, is_test_high=0, order=\"HDh\", equal=True, type=\"Effi\", rep=1000)"
   ]
  },
  {
   "cell_type": "code",
   "execution_count": 196,
   "metadata": {},
   "outputs": [
    {
     "name": "stdout",
     "output_type": "stream",
     "text": [
      "[1.3198913028827235, 0.9023783156593289, 0.14377922957424488]\n"
     ]
    }
   ],
   "source": [
    "np.random.seed(1)\n",
    "bootstrapT2(df_effi, is_test_cost=1, is_test_high=0, order=\"HDl\", equal=True, type=\"Effi\", rep=1000)"
   ]
  },
  {
   "cell_type": "markdown",
   "metadata": {},
   "source": [
    "H = D (high cost) for 5 bidders, H = D (low cost) for 5 bidders"
   ]
  },
  {
   "cell_type": "code",
   "execution_count": 197,
   "metadata": {},
   "outputs": [
    {
     "name": "stdout",
     "output_type": "stream",
     "text": [
      "[-0.14892516960524915, 0.6440122821830686, 0.8171823539025131]\n"
     ]
    }
   ],
   "source": [
    "np.random.seed(1)\n",
    "bootstrapT2(df_effi, is_test_cost=1, is_test_high=1, order=\"HDh\", equal=True, type=\"Effi\", rep=1000)"
   ]
  },
  {
   "cell_type": "code",
   "execution_count": 198,
   "metadata": {},
   "outputs": [
    {
     "name": "stdout",
     "output_type": "stream",
     "text": [
      "[3.017039457493965, 1.752481613948663, 0.0855281553103055]\n"
     ]
    }
   ],
   "source": [
    "np.random.seed(1)\n",
    "bootstrapT2(df_effi, is_test_cost=1, is_test_high=1, order=\"HDl\", equal=True, type=\"Effi\", rep=1000)"
   ]
  },
  {
   "cell_type": "markdown",
   "metadata": {},
   "source": [
    "### Efficiency pooled"
   ]
  },
  {
   "cell_type": "markdown",
   "metadata": {},
   "source": [
    "H = D"
   ]
  },
  {
   "cell_type": "code",
   "execution_count": 241,
   "metadata": {},
   "outputs": [
    {
     "name": "stdout",
     "output_type": "stream",
     "text": [
      "[1.536020718960728, 0.5140132329613755, 0.0028362782323746853]\n"
     ]
    }
   ],
   "source": [
    "np.random.seed(1)\n",
    "bootstrapPoolT(df_effi, \"Effi\", 1000)"
   ]
  }
 ],
 "metadata": {
  "kernelspec": {
   "display_name": "Python 3",
   "language": "python",
   "name": "python3"
  },
  "language_info": {
   "codemirror_mode": {
    "name": "ipython",
    "version": 3
   },
   "file_extension": ".py",
   "mimetype": "text/x-python",
   "name": "python",
   "nbconvert_exporter": "python",
   "pygments_lexer": "ipython3",
   "version": "3.9.5"
  },
  "orig_nbformat": 4
 },
 "nbformat": 4,
 "nbformat_minor": 2
}
