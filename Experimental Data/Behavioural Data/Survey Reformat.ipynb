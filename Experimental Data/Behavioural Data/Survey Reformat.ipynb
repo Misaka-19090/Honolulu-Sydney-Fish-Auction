{
 "cells": [
  {
   "cell_type": "code",
   "execution_count": 49,
   "metadata": {},
   "outputs": [],
   "source": [
    "import pandas as pd\n",
    "import numpy as np"
   ]
  },
  {
   "cell_type": "markdown",
   "metadata": {},
   "source": [
    "### Reformat"
   ]
  },
  {
   "cell_type": "code",
   "execution_count": 50,
   "metadata": {},
   "outputs": [],
   "source": [
    "df_pre = pd.read_csv(\"PART 1 BEHAVIORAL SURVEY.csv\", header=0, skiprows=[1, 2])\n",
    "df_post = pd.read_csv(\"PART 2 BEHAVIORAL SURVEY.csv\",  header=0, skiprows=[1, 2])"
   ]
  },
  {
   "cell_type": "code",
   "execution_count": 51,
   "metadata": {},
   "outputs": [],
   "source": [
    "match_q1 = {\n",
    "    \"Q65\": {\"num\": \"Q1.1\", \"sol\": \"D\"},\n",
    "    \"Q66\": {\"num\": \"Q1.2\", \"sol\": \"C\"},\n",
    "    \"Q67\": {\"num\": \"Q1.3\", \"sol\": \"E\"},\n",
    "    \"Q68\": {\"num\": \"Q1.4\", \"sol\": \"B\"},\n",
    "    \"Q84\": {\"num\": \"Q1.5\", \"sol\": \"B\"},\n",
    "}\n",
    "match_q2 = {\n",
    "    \"Q85\": {\"num\": \"Q2.1\", \"sol\": 25},\n",
    "    \"Q86\": {\"num\": \"Q2.2\", \"sol\": 10},\n",
    "    \"Q87\": {\"num\": \"Q2.3\", \"sol\": 35},\n",
    "    \"Q88\": {\"num\": \"Q2.4\", \"sol\": 32},\n",
    "    \"Q89\": {\"num\": \"Q2.5\", \"sol\": 8},\n",
    "}\n",
    "match_q3 = {\n",
    "    \"Q3.1\": {\"Q1\": 160},\n",
    "    \"Q3.2\": {\"Q17\": 240, \"Q2\": 80},\n",
    "    \"Q3.3\": {\"Q25\": 280, \"Q18\": 200, \"Q10\": 120, \"Q3\": 40},\n",
    "    \"Q3.4\": {\n",
    "        \"Q29\": 300, \"Q26\": 260, \"Q22\": 220, \"Q19\": 180,\n",
    "        \"Q14\": 140, \"Q11\": 100, \"Q4\": 60, \"Q7\": 20,\n",
    "    },\n",
    "    \"Q3.5\": {\n",
    "        \"Q31\": 310, \"Q30\": 290, \"Q27\": 270, \"Q28\": 250,\n",
    "        \"Q23\": 230, \"Q24\": 210, \"Q20\": 190, \"Q21\": 170,\n",
    "        \"Q15\": 150, \"Q16\": 130, \"Q13\": 110, \"Q12\": 90,\n",
    "        \"Q5\": 70, \"Q6\": 50, \"Q8\": 30, \"Q9\": 10,\n",
    "    },\n",
    "}\n",
    "match_q4 = {\n",
    "    \"Q4.1\": {\"Q4.1\": 154},\n",
    "    \"Q4.2\": {\"Q4.17\": 185, \"Q4.2\": 125},\n",
    "    \"Q4.3\": {\"Q4.18\": 202, \"Q4.25\": 169, \"Q4.10\": 139, \"Q4.3\": 112},\n",
    "    \"Q4.4\": {\n",
    "        \"Q4.22\": 210, \"Q4.19\": 193, \"Q4.29\": 177, \"Q4.26\": 161,\n",
    "        \"Q4.14\": 146, \"Q4.11\": 132, \"Q4.7\": 119, \"Q4.4\": 106,\n",
    "    },\n",
    "    \"Q4.5\": {\n",
    "        \"Q4.23\": 215, \"Q4.24\": 206, \"Q4.20\": 197, \"Q4.21\": 189,\n",
    "        \"Q4.31\": 181, \"Q4.30\": 173, \"Q4.28\": 165, \"Q4.27\": 158,\n",
    "        \"Q4.16\": 150, \"Q4.15\": 143, \"Q4.13\": 136, \"Q4.12\": 129,\n",
    "        \"Q4.8\": 122, \"Q4.9\": 116, \"Q4.6\": 109, \"Q4.5\": 103,\n",
    "    },\n",
    "}"
   ]
  },
  {
   "cell_type": "code",
   "execution_count": 52,
   "metadata": {},
   "outputs": [],
   "source": [
    "dfnew_pre = pd.DataFrame()\n",
    "dfnew_pre[[\"session.code\", \"participant.code\", \"participant.label\"]] = df_pre[[\"password\", \"participant_code\", \"participant_label\"]]\n",
    "for key in match_q1:\n",
    "    dfnew_pre[match_q1[key][\"num\"]] = df_pre[key]\n",
    "    dfnew_pre[match_q1[key][\"num\"] + \"_score\"] = (df_pre[key] == match_q1[key][\"sol\"]).astype(\"int\")\n",
    "for key in match_q2:\n",
    "    dfnew_pre[match_q2[key][\"num\"]] = df_pre[key]\n",
    "    dfnew_pre[match_q2[key][\"num\"] + \"_score\"] = (df_pre[key] == match_q2[key][\"sol\"]).astype(\"int\")\n",
    "for key1 in match_q3:\n",
    "    dfnew_pre[key1 + \"_sure_offer\"] = 0\n",
    "    dfnew_pre[key1 + \"_choice\"] = np.nan\n",
    "    for key2 in match_q3[key1]:\n",
    "        dfnew_pre[key1 + \"_sure_offer\"] += df_pre[key2].notnull() * match_q3[key1][key2]\n",
    "        dfnew_pre.loc[df_pre[key2].notnull(), key1 + \"_choice\"] = df_pre.loc[df_pre[key2].notnull(), key2]\n",
    "for key1 in match_q4:\n",
    "    dfnew_pre[key1 + \"_today_offer\"] = 0\n",
    "    dfnew_pre[key1 + \"_choice\"] = np.nan\n",
    "    for key2 in match_q4[key1]:\n",
    "        dfnew_pre[key1 + \"_today_offer\"] += df_pre[key2].notnull() * match_q4[key1][key2]\n",
    "        dfnew_pre.loc[df_pre[key2].notnull(), key1 + \"_choice\"] = df_pre.loc[df_pre[key2].notnull(), key2]"
   ]
  },
  {
   "cell_type": "code",
   "execution_count": 53,
   "metadata": {},
   "outputs": [
    {
     "name": "stderr",
     "output_type": "stream",
     "text": [
      "c:\\Program Files\\Python39\\lib\\site-packages\\pandas\\core\\frame.py:5034: SettingWithCopyWarning: \n",
      "A value is trying to be set on a copy of a slice from a DataFrame\n",
      "\n",
      "See the caveats in the documentation: https://pandas.pydata.org/pandas-docs/stable/user_guide/indexing.html#returning-a-view-versus-a-copy\n",
      "  return super().rename(\n"
     ]
    }
   ],
   "source": [
    "dfnew_post = df_post.iloc[[df_post[\"participant_id\"][i] in dfnew_pre[\"participant.code\"].values for i in range(len(df_post))]]\n",
    "dfnew_post.rename(columns={\"participant_id\": \"participant.code\"}, inplace=True)"
   ]
  },
  {
   "cell_type": "code",
   "execution_count": 54,
   "metadata": {},
   "outputs": [],
   "source": [
    "dfnew_pre.to_csv(\"PART 1 new.csv\", header=True, index=None)\n",
    "dfnew_post.to_csv(\"PART 2 new.csv\", header=True, index=None)"
   ]
  },
  {
   "cell_type": "markdown",
   "metadata": {},
   "source": [
    "### Text to num"
   ]
  },
  {
   "cell_type": "code",
   "execution_count": 55,
   "metadata": {},
   "outputs": [],
   "source": [
    "dfnew = pd.merge(dfnew_pre, dfnew_post, on=\"participant.code\")"
   ]
  },
  {
   "cell_type": "code",
   "execution_count": 56,
   "metadata": {},
   "outputs": [],
   "source": [
    "dict_like = {\n",
    "    \"Not at all like me\": 1,\n",
    "    \"Not like me\": 2,\n",
    "    \"Somewhat not like me\": 3,\n",
    "    \"Neutral\": 4,\n",
    "    \"Somewhat like me\": 5,\n",
    "    \"Like me\": 6,\n",
    "    \"Exactly like me\": 7,\n",
    "}\n",
    "dict_will = {\n",
    "    \"Completely unwilling to do so\": 1,\n",
    "    \"Unwilling\": 2,\n",
    "    \"Somewhat unwilling\": 3,\n",
    "    \"Neither unwilling nor willing\": 4,\n",
    "    \"Somewhat willing\": 5,\n",
    "    \"Willing\": 6,\n",
    "    \"Completely willing to do so\": 7,\n",
    "}\n",
    "dict_patient = {\n",
    "    \"Very impatient person\": 1,\n",
    "    \"Impatient person\": 2,\n",
    "    \"Somewhat impatient\": 3,\n",
    "    \"Neutral\": 4,\n",
    "    \"Somewhat patient\": 5,\n",
    "    \"Patient\": 6,\n",
    "    \"Extremely patient\": 7,\n",
    "}\n",
    "dict_agree = {\n",
    "    \"Strongly disagree\": 1,\n",
    "    \"Disagree\": 2,\n",
    "    \"Somewhat disagree\": 3,\n",
    "    \"Neither agree nor disagree\": 4,\n",
    "    \"Somewhat agree\": 5,\n",
    "    \"Agree\": 6,\n",
    "    \"Strongly agree\": 7,\n",
    "}"
   ]
  },
  {
   "cell_type": "code",
   "execution_count": 57,
   "metadata": {},
   "outputs": [],
   "source": [
    "dfnew.replace({\n",
    "    \"Q3\": dict_like,\n",
    "    \"Q4\": dict_agree,\n",
    "    \"Q5\": dict_agree,\n",
    "    \"Q6\": dict_agree,\n",
    "    \"Q7\": dict_agree,\n",
    "    \"Q8\": dict_agree,\n",
    "    \"Q9\": dict_agree,\n",
    "    \"Q10\": dict_will,\n",
    "    \"Q11\": dict_patient,\n",
    "    \"Q12\": dict_will,\n",
    "}, inplace=True)"
   ]
  },
  {
   "cell_type": "code",
   "execution_count": 59,
   "metadata": {},
   "outputs": [],
   "source": [
    "dfnew.to_csv(\"Combined survey.csv\", header=True, index=None)"
   ]
  }
 ],
 "metadata": {
  "interpreter": {
   "hash": "11938c6bc6919ae2720b4d5011047913343b08a43b18698fd82dedb0d4417594"
  },
  "kernelspec": {
   "display_name": "Python 3.9.5 64-bit",
   "language": "python",
   "name": "python3"
  },
  "language_info": {
   "codemirror_mode": {
    "name": "ipython",
    "version": 3
   },
   "file_extension": ".py",
   "mimetype": "text/x-python",
   "name": "python",
   "nbconvert_exporter": "python",
   "pygments_lexer": "ipython3",
   "version": "3.9.5"
  },
  "orig_nbformat": 4
 },
 "nbformat": 4,
 "nbformat_minor": 2
}
